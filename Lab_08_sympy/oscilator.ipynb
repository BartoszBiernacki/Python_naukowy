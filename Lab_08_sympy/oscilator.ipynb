{
 "cells": [
  {
   "cell_type": "code",
   "execution_count": 1,
   "id": "43469ca3-72cb-4800-92c3-d5d3ace42e00",
   "metadata": {},
   "outputs": [],
   "source": [
    "import sympy as smp\n",
    "import numpy as np\n",
    "import matplotlib.pyplot as plt\n",
    "import ipywidgets as widgets"
   ]
  },
  {
   "cell_type": "markdown",
   "id": "37eedcf9-ec9a-483e-8a7d-5009fa1c139c",
   "metadata": {},
   "source": [
    "## Oscylator z tłumieniem\n",
    "$$F = -bv -kx$$\n",
    "$$m\\ddot x = -b \\dot x - kx $$\n",
    "$$\\ddot x = -2\\beta \\dot x - \\omega_0^2 x $$"
   ]
  },
  {
   "cell_type": "code",
   "execution_count": 4,
   "id": "67d52e40-1f18-46dc-8df1-86b5e9a121cf",
   "metadata": {},
   "outputs": [
    {
     "data": {
      "text/latex": [
       "$\\displaystyle \\frac{d^{2}}{d t^{2}} x{\\left(t \\right)} = - 2 \\beta \\frac{d}{d t} x{\\left(t \\right)} - \\omega_{0}^{2} x{\\left(t \\right)}$"
      ],
      "text/plain": [
       "Eq(Derivative(x(t), (t, 2)), -2*beta*Derivative(x(t), t) - omega_0**2*x(t))"
      ]
     },
     "metadata": {},
     "output_type": "display_data"
    },
    {
     "data": {
      "text/latex": [
       "$\\displaystyle x{\\left(t \\right)} = \\frac{\\sqrt{\\beta^{2} - \\omega_{0}^{2}} \\left(\\left(- \\beta x_{0} - v_{0} + x_{0} \\sqrt{\\beta^{2} - \\omega_{0}^{2}}\\right) e^{t \\left(\\beta - \\sqrt{\\beta - \\omega_{0}} \\sqrt{\\beta + \\omega_{0}}\\right)} + \\left(\\beta x_{0} + v_{0} + x_{0} \\sqrt{\\beta^{2} - \\omega_{0}^{2}}\\right) e^{t \\left(\\beta + \\sqrt{\\beta - \\omega_{0}} \\sqrt{\\beta + \\omega_{0}}\\right)}\\right) e^{- 2 \\beta t}}{2 \\left(\\beta - \\omega_{0}\\right) \\left(\\beta + \\omega_{0}\\right)}$"
      ],
      "text/plain": [
       "Eq(x(t), sqrt(beta**2 - omega_0**2)*((-beta*x_0 - v_0 + x_0*sqrt(beta**2 - omega_0**2))*exp(t*(beta - sqrt(beta - omega_0)*sqrt(beta + omega_0))) + (beta*x_0 + v_0 + x_0*sqrt(beta**2 - omega_0**2))*exp(t*(beta + sqrt(beta - omega_0)*sqrt(beta + omega_0))))*exp(-2*beta*t)/(2*(beta - omega_0)*(beta + omega_0)))"
      ]
     },
     "metadata": {},
     "output_type": "display_data"
    },
    {
     "data": {
      "application/vnd.jupyter.widget-view+json": {
       "model_id": "47e9b22b6c7f4ba38a05a43264939c3a",
       "version_major": 2,
       "version_minor": 0
      },
      "text/plain": [
       "interactive(children=(IntSlider(value=50, description='$t_{\\\\max}$', layout=Layout(width='100%'), max=200, min…"
      ]
     },
     "metadata": {},
     "output_type": "display_data"
    }
   ],
   "source": [
    "x = smp.Function('x')\n",
    "t = smp.Symbol('t', real=True)\n",
    "\n",
    "beta = smp.Symbol('beta', positive=True)\n",
    "omega0 = smp.Symbol('omega_0', positive=True)\n",
    "\n",
    "x0 = smp.Symbol('x_0', real=True)\n",
    "v0 = smp.Symbol('v_0', real=True)\n",
    "\n",
    "\n",
    "eq = smp.Eq(\n",
    "    x(t).diff(t, 2),\n",
    "    -2 * beta * x(t).diff(t)  -  omega0**2 * x(t)\n",
    ")\n",
    "display(eq)\n",
    "\n",
    "\n",
    "ics = {\n",
    "    x(0): x0,\n",
    "    x(t).diff(t).subs(t, 0): v0\n",
    "}\n",
    "\n",
    "sol = smp.dsolve(eq, x(t), ics=ics).simplify()\n",
    "display(sol)\n",
    "\n",
    "\n",
    "sol_ = smp.lambdify([t, beta, omega0, x0, v0], sol.rhs)\n",
    "def plot_sol_(t_max, beta, omega0, x0, v0):\n",
    "    \n",
    "    t_ = np.arange(0, t_max, 0.01)\n",
    "    x_ = np.real(sol_(t=t_, beta=beta+0j, omega_0=omega0, x_0=x0, v_0=v0))\n",
    "\n",
    "    plt.plot(t_, x_, label=r'rozw')\n",
    "    plt.show()\n",
    "\n",
    "\n",
    "iplot = widgets.interact(\n",
    "    plot_sol_,\n",
    "    t_max=widgets.IntSlider(\n",
    "        value=50, min=10, max=200, step=1,\n",
    "        description=r'$t_{\\max}$', layout={'width': '100%'}),\n",
    "    beta=widgets.FloatSlider(\n",
    "        value=0.1, min=0, max=3, step=0.01, readout_format='.2f',\n",
    "        description=r'$\\beta$', layout={'width': '100%'}),\n",
    "    omega0=widgets.FloatSlider(\n",
    "        value=1, min=0, max=10, step=0.01, readout_format='.2f',\n",
    "        description=r'$\\omega_0$', layout={'width': '100%'}),\n",
    "    x0=widgets.FloatSlider(\n",
    "        value=1, min=-10, max=10, step=0.1, readout_format='.1f',\n",
    "        description=r'$\\x_0$', layout={'width': '100%'}),\n",
    "    v0=widgets.FloatSlider(\n",
    "        value=0, min=-100, max=100, step=0.1, readout_format='.1f',\n",
    "        description=r'$\\v_0$', layout={'width': '100%'}),\n",
    ")"
   ]
  },
  {
   "cell_type": "markdown",
   "id": "54924265-20c3-4363-989a-84962b665e62",
   "metadata": {},
   "source": [
    "## Oscylator z wymuszeniem\n",
    "$$F = -kx + F_0 \\cos(\\Omega t)$$\n",
    "$$m\\ddot x = - kx +  F_0 \\cos(\\Omega t)$$\n",
    "$$\\ddot x = -\\omega_0^2 x + a \\cos(\\Omega t)$$"
   ]
  },
  {
   "cell_type": "code",
   "execution_count": 8,
   "id": "968d123c-c13e-4759-9104-13adfa91909c",
   "metadata": {},
   "outputs": [
    {
     "data": {
      "text/latex": [
       "$\\displaystyle \\frac{d^{2}}{d t^{2}} x{\\left(t \\right)} = a \\cos{\\left(\\Omega t \\right)} - \\omega_{0}^{2} x{\\left(t \\right)}$"
      ],
      "text/plain": [
       "Eq(Derivative(x(t), (t, 2)), a*cos(Omega*t) - omega_0**2*x(t))"
      ]
     },
     "metadata": {},
     "output_type": "display_data"
    },
    {
     "data": {
      "text/latex": [
       "$\\displaystyle x{\\left(t \\right)} = \\frac{\\omega_{0} \\left(- a \\cos{\\left(\\Omega t \\right)} + \\left(\\Omega^{2} x_{0} + a - \\omega_{0}^{2} x_{0}\\right) \\cos{\\left(\\omega_{0} t \\right)}\\right) + v_{0} \\left(\\Omega^{2} - \\omega_{0}^{2}\\right) \\sin{\\left(\\omega_{0} t \\right)}}{\\omega_{0} \\left(\\Omega^{2} - \\omega_{0}^{2}\\right)}$"
      ],
      "text/plain": [
       "Eq(x(t), (omega_0*(-a*cos(Omega*t) + (Omega**2*x_0 + a - omega_0**2*x_0)*cos(omega_0*t)) + v_0*(Omega**2 - omega_0**2)*sin(omega_0*t))/(omega_0*(Omega**2 - omega_0**2)))"
      ]
     },
     "metadata": {},
     "output_type": "display_data"
    },
    {
     "data": {
      "application/vnd.jupyter.widget-view+json": {
       "model_id": "e8bd25eb20854edb8a45df7a0aa049d5",
       "version_major": 2,
       "version_minor": 0
      },
      "text/plain": [
       "interactive(children=(IntSlider(value=130, description='$t_{\\\\max}$', layout=Layout(width='100%'), max=200, mi…"
      ]
     },
     "metadata": {},
     "output_type": "display_data"
    }
   ],
   "source": [
    "x = smp.Function('x')\n",
    "t = smp.Symbol('t', real=True)\n",
    "\n",
    "omega0 = smp.Symbol('omega_0', positive=True)\n",
    "a = smp.Symbol('a', positive=True)\n",
    "Omega =  smp.Symbol('Omega', positive=True)\n",
    "\n",
    "x0 = smp.Symbol('x_0', real=True)\n",
    "v0 = smp.Symbol('v_0', real=True)\n",
    "\n",
    "\n",
    "eq = smp.Eq(\n",
    "    x(t).diff(t, 2),\n",
    "    - omega0**2 * x(t)  + a*smp.cos(Omega*t)\n",
    ")\n",
    "display(eq)\n",
    "\n",
    "\n",
    "ics = {\n",
    "    x(0): x0,\n",
    "    x(t).diff(t).subs(t, 0): v0\n",
    "}\n",
    "\n",
    "sol = smp.dsolve(eq, x(t), ics=ics).simplify()\n",
    "display(sol)\n",
    "\n",
    "\n",
    "sol_ = smp.lambdify([t, omega0, a, Omega, x0, v0], sol.rhs)\n",
    "def plot_sol_(t_max, omega0, a, Omega, x0, v0):\n",
    "    \n",
    "    t_ = np.arange(0, t_max, 0.01)\n",
    "    x_ = np.real(sol_(t=t_, omega_0=omega0, a=a, Omega=Omega, x_0=x0, v_0=v0))\n",
    "\n",
    "    plt.plot(t_, x_, label=r'rozw')\n",
    "    plt.show()\n",
    "\n",
    "\n",
    "iplot = widgets.interact(\n",
    "    plot_sol_,\n",
    "    t_max=widgets.IntSlider(\n",
    "        value=130, min=10, max=200, step=1,\n",
    "        description=r'$t_{\\max}$', layout={'width': '100%'}),\n",
    "    omega0=widgets.FloatSlider(\n",
    "        value=1, min=0, max=5, step=0.01, readout_format='.2f',\n",
    "        description=r'$\\omega_0$', layout={'width': '100%'}),\n",
    "    a=widgets.FloatSlider(\n",
    "        value=1, min=0, max=3, step=0.01, readout_format='.2f',\n",
    "        description='a', layout={'width': '100%'}),\n",
    "    Omega=widgets.FloatSlider(\n",
    "        value=1.1, min=0, max=5, step=0.01, readout_format='.2f',\n",
    "        description=r'$\\Omega$', layout={'width': '100%'}),\n",
    "    x0=widgets.FloatSlider(\n",
    "        value=1, min=-10, max=10, step=0.1, readout_format='.1f',\n",
    "        description=r'$\\x_0$', layout={'width': '100%'}),\n",
    "    v0=widgets.FloatSlider(\n",
    "        value=0, min=-100, max=100, step=0.1, readout_format='.1f',\n",
    "        description=r'$\\v_0$', layout={'width': '100%'}),\n",
    ")"
   ]
  },
  {
   "cell_type": "markdown",
   "id": "eb73aaff-7264-4225-9caf-c3ee59c5532e",
   "metadata": {},
   "source": [
    "## Oscylator z tłumieniem oraz wymuszeniem\n",
    "$$F = -bv -kx + F_0 \\cos(\\Omega t)$$\n",
    "$$m\\ddot x = -b \\dot x - kx + F_0 \\cos(\\Omega t)$$\n",
    "$$\\ddot x = -\\beta \\dot x -\\omega_0^2 x + a \\cos(\\Omega t)$$"
   ]
  },
  {
   "cell_type": "code",
   "execution_count": 20,
   "id": "4fe23d7a-4c5e-439e-9a5e-2a1f420c4c7d",
   "metadata": {},
   "outputs": [
    {
     "data": {
      "text/latex": [
       "$\\displaystyle \\frac{d^{2}}{d t^{2}} x{\\left(t \\right)} = a \\cos{\\left(\\Omega t \\right)} - \\beta \\frac{d}{d t} x{\\left(t \\right)} - \\omega_{0}^{2} x{\\left(t \\right)}$"
      ],
      "text/plain": [
       "Eq(Derivative(x(t), (t, 2)), a*cos(Omega*t) - beta*Derivative(x(t), t) - omega_0**2*x(t))"
      ]
     },
     "metadata": {},
     "output_type": "display_data"
    },
    {
     "data": {
      "text/latex": [
       "$\\displaystyle x{\\left(t \\right)} = \\frac{\\left(2 a \\left(\\beta - 2 \\omega_{0}\\right) \\left(\\beta + 2 \\omega_{0}\\right) \\left(- \\Omega^{2} \\cos{\\left(\\Omega t \\right)} + \\Omega \\beta \\sin{\\left(\\Omega t \\right)} + \\omega_{0}^{2} \\cos{\\left(\\Omega t \\right)}\\right) e^{\\beta t} + \\sqrt{\\beta^{2} - 4 \\omega_{0}^{2}} \\left(- \\Omega^{4} \\beta x_{0} - 2 \\Omega^{4} v_{0} + \\Omega^{4} x_{0} \\sqrt{\\beta^{2} - 4 \\omega_{0}^{2}} + \\Omega^{2} a \\beta + \\Omega^{2} a \\sqrt{\\beta^{2} - 4 \\omega_{0}^{2}} - \\Omega^{2} \\beta^{3} x_{0} - 2 \\Omega^{2} \\beta^{2} v_{0} + \\Omega^{2} \\beta^{2} x_{0} \\sqrt{\\beta^{2} - 4 \\omega_{0}^{2}} + 2 \\Omega^{2} \\beta \\omega_{0}^{2} x_{0} + 4 \\Omega^{2} \\omega_{0}^{2} v_{0} - 2 \\Omega^{2} \\omega_{0}^{2} x_{0} \\sqrt{\\beta^{2} - 4 \\omega_{0}^{2}} + a \\beta \\omega_{0}^{2} - a \\omega_{0}^{2} \\sqrt{\\beta^{2} - 4 \\omega_{0}^{2}} - \\beta \\omega_{0}^{4} x_{0} - 2 \\omega_{0}^{4} v_{0} + \\omega_{0}^{4} x_{0} \\sqrt{\\beta^{2} - 4 \\omega_{0}^{2}}\\right) e^{\\frac{t \\left(\\beta - \\sqrt{\\beta - 2 \\omega_{0}} \\sqrt{\\beta + 2 \\omega_{0}}\\right)}{2}} + \\sqrt{\\beta^{2} - 4 \\omega_{0}^{2}} \\left(\\Omega^{4} \\beta x_{0} + 2 \\Omega^{4} v_{0} + \\Omega^{4} x_{0} \\sqrt{\\beta^{2} - 4 \\omega_{0}^{2}} - \\Omega^{2} a \\beta + \\Omega^{2} a \\sqrt{\\beta^{2} - 4 \\omega_{0}^{2}} + \\Omega^{2} \\beta^{3} x_{0} + 2 \\Omega^{2} \\beta^{2} v_{0} + \\Omega^{2} \\beta^{2} x_{0} \\sqrt{\\beta^{2} - 4 \\omega_{0}^{2}} - 2 \\Omega^{2} \\beta \\omega_{0}^{2} x_{0} - 4 \\Omega^{2} \\omega_{0}^{2} v_{0} - 2 \\Omega^{2} \\omega_{0}^{2} x_{0} \\sqrt{\\beta^{2} - 4 \\omega_{0}^{2}} - a \\beta \\omega_{0}^{2} - a \\omega_{0}^{2} \\sqrt{\\beta^{2} - 4 \\omega_{0}^{2}} + \\beta \\omega_{0}^{4} x_{0} + 2 \\omega_{0}^{4} v_{0} + \\omega_{0}^{4} x_{0} \\sqrt{\\beta^{2} - 4 \\omega_{0}^{2}}\\right) e^{\\frac{t \\left(\\beta + \\sqrt{\\beta - 2 \\omega_{0}} \\sqrt{\\beta + 2 \\omega_{0}}\\right)}{2}}\\right) e^{- \\beta t}}{2 \\left(\\beta - 2 \\omega_{0}\\right) \\left(\\beta + 2 \\omega_{0}\\right) \\left(\\Omega^{4} + \\Omega^{2} \\beta^{2} - 2 \\Omega^{2} \\omega_{0}^{2} + \\omega_{0}^{4}\\right)}$"
      ],
      "text/plain": [
       "Eq(x(t), (2*a*(beta - 2*omega_0)*(beta + 2*omega_0)*(-Omega**2*cos(Omega*t) + Omega*beta*sin(Omega*t) + omega_0**2*cos(Omega*t))*exp(beta*t) + sqrt(beta**2 - 4*omega_0**2)*(-Omega**4*beta*x_0 - 2*Omega**4*v_0 + Omega**4*x_0*sqrt(beta**2 - 4*omega_0**2) + Omega**2*a*beta + Omega**2*a*sqrt(beta**2 - 4*omega_0**2) - Omega**2*beta**3*x_0 - 2*Omega**2*beta**2*v_0 + Omega**2*beta**2*x_0*sqrt(beta**2 - 4*omega_0**2) + 2*Omega**2*beta*omega_0**2*x_0 + 4*Omega**2*omega_0**2*v_0 - 2*Omega**2*omega_0**2*x_0*sqrt(beta**2 - 4*omega_0**2) + a*beta*omega_0**2 - a*omega_0**2*sqrt(beta**2 - 4*omega_0**2) - beta*omega_0**4*x_0 - 2*omega_0**4*v_0 + omega_0**4*x_0*sqrt(beta**2 - 4*omega_0**2))*exp(t*(beta - sqrt(beta - 2*omega_0)*sqrt(beta + 2*omega_0))/2) + sqrt(beta**2 - 4*omega_0**2)*(Omega**4*beta*x_0 + 2*Omega**4*v_0 + Omega**4*x_0*sqrt(beta**2 - 4*omega_0**2) - Omega**2*a*beta + Omega**2*a*sqrt(beta**2 - 4*omega_0**2) + Omega**2*beta**3*x_0 + 2*Omega**2*beta**2*v_0 + Omega**2*beta**2*x_0*sqrt(beta**2 - 4*omega_0**2) - 2*Omega**2*beta*omega_0**2*x_0 - 4*Omega**2*omega_0**2*v_0 - 2*Omega**2*omega_0**2*x_0*sqrt(beta**2 - 4*omega_0**2) - a*beta*omega_0**2 - a*omega_0**2*sqrt(beta**2 - 4*omega_0**2) + beta*omega_0**4*x_0 + 2*omega_0**4*v_0 + omega_0**4*x_0*sqrt(beta**2 - 4*omega_0**2))*exp(t*(beta + sqrt(beta - 2*omega_0)*sqrt(beta + 2*omega_0))/2))*exp(-beta*t)/(2*(beta - 2*omega_0)*(beta + 2*omega_0)*(Omega**4 + Omega**2*beta**2 - 2*Omega**2*omega_0**2 + omega_0**4)))"
      ]
     },
     "metadata": {},
     "output_type": "display_data"
    },
    {
     "data": {
      "application/vnd.jupyter.widget-view+json": {
       "model_id": "d52fd4366b9e400ead23b3667e2f9321",
       "version_major": 2,
       "version_minor": 0
      },
      "text/plain": [
       "interactive(children=(IntSlider(value=50, description='$t_{\\\\max}$', layout=Layout(width='100%'), max=200, min…"
      ]
     },
     "metadata": {},
     "output_type": "display_data"
    }
   ],
   "source": [
    "x = smp.Function('x')\n",
    "t = smp.Symbol('t', real=True)\n",
    "\n",
    "beta = smp.Symbol('beta', positive=True)\n",
    "omega0 = smp.Symbol('omega_0', positive=True)\n",
    "a = smp.Symbol('a', positive=True)\n",
    "Omega =  smp.Symbol('Omega', positive=True)\n",
    "\n",
    "x0 = smp.Symbol('x_0', real=True)\n",
    "v0 = smp.Symbol('v_0', real=True)\n",
    "\n",
    "\n",
    "eq = smp.Eq(\n",
    "    x(t).diff(t, 2),\n",
    "    -beta * x(t).diff(t)  - omega0**2 * x(t)  + a*smp.cos(Omega*t)\n",
    ")\n",
    "display(eq)\n",
    "\n",
    "\n",
    "ics = {\n",
    "    x(0): x0,\n",
    "    x(t).diff(t).subs(t, 0): v0\n",
    "}\n",
    "\n",
    "sol = smp.dsolve(eq, x(t), ics=ics).simplify()\n",
    "display(sol)\n",
    "\n",
    "\n",
    "sol_ = smp.lambdify([t, beta, omega0, a, Omega, x0, v0], sol.rhs)\n",
    "def plot_sol_(t_max, beta, omega0, a, Omega, x0, v0):\n",
    "    \n",
    "    t_ = np.arange(0, t_max, 0.01)\n",
    "    x_ = np.real(sol_(t=t_, beta=beta+0j, omega_0=omega0, a=a, Omega=Omega, x_0=x0, v_0=v0))\n",
    "\n",
    "    plt.plot(t_, x_, label=r'rozw')\n",
    "    plt.show()\n",
    "\n",
    "\n",
    "iplot = widgets.interact(\n",
    "    plot_sol_,\n",
    "    t_max=widgets.IntSlider(\n",
    "        value=50, min=10, max=200, step=1,\n",
    "        description=r'$t_{\\max}$', layout={'width': '100%'}),\n",
    "    beta=widgets.FloatSlider(\n",
    "        value=0.26, min=0, max=3, step=0.01, readout_format='.2f',\n",
    "        description=r'$\\beta$', layout={'width': '100%'}),\n",
    "    omega0=widgets.FloatSlider(\n",
    "        value=3, min=0, max=5, step=0.01, readout_format='.2f',\n",
    "        description=r'$\\omega_0$', layout={'width': '100%'}),\n",
    "    a=widgets.FloatSlider(\n",
    "        value=1.1, min=0, max=3, step=0.01, readout_format='.2f',\n",
    "        description='a', layout={'width': '100%'}),\n",
    "    Omega=widgets.FloatSlider(\n",
    "        value=1.2, min=0, max=5, step=0.01, readout_format='.2f',\n",
    "        description=r'$\\Omega$', layout={'width': '100%'}),\n",
    "    x0=widgets.FloatSlider(\n",
    "        value=1, min=-10, max=10, step=0.1, readout_format='.1f',\n",
    "        description=r'$\\x_0$', layout={'width': '100%'}),\n",
    "    v0=widgets.FloatSlider(\n",
    "        value=0, min=-100, max=100, step=0.1, readout_format='.1f',\n",
    "        description=r'$\\v_0$', layout={'width': '100%'}),\n",
    ")"
   ]
  }
 ],
 "metadata": {
  "kernelspec": {
   "display_name": "SCRIPTS",
   "language": "python",
   "name": "scripts"
  },
  "language_info": {
   "codemirror_mode": {
    "name": "ipython",
    "version": 3
   },
   "file_extension": ".py",
   "mimetype": "text/x-python",
   "name": "python",
   "nbconvert_exporter": "python",
   "pygments_lexer": "ipython3",
   "version": "3.11.7"
  },
  "widgets": {
   "application/vnd.jupyter.widget-state+json": {
    "state": {
     "003ea9d69fe14f54b44bfb76e1856bd3": {
      "model_module": "@jupyter-widgets/controls",
      "model_module_version": "2.0.0",
      "model_name": "SliderStyleModel",
      "state": {
       "description_width": ""
      }
     },
     "033e87cc34e04fa4891554992cafa87f": {
      "model_module": "@jupyter-widgets/base",
      "model_module_version": "2.0.0",
      "model_name": "LayoutModel",
      "state": {
       "width": "100%"
      }
     },
     "03d0a544aed0448d883df227714204aa": {
      "model_module": "@jupyter-widgets/controls",
      "model_module_version": "2.0.0",
      "model_name": "SliderStyleModel",
      "state": {
       "description_width": ""
      }
     },
     "040ab037d999421e80f27305e9d380a9": {
      "model_module": "@jupyter-widgets/controls",
      "model_module_version": "2.0.0",
      "model_name": "SliderStyleModel",
      "state": {
       "description_width": ""
      }
     },
     "047f918de3f04b889a23fd3cd3729ef4": {
      "model_module": "@jupyter-widgets/base",
      "model_module_version": "2.0.0",
      "model_name": "LayoutModel",
      "state": {}
     },
     "049d5108db1548d6b8be4cc712d591f1": {
      "model_module": "@jupyter-widgets/base",
      "model_module_version": "2.0.0",
      "model_name": "LayoutModel",
      "state": {
       "width": "100%"
      }
     },
     "04db68d6932646a89cb801dfe993311c": {
      "model_module": "@jupyter-widgets/base",
      "model_module_version": "2.0.0",
      "model_name": "LayoutModel",
      "state": {
       "width": "100%"
      }
     },
     "0521158d29714586aee3e1c1bf19c14f": {
      "model_module": "@jupyter-widgets/controls",
      "model_module_version": "2.0.0",
      "model_name": "FloatSliderModel",
      "state": {
       "behavior": "drag-tap",
       "description": "$\\Omega$",
       "layout": "IPY_MODEL_f333e6d302114de9b24206d375012d6d",
       "max": 5,
       "step": 0.01,
       "style": "IPY_MODEL_7d11086a30af410f943d80d129bdd576",
       "value": 1.2
      }
     },
     "05431e3613b74c608517a5a90da8ed02": {
      "model_module": "@jupyter-widgets/controls",
      "model_module_version": "2.0.0",
      "model_name": "SliderStyleModel",
      "state": {
       "description_width": ""
      }
     },
     "0604036f090b440fa8c66c8c690b0d68": {
      "model_module": "@jupyter-widgets/base",
      "model_module_version": "2.0.0",
      "model_name": "LayoutModel",
      "state": {}
     },
     "06e89384724d45fa9512019fed4725b2": {
      "model_module": "@jupyter-widgets/controls",
      "model_module_version": "2.0.0",
      "model_name": "SliderStyleModel",
      "state": {
       "description_width": ""
      }
     },
     "072a9d62a53e403198e6b2d2f33bbc0e": {
      "model_module": "@jupyter-widgets/controls",
      "model_module_version": "2.0.0",
      "model_name": "FloatSliderModel",
      "state": {
       "behavior": "drag-tap",
       "description": "$\\omega_0$",
       "layout": "IPY_MODEL_68b68cc02119402cbf6184d2958c42ea",
       "max": 5,
       "step": 0.01,
       "style": "IPY_MODEL_af6c23761bc34d6882e01a7b6f48d6d6",
       "value": 3
      }
     },
     "0778945ec76d4293899f8c4a48e8d5bd": {
      "model_module": "@jupyter-widgets/controls",
      "model_module_version": "2.0.0",
      "model_name": "VBoxModel",
      "state": {
       "_dom_classes": [
        "widget-interact"
       ],
       "children": [
        "IPY_MODEL_268c0d12051d44d483fde1831c97196e",
        "IPY_MODEL_8fb83088cd1c461e879ac74250908635",
        "IPY_MODEL_85d0f5bd55d04e9f9406925ea6042b09",
        "IPY_MODEL_6ec17e88f5b540e3a973021581867746",
        "IPY_MODEL_85127e8c4abb4fdfa83e560599430dd6",
        "IPY_MODEL_d85be7b05fe84f9cbd3661c352a61b63",
        "IPY_MODEL_65c787ba06b143a2a0fe47d23bf883c9"
       ],
       "layout": "IPY_MODEL_0824788ee6f648468905e8de4fb89772"
      }
     },
     "07ff08f7899a4db0a0051550515fa325": {
      "model_module": "@jupyter-widgets/output",
      "model_module_version": "1.0.0",
      "model_name": "OutputModel",
      "state": {
       "layout": "IPY_MODEL_9ffa159b88b741b3b88a900d708148e1",
       "outputs": [
        {
         "data": {
          "image/png": "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",
          "text/plain": "<Figure size 640x480 with 1 Axes>"
         },
         "metadata": {},
         "output_type": "display_data"
        }
       ]
      }
     },
     "0816f7434cad4424924ecbb3957128b9": {
      "model_module": "@jupyter-widgets/base",
      "model_module_version": "2.0.0",
      "model_name": "LayoutModel",
      "state": {}
     },
     "0824788ee6f648468905e8de4fb89772": {
      "model_module": "@jupyter-widgets/base",
      "model_module_version": "2.0.0",
      "model_name": "LayoutModel",
      "state": {}
     },
     "08432ae8dcb048d88ecf522cd3d4868f": {
      "model_module": "@jupyter-widgets/controls",
      "model_module_version": "2.0.0",
      "model_name": "SliderStyleModel",
      "state": {
       "description_width": ""
      }
     },
     "094affe8a72b4442a6351c1e01fccda8": {
      "model_module": "@jupyter-widgets/controls",
      "model_module_version": "2.0.0",
      "model_name": "FloatSliderModel",
      "state": {
       "behavior": "drag-tap",
       "description": "$\\omega_0$",
       "layout": "IPY_MODEL_3b910a0e8acf483fbb295f0d82882d12",
       "max": 5,
       "step": 0.01,
       "style": "IPY_MODEL_aaac0f56847146ca9804bd747f8e8555",
       "value": 1
      }
     },
     "0a64a128e46f448186abe8167e32f8d5": {
      "model_module": "@jupyter-widgets/controls",
      "model_module_version": "2.0.0",
      "model_name": "SliderStyleModel",
      "state": {
       "description_width": ""
      }
     },
     "0a8efdd526294775bf02c2e5cba7bdc7": {
      "model_module": "@jupyter-widgets/base",
      "model_module_version": "2.0.0",
      "model_name": "LayoutModel",
      "state": {
       "width": "100%"
      }
     },
     "0b902f4f05b8472689fb5b253a7faf23": {
      "model_module": "@jupyter-widgets/base",
      "model_module_version": "2.0.0",
      "model_name": "LayoutModel",
      "state": {
       "width": "100%"
      }
     },
     "0d099f79372547d49ed4eac701f318c7": {
      "model_module": "@jupyter-widgets/controls",
      "model_module_version": "2.0.0",
      "model_name": "SliderStyleModel",
      "state": {
       "description_width": ""
      }
     },
     "0d5cf6c4f556480380819e674354a3a2": {
      "model_module": "@jupyter-widgets/base",
      "model_module_version": "2.0.0",
      "model_name": "LayoutModel",
      "state": {
       "width": "100%"
      }
     },
     "0df8c2d49efa437da60b6f1c4345d8a1": {
      "model_module": "@jupyter-widgets/base",
      "model_module_version": "2.0.0",
      "model_name": "LayoutModel",
      "state": {
       "width": "100%"
      }
     },
     "0ec66e658ec04d83bb90c724809201fe": {
      "model_module": "@jupyter-widgets/controls",
      "model_module_version": "2.0.0",
      "model_name": "FloatSliderModel",
      "state": {
       "behavior": "drag-tap",
       "description": "$\\omega_0$",
       "layout": "IPY_MODEL_c00c420423e4438999590d925afffeee",
       "max": 5,
       "step": 0.01,
       "style": "IPY_MODEL_804f7ce712294551b66ef2f5624300d6",
       "value": 3
      }
     },
     "0f392e2aa6b7457791c7d3bcbed7a86f": {
      "model_module": "@jupyter-widgets/controls",
      "model_module_version": "2.0.0",
      "model_name": "SliderStyleModel",
      "state": {
       "description_width": ""
      }
     },
     "112523fd41814d67b88227d1b0fafa27": {
      "model_module": "@jupyter-widgets/base",
      "model_module_version": "2.0.0",
      "model_name": "LayoutModel",
      "state": {
       "width": "100%"
      }
     },
     "11bb995ed4f442b2bc6774925d3a706d": {
      "model_module": "@jupyter-widgets/controls",
      "model_module_version": "2.0.0",
      "model_name": "FloatSliderModel",
      "state": {
       "behavior": "drag-tap",
       "description": "$\\beta$",
       "layout": "IPY_MODEL_e170abfbadb4443d9f172ce1c65b269e",
       "max": 3,
       "step": 0.01,
       "style": "IPY_MODEL_06e89384724d45fa9512019fed4725b2",
       "value": 0.26
      }
     },
     "12c621dd08e944deb7e3fddf0f258c40": {
      "model_module": "@jupyter-widgets/controls",
      "model_module_version": "2.0.0",
      "model_name": "FloatSliderModel",
      "state": {
       "behavior": "drag-tap",
       "description": "$\\beta$",
       "layout": "IPY_MODEL_e0eeeb91033f4a6da02c2361923675a8",
       "max": 3,
       "step": 0.01,
       "style": "IPY_MODEL_85b8e19063614691a024ffe60a2fe3a5",
       "value": 0.26
      }
     },
     "12de061b7705415baab3c8edc6b21492": {
      "model_module": "@jupyter-widgets/controls",
      "model_module_version": "2.0.0",
      "model_name": "SliderStyleModel",
      "state": {
       "description_width": ""
      }
     },
     "139ff84baa1243d2805aac5c22c2a1d5": {
      "model_module": "@jupyter-widgets/base",
      "model_module_version": "2.0.0",
      "model_name": "LayoutModel",
      "state": {}
     },
     "1441967eb3ad448fbacad3e5eb8ad674": {
      "model_module": "@jupyter-widgets/base",
      "model_module_version": "2.0.0",
      "model_name": "LayoutModel",
      "state": {
       "width": "100%"
      }
     },
     "1453704654df4dbf99dac3d0cd0ae183": {
      "model_module": "@jupyter-widgets/base",
      "model_module_version": "2.0.0",
      "model_name": "LayoutModel",
      "state": {}
     },
     "16258399af454c0ba3541c5dad504eb1": {
      "model_module": "@jupyter-widgets/base",
      "model_module_version": "2.0.0",
      "model_name": "LayoutModel",
      "state": {}
     },
     "16a0c30da1c3427ebcc75fb8d8333fb4": {
      "model_module": "@jupyter-widgets/base",
      "model_module_version": "2.0.0",
      "model_name": "LayoutModel",
      "state": {
       "width": "100%"
      }
     },
     "17861e72e3e94a298c816c4d1e2fb335": {
      "model_module": "@jupyter-widgets/base",
      "model_module_version": "2.0.0",
      "model_name": "LayoutModel",
      "state": {
       "width": "100%"
      }
     },
     "178c0b3947a04da698f460c589dcf932": {
      "model_module": "@jupyter-widgets/base",
      "model_module_version": "2.0.0",
      "model_name": "LayoutModel",
      "state": {}
     },
     "1923717c13584fe89d76f540c5e82ce3": {
      "model_module": "@jupyter-widgets/controls",
      "model_module_version": "2.0.0",
      "model_name": "FloatSliderModel",
      "state": {
       "behavior": "drag-tap",
       "description": "$\\v_0$",
       "layout": "IPY_MODEL_bf1f60671b5f4574a9fc8e229c8ec28a",
       "min": -100,
       "readout_format": ".1f",
       "step": 0.1,
       "style": "IPY_MODEL_463b4b1812934773b79b0d838a29d86b",
       "value": 0.9000000000000057
      }
     },
     "198d9076a44247509dc21593a8004156": {
      "model_module": "@jupyter-widgets/controls",
      "model_module_version": "2.0.0",
      "model_name": "SliderStyleModel",
      "state": {
       "description_width": ""
      }
     },
     "1accb2dc927f4f06aad3b7d4a5414068": {
      "model_module": "@jupyter-widgets/base",
      "model_module_version": "2.0.0",
      "model_name": "LayoutModel",
      "state": {
       "width": "100%"
      }
     },
     "1aec55f70abb4aed9d4102ec56fa2e0a": {
      "model_module": "@jupyter-widgets/output",
      "model_module_version": "1.0.0",
      "model_name": "OutputModel",
      "state": {
       "layout": "IPY_MODEL_bce528fcfc014f27b9d89d838440c596",
       "outputs": [
        {
         "data": {
          "image/png": "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",
          "text/plain": "<Figure size 640x480 with 1 Axes>"
         },
         "metadata": {},
         "output_type": "display_data"
        }
       ]
      }
     },
     "1afd3454175245149b6de64951586b42": {
      "model_module": "@jupyter-widgets/controls",
      "model_module_version": "2.0.0",
      "model_name": "SliderStyleModel",
      "state": {
       "description_width": ""
      }
     },
     "1c3a3bea7d98448cafd293479baa70ad": {
      "model_module": "@jupyter-widgets/output",
      "model_module_version": "1.0.0",
      "model_name": "OutputModel",
      "state": {
       "layout": "IPY_MODEL_178c0b3947a04da698f460c589dcf932",
       "outputs": [
        {
         "data": {
          "image/png": "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",
          "text/plain": "<Figure size 640x480 with 1 Axes>"
         },
         "metadata": {},
         "output_type": "display_data"
        }
       ]
      }
     },
     "1cbad565b5814051ad3d2effd962ebd5": {
      "model_module": "@jupyter-widgets/controls",
      "model_module_version": "2.0.0",
      "model_name": "SliderStyleModel",
      "state": {
       "description_width": ""
      }
     },
     "1d8b48457d4c415a90c865855e779d0b": {
      "model_module": "@jupyter-widgets/base",
      "model_module_version": "2.0.0",
      "model_name": "LayoutModel",
      "state": {
       "width": "100%"
      }
     },
     "1d90cea1fbcf49ba9659782322c9ab22": {
      "model_module": "@jupyter-widgets/controls",
      "model_module_version": "2.0.0",
      "model_name": "SliderStyleModel",
      "state": {
       "description_width": ""
      }
     },
     "1df22fe00359453c8cccbbb9c41c2ca2": {
      "model_module": "@jupyter-widgets/controls",
      "model_module_version": "2.0.0",
      "model_name": "SliderStyleModel",
      "state": {
       "description_width": ""
      }
     },
     "1e5e3fafdd904c6f98b44d35198c3465": {
      "model_module": "@jupyter-widgets/controls",
      "model_module_version": "2.0.0",
      "model_name": "FloatSliderModel",
      "state": {
       "behavior": "drag-tap",
       "description": "$\\omega_0$",
       "layout": "IPY_MODEL_91b0967006ea4151bcec588746e0d2c0",
       "max": 5,
       "step": 0.01,
       "style": "IPY_MODEL_374ee9be28834f53affd3568be5c0346",
       "value": 3.01
      }
     },
     "1fddd53ad6f84cbc86519691b0534e4a": {
      "model_module": "@jupyter-widgets/base",
      "model_module_version": "2.0.0",
      "model_name": "LayoutModel",
      "state": {}
     },
     "20ccc9c10adc4922b87a5162f02d225d": {
      "model_module": "@jupyter-widgets/controls",
      "model_module_version": "2.0.0",
      "model_name": "VBoxModel",
      "state": {
       "_dom_classes": [
        "widget-interact"
       ],
       "children": [
        "IPY_MODEL_cddd90e7232c49ed80ec70c02dd8671e",
        "IPY_MODEL_303953bc3bd5426cbdcd028c10e7bcd6",
        "IPY_MODEL_9d37aca155124ee0a46ced367b43ae01",
        "IPY_MODEL_f1596a9ed81147018debd3efa5f53097",
        "IPY_MODEL_cd10b41d934f4fc79bca7ac1a7b95865",
        "IPY_MODEL_8deb7dab09ad4015a8053a22d01e4e7e",
        "IPY_MODEL_b7287d5e04b04624b289ca3cdfa03110",
        "IPY_MODEL_7bf5d90918704a81a3655133abee9648"
       ],
       "layout": "IPY_MODEL_047f918de3f04b889a23fd3cd3729ef4"
      }
     },
     "2133dd2db23145a3b007d99e28ac5eea": {
      "model_module": "@jupyter-widgets/controls",
      "model_module_version": "2.0.0",
      "model_name": "SliderStyleModel",
      "state": {
       "description_width": ""
      }
     },
     "225a330507384c47ab5139ae162a17e8": {
      "model_module": "@jupyter-widgets/base",
      "model_module_version": "2.0.0",
      "model_name": "LayoutModel",
      "state": {
       "width": "100%"
      }
     },
     "231cf106e87347f48170d9248d6fb1a8": {
      "model_module": "@jupyter-widgets/output",
      "model_module_version": "1.0.0",
      "model_name": "OutputModel",
      "state": {
       "layout": "IPY_MODEL_ed259227cd4241638f3e01d23bbc0719",
       "outputs": [
        {
         "data": {
          "image/png": "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",
          "text/plain": "<Figure size 640x480 with 1 Axes>"
         },
         "metadata": {},
         "output_type": "display_data"
        }
       ]
      }
     },
     "2322e7a09db14fbf9d5e7fe47b6c46ff": {
      "model_module": "@jupyter-widgets/controls",
      "model_module_version": "2.0.0",
      "model_name": "SliderStyleModel",
      "state": {
       "description_width": ""
      }
     },
     "23f73127db094dc0a9a63b79d01af557": {
      "model_module": "@jupyter-widgets/controls",
      "model_module_version": "2.0.0",
      "model_name": "FloatSliderModel",
      "state": {
       "behavior": "drag-tap",
       "description": "$\\v_0$",
       "layout": "IPY_MODEL_ee4e59fdea8d49e492d628afdcf5fd04",
       "max": 10,
       "min": -10,
       "readout_format": ".1f",
       "step": 0.1,
       "style": "IPY_MODEL_3f5993378d7d4a9abc70c745d1cd5fd7",
       "value": -3.0999999999999996
      }
     },
     "24cb77eb9f8f45bd971a2bb3068410c8": {
      "model_module": "@jupyter-widgets/controls",
      "model_module_version": "2.0.0",
      "model_name": "FloatSliderModel",
      "state": {
       "behavior": "drag-tap",
       "description": "$\\v_0$",
       "layout": "IPY_MODEL_9814cc017f104f49b97703494bb15674",
       "min": -100,
       "readout_format": ".1f",
       "step": 0.1,
       "style": "IPY_MODEL_1d90cea1fbcf49ba9659782322c9ab22"
      }
     },
     "24cb8c9f4a4e449d85f79853bce6e58f": {
      "model_module": "@jupyter-widgets/controls",
      "model_module_version": "2.0.0",
      "model_name": "IntSliderModel",
      "state": {
       "behavior": "drag-tap",
       "description": "$t_{\\max}$",
       "layout": "IPY_MODEL_39d93ce631174456a9359eb56ea46880",
       "max": 200,
       "min": 10,
       "style": "IPY_MODEL_86283924f5c948d28dbb1bd68750d154",
       "value": 105
      }
     },
     "259604e26fb6498e9e2cf76689131939": {
      "model_module": "@jupyter-widgets/base",
      "model_module_version": "2.0.0",
      "model_name": "LayoutModel",
      "state": {
       "width": "100%"
      }
     },
     "264384325e9e424d8cb517d4f89aa95e": {
      "model_module": "@jupyter-widgets/base",
      "model_module_version": "2.0.0",
      "model_name": "LayoutModel",
      "state": {
       "width": "100%"
      }
     },
     "268c0d12051d44d483fde1831c97196e": {
      "model_module": "@jupyter-widgets/controls",
      "model_module_version": "2.0.0",
      "model_name": "IntSliderModel",
      "state": {
       "behavior": "drag-tap",
       "description": "$t_{\\max}$",
       "layout": "IPY_MODEL_543c7f1168ba4c76b0be3a18840a62d2",
       "max": 200,
       "min": 10,
       "style": "IPY_MODEL_cfda1cd6b4384483a3eef6d98b104f45",
       "value": 130
      }
     },
     "2790612607394dd597ebd0f5a853ec08": {
      "model_module": "@jupyter-widgets/controls",
      "model_module_version": "2.0.0",
      "model_name": "FloatSliderModel",
      "state": {
       "behavior": "drag-tap",
       "description": "$\\omega_0$",
       "layout": "IPY_MODEL_aa9297fefa8d45f199afe40c6be42e3f",
       "max": 5,
       "step": 0.01,
       "style": "IPY_MODEL_7e62c7a586d545e3a18aa93927cc7deb",
       "value": 1
      }
     },
     "28d86e612b5b4cb39d9bdc4620c459be": {
      "model_module": "@jupyter-widgets/base",
      "model_module_version": "2.0.0",
      "model_name": "LayoutModel",
      "state": {
       "width": "100%"
      }
     },
     "290ec9c2980e4552b5dc5e7fb79f4022": {
      "model_module": "@jupyter-widgets/controls",
      "model_module_version": "2.0.0",
      "model_name": "FloatSliderModel",
      "state": {
       "behavior": "drag-tap",
       "description": "$\\Omega$",
       "layout": "IPY_MODEL_a4b0e534e5b249db83cac2136c8fbb5e",
       "max": 3,
       "step": 0.01,
       "style": "IPY_MODEL_5f341985a187457e9099c4f664a706f7"
      }
     },
     "29976b97ddfe4e1e8794db31437cd170": {
      "model_module": "@jupyter-widgets/controls",
      "model_module_version": "2.0.0",
      "model_name": "FloatSliderModel",
      "state": {
       "behavior": "drag-tap",
       "description": "a",
       "layout": "IPY_MODEL_e622ba2c5d1641ecb0499cbb123be87a",
       "max": 3,
       "step": 0.01,
       "style": "IPY_MODEL_d99ce24ad081456899f3da0362e79a08",
       "value": 1.1
      }
     },
     "2a91de84233c4eecaa934fae7a948bba": {
      "model_module": "@jupyter-widgets/controls",
      "model_module_version": "2.0.0",
      "model_name": "SliderStyleModel",
      "state": {
       "description_width": ""
      }
     },
     "2ac2927c76914aab9c803e6812be66f3": {
      "model_module": "@jupyter-widgets/controls",
      "model_module_version": "2.0.0",
      "model_name": "SliderStyleModel",
      "state": {
       "description_width": ""
      }
     },
     "2b57f5b0739a4827b8fb6e30232f14f3": {
      "model_module": "@jupyter-widgets/controls",
      "model_module_version": "2.0.0",
      "model_name": "FloatSliderModel",
      "state": {
       "behavior": "drag-tap",
       "description": "$\\v_0$",
       "layout": "IPY_MODEL_ced576a977d8420c819c9cb0ab6e1daa",
       "min": -100,
       "readout_format": ".1f",
       "step": 0.1,
       "style": "IPY_MODEL_342b74fc7f644b3291fd5c43dc481898"
      }
     },
     "2c40ef35d97043e7bde2a41e7148595c": {
      "model_module": "@jupyter-widgets/controls",
      "model_module_version": "2.0.0",
      "model_name": "SliderStyleModel",
      "state": {
       "description_width": ""
      }
     },
     "2d7b5e5e0f9f442dabc28c7dad0fc3e8": {
      "model_module": "@jupyter-widgets/base",
      "model_module_version": "2.0.0",
      "model_name": "LayoutModel",
      "state": {
       "width": "100%"
      }
     },
     "2da881394d8f47d684b676791797447a": {
      "model_module": "@jupyter-widgets/controls",
      "model_module_version": "2.0.0",
      "model_name": "IntSliderModel",
      "state": {
       "behavior": "drag-tap",
       "description": "$t_{\\max}$",
       "layout": "IPY_MODEL_c3a8f72f73ef4fe6ab82f49ddbab9c76",
       "max": 200,
       "min": 10,
       "style": "IPY_MODEL_85971a8c5175449880874afd1cb047cb",
       "value": 102
      }
     },
     "2e545c8be74a4cbe9357a8012a08d27b": {
      "model_module": "@jupyter-widgets/controls",
      "model_module_version": "2.0.0",
      "model_name": "SliderStyleModel",
      "state": {
       "description_width": ""
      }
     },
     "2efcefdef11c4b03843d5bd3875f1d04": {
      "model_module": "@jupyter-widgets/controls",
      "model_module_version": "2.0.0",
      "model_name": "SliderStyleModel",
      "state": {
       "description_width": ""
      }
     },
     "2f4a2cbbed6e49718e6cc0c3e72c0e88": {
      "model_module": "@jupyter-widgets/controls",
      "model_module_version": "2.0.0",
      "model_name": "SliderStyleModel",
      "state": {
       "description_width": ""
      }
     },
     "303953bc3bd5426cbdcd028c10e7bcd6": {
      "model_module": "@jupyter-widgets/controls",
      "model_module_version": "2.0.0",
      "model_name": "FloatSliderModel",
      "state": {
       "behavior": "drag-tap",
       "description": "$\\beta$",
       "layout": "IPY_MODEL_dff77b03d548438cb4efdac830ec4c19",
       "max": 3,
       "step": 0.01,
       "style": "IPY_MODEL_b02a032ca2464868a5c228601c20b871",
       "value": 0.26
      }
     },
     "30bac10f2d50448fb045bc7df36a704e": {
      "model_module": "@jupyter-widgets/controls",
      "model_module_version": "2.0.0",
      "model_name": "SliderStyleModel",
      "state": {
       "description_width": ""
      }
     },
     "31ae8a85f48846f18fe5747cc98f4d00": {
      "model_module": "@jupyter-widgets/base",
      "model_module_version": "2.0.0",
      "model_name": "LayoutModel",
      "state": {
       "width": "100%"
      }
     },
     "31fad0f10cdb4bf0ab908b6ae8149c06": {
      "model_module": "@jupyter-widgets/controls",
      "model_module_version": "2.0.0",
      "model_name": "FloatSliderModel",
      "state": {
       "behavior": "drag-tap",
       "description": "$\\v_0$",
       "layout": "IPY_MODEL_d44a89d0a8f04d84a7adbcd7eeeaed0a",
       "min": -100,
       "readout_format": ".1f",
       "step": 0.1,
       "style": "IPY_MODEL_aeec5056a81f4ec48472a4313e26e328"
      }
     },
     "33c5c158259c46549d2a00ad3275f30e": {
      "model_module": "@jupyter-widgets/controls",
      "model_module_version": "2.0.0",
      "model_name": "VBoxModel",
      "state": {
       "_dom_classes": [
        "widget-interact"
       ],
       "children": [
        "IPY_MODEL_7bfd776937404082bb1e78594e293455",
        "IPY_MODEL_6f6c960c45de429eb3ef9d0ae6f352e9",
        "IPY_MODEL_cf942f4aeda5419cac92ed6d4f70c247",
        "IPY_MODEL_29976b97ddfe4e1e8794db31437cd170",
        "IPY_MODEL_0521158d29714586aee3e1c1bf19c14f",
        "IPY_MODEL_69733dc63c9b4239ade9f322e983f27c",
        "IPY_MODEL_a31408d3b6be4f699d6fe79cfc830e6a",
        "IPY_MODEL_7d7c534bab524d6ba7c4d3e66c5cba01"
       ],
       "layout": "IPY_MODEL_cd13c147a7724d9cb64958f5a18c32b7"
      }
     },
     "342b74fc7f644b3291fd5c43dc481898": {
      "model_module": "@jupyter-widgets/controls",
      "model_module_version": "2.0.0",
      "model_name": "SliderStyleModel",
      "state": {
       "description_width": ""
      }
     },
     "35111f2431db4389bffde4612a2c4615": {
      "model_module": "@jupyter-widgets/controls",
      "model_module_version": "2.0.0",
      "model_name": "SliderStyleModel",
      "state": {
       "description_width": ""
      }
     },
     "354a6d5024c24a32bd0837d4f7f29083": {
      "model_module": "@jupyter-widgets/base",
      "model_module_version": "2.0.0",
      "model_name": "LayoutModel",
      "state": {}
     },
     "35aedbaa7e27406fae5d96eee0ad5c83": {
      "model_module": "@jupyter-widgets/controls",
      "model_module_version": "2.0.0",
      "model_name": "SliderStyleModel",
      "state": {
       "description_width": ""
      }
     },
     "372cb89c9c8b42a49e76622e9340a41d": {
      "model_module": "@jupyter-widgets/base",
      "model_module_version": "2.0.0",
      "model_name": "LayoutModel",
      "state": {
       "width": "100%"
      }
     },
     "374ee9be28834f53affd3568be5c0346": {
      "model_module": "@jupyter-widgets/controls",
      "model_module_version": "2.0.0",
      "model_name": "SliderStyleModel",
      "state": {
       "description_width": ""
      }
     },
     "3875b998cb6448d897c03415858b237d": {
      "model_module": "@jupyter-widgets/base",
      "model_module_version": "2.0.0",
      "model_name": "LayoutModel",
      "state": {
       "width": "100%"
      }
     },
     "38842b8c96634f759dc878170dda61ea": {
      "model_module": "@jupyter-widgets/controls",
      "model_module_version": "2.0.0",
      "model_name": "SliderStyleModel",
      "state": {
       "description_width": ""
      }
     },
     "38acbca20613456785f6b63f4b17b72d": {
      "model_module": "@jupyter-widgets/controls",
      "model_module_version": "2.0.0",
      "model_name": "FloatSliderModel",
      "state": {
       "behavior": "drag-tap",
       "description": "$\\beta$",
       "layout": "IPY_MODEL_737cc4f9cdce48d8aeae29caaf0ea7cf",
       "max": 3,
       "step": 0.01,
       "style": "IPY_MODEL_30bac10f2d50448fb045bc7df36a704e",
       "value": 0.9999999999999999
      }
     },
     "39d297b5174b4da28712ca54d73e8874": {
      "model_module": "@jupyter-widgets/controls",
      "model_module_version": "2.0.0",
      "model_name": "SliderStyleModel",
      "state": {
       "description_width": ""
      }
     },
     "39d93ce631174456a9359eb56ea46880": {
      "model_module": "@jupyter-widgets/base",
      "model_module_version": "2.0.0",
      "model_name": "LayoutModel",
      "state": {
       "width": "100%"
      }
     },
     "3b3a507bc8444914a53c25c7c96342ac": {
      "model_module": "@jupyter-widgets/base",
      "model_module_version": "2.0.0",
      "model_name": "LayoutModel",
      "state": {
       "width": "100%"
      }
     },
     "3b7172f0a7c84e87bcecd0835754544d": {
      "model_module": "@jupyter-widgets/output",
      "model_module_version": "1.0.0",
      "model_name": "OutputModel",
      "state": {
       "layout": "IPY_MODEL_dbbc6b92dd2d45e5926eb0e48b44fc38",
       "outputs": [
        {
         "data": {
          "image/png": "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",
          "text/plain": "<Figure size 640x480 with 1 Axes>"
         },
         "metadata": {},
         "output_type": "display_data"
        }
       ]
      }
     },
     "3b910a0e8acf483fbb295f0d82882d12": {
      "model_module": "@jupyter-widgets/base",
      "model_module_version": "2.0.0",
      "model_name": "LayoutModel",
      "state": {
       "width": "100%"
      }
     },
     "3c4345d6540f4539a9d6fbdca03b55cd": {
      "model_module": "@jupyter-widgets/base",
      "model_module_version": "2.0.0",
      "model_name": "LayoutModel",
      "state": {
       "width": "100%"
      }
     },
     "3c8f62613cbc41f68901578841b2c4ac": {
      "model_module": "@jupyter-widgets/controls",
      "model_module_version": "2.0.0",
      "model_name": "SliderStyleModel",
      "state": {
       "description_width": ""
      }
     },
     "3cccee585cd14862b831e8bd7c779bd1": {
      "model_module": "@jupyter-widgets/controls",
      "model_module_version": "2.0.0",
      "model_name": "SliderStyleModel",
      "state": {
       "description_width": ""
      }
     },
     "3d08b43e7a5849ac86c8d64804aa6d6a": {
      "model_module": "@jupyter-widgets/controls",
      "model_module_version": "2.0.0",
      "model_name": "FloatSliderModel",
      "state": {
       "behavior": "drag-tap",
       "description": "$\\x_0$",
       "layout": "IPY_MODEL_eaa4181e9b5e4967839a2e19f657f39e",
       "max": 10,
       "min": -10,
       "readout_format": ".1f",
       "step": 0.1,
       "style": "IPY_MODEL_a0d24c11fee745eeb32707198a8d5743",
       "value": 0.5999999999999996
      }
     },
     "3db11145a6454645869d9f9ffdc97724": {
      "model_module": "@jupyter-widgets/controls",
      "model_module_version": "2.0.0",
      "model_name": "FloatSliderModel",
      "state": {
       "behavior": "drag-tap",
       "description": "$\\v_0$",
       "layout": "IPY_MODEL_3c4345d6540f4539a9d6fbdca03b55cd",
       "min": -100,
       "readout_format": ".1f",
       "step": 0.1,
       "style": "IPY_MODEL_66c6be179faa4af397ee279c56787b49"
      }
     },
     "3f5993378d7d4a9abc70c745d1cd5fd7": {
      "model_module": "@jupyter-widgets/controls",
      "model_module_version": "2.0.0",
      "model_name": "SliderStyleModel",
      "state": {
       "description_width": ""
      }
     },
     "3f79ab78b15a486ba84502b08e01552e": {
      "model_module": "@jupyter-widgets/controls",
      "model_module_version": "2.0.0",
      "model_name": "SliderStyleModel",
      "state": {
       "description_width": ""
      }
     },
     "3f8f196fcbe0450db6c075f4bb006516": {
      "model_module": "@jupyter-widgets/controls",
      "model_module_version": "2.0.0",
      "model_name": "FloatSliderModel",
      "state": {
       "behavior": "drag-tap",
       "description": "$\\x_0$",
       "layout": "IPY_MODEL_81b4f439879845ef8349c406d2d57fb5",
       "max": 10,
       "min": -10,
       "readout_format": ".1f",
       "step": 0.1,
       "style": "IPY_MODEL_44e9da23d98e459b87184d9eb5df4003",
       "value": 1
      }
     },
     "3faeda75f6a842939dddcfe086acf903": {
      "model_module": "@jupyter-widgets/controls",
      "model_module_version": "2.0.0",
      "model_name": "SliderStyleModel",
      "state": {
       "description_width": ""
      }
     },
     "41990050fd0a4535bdce1098b6ea5195": {
      "model_module": "@jupyter-widgets/base",
      "model_module_version": "2.0.0",
      "model_name": "LayoutModel",
      "state": {
       "width": "100%"
      }
     },
     "4399c0e886dc4b31a8b371ce8a2977b2": {
      "model_module": "@jupyter-widgets/controls",
      "model_module_version": "2.0.0",
      "model_name": "SliderStyleModel",
      "state": {
       "description_width": ""
      }
     },
     "4472d3f3194e423184962b9e21e47271": {
      "model_module": "@jupyter-widgets/controls",
      "model_module_version": "2.0.0",
      "model_name": "VBoxModel",
      "state": {
       "_dom_classes": [
        "widget-interact"
       ],
       "children": [
        "IPY_MODEL_24cb8c9f4a4e449d85f79853bce6e58f",
        "IPY_MODEL_9bbcc8c055154349b1c675d116d5e8c7",
        "IPY_MODEL_aa0c8d603fdf4b09b4cbc19e768a85b9",
        "IPY_MODEL_6d4bd81f4bac4e2abff96fb3621677b4",
        "IPY_MODEL_8e088cdd93074b859bde3ef905250075",
        "IPY_MODEL_3d08b43e7a5849ac86c8d64804aa6d6a",
        "IPY_MODEL_1923717c13584fe89d76f540c5e82ce3",
        "IPY_MODEL_a30a89a581064033982ea6b52e954016"
       ],
       "layout": "IPY_MODEL_16258399af454c0ba3541c5dad504eb1"
      }
     },
     "4482be655a4c4f398a61c1bd502a739b": {
      "model_module": "@jupyter-widgets/base",
      "model_module_version": "2.0.0",
      "model_name": "LayoutModel",
      "state": {
       "width": "100%"
      }
     },
     "44e9da23d98e459b87184d9eb5df4003": {
      "model_module": "@jupyter-widgets/controls",
      "model_module_version": "2.0.0",
      "model_name": "SliderStyleModel",
      "state": {
       "description_width": ""
      }
     },
     "44fb42459ca248dca554faf01809ff9f": {
      "model_module": "@jupyter-widgets/base",
      "model_module_version": "2.0.0",
      "model_name": "LayoutModel",
      "state": {
       "width": "100%"
      }
     },
     "45366ad377a14feb927bac78dfd0aa25": {
      "model_module": "@jupyter-widgets/base",
      "model_module_version": "2.0.0",
      "model_name": "LayoutModel",
      "state": {
       "width": "100%"
      }
     },
     "4583448dee744730a1e4135e0c9dea49": {
      "model_module": "@jupyter-widgets/base",
      "model_module_version": "2.0.0",
      "model_name": "LayoutModel",
      "state": {
       "width": "100%"
      }
     },
     "463b4b1812934773b79b0d838a29d86b": {
      "model_module": "@jupyter-widgets/controls",
      "model_module_version": "2.0.0",
      "model_name": "SliderStyleModel",
      "state": {
       "description_width": ""
      }
     },
     "46590c1b79384038b9af526ee4779e4d": {
      "model_module": "@jupyter-widgets/output",
      "model_module_version": "1.0.0",
      "model_name": "OutputModel",
      "state": {
       "layout": "IPY_MODEL_81eb70afb6a6409c95e3a5fea95fb198",
       "outputs": [
        {
         "data": {
          "image/png": "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",
          "text/plain": "<Figure size 640x480 with 1 Axes>"
         },
         "metadata": {},
         "output_type": "display_data"
        }
       ]
      }
     },
     "473ebfeb695948ce8308fe038643c477": {
      "model_module": "@jupyter-widgets/controls",
      "model_module_version": "2.0.0",
      "model_name": "SliderStyleModel",
      "state": {
       "description_width": ""
      }
     },
     "47e9b22b6c7f4ba38a05a43264939c3a": {
      "model_module": "@jupyter-widgets/controls",
      "model_module_version": "2.0.0",
      "model_name": "VBoxModel",
      "state": {
       "_dom_classes": [
        "widget-interact"
       ],
       "children": [
        "IPY_MODEL_87c4ececbe8f4756b8db025676017384",
        "IPY_MODEL_f179b9b77fa54684b2f8efeb26659287",
        "IPY_MODEL_a5beea2edff048c7b9135106f1779f7d",
        "IPY_MODEL_958110720d474ffeaadf4b253acc8e92",
        "IPY_MODEL_8eebe59198ac40aea4fb6744766d3499",
        "IPY_MODEL_ca3953efb1ca4d20ade24c32ef7a2b04"
       ],
       "layout": "IPY_MODEL_51c29e5817664a4d803950fae3586eb1"
      }
     },
     "486557759ebf472d851485f4bbaf36db": {
      "model_module": "@jupyter-widgets/output",
      "model_module_version": "1.0.0",
      "model_name": "OutputModel",
      "state": {
       "layout": "IPY_MODEL_1fddd53ad6f84cbc86519691b0534e4a",
       "outputs": [
        {
         "data": {
          "image/png": "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",
          "text/plain": "<Figure size 640x480 with 1 Axes>"
         },
         "metadata": {},
         "output_type": "display_data"
        }
       ]
      }
     },
     "4868171385944e2088396d2a5808c5ad": {
      "model_module": "@jupyter-widgets/base",
      "model_module_version": "2.0.0",
      "model_name": "LayoutModel",
      "state": {
       "width": "100%"
      }
     },
     "48bd4c74869a493c9195ffbc18c5d661": {
      "model_module": "@jupyter-widgets/base",
      "model_module_version": "2.0.0",
      "model_name": "LayoutModel",
      "state": {
       "width": "100%"
      }
     },
     "49759463e94546349a27a631353bfd35": {
      "model_module": "@jupyter-widgets/controls",
      "model_module_version": "2.0.0",
      "model_name": "FloatSliderModel",
      "state": {
       "behavior": "drag-tap",
       "description": "a",
       "layout": "IPY_MODEL_f8d65d178c95419b85f88bce8cf378a9",
       "max": 3,
       "step": 0.01,
       "style": "IPY_MODEL_aa963b88027f460590d19774c46dcc8b",
       "value": 0.13999999999999999
      }
     },
     "4a16de147e0f4bf18800e2472c3b62ae": {
      "model_module": "@jupyter-widgets/controls",
      "model_module_version": "2.0.0",
      "model_name": "SliderStyleModel",
      "state": {
       "description_width": ""
      }
     },
     "4caee919fa9640cfb83bcd903b3213bd": {
      "model_module": "@jupyter-widgets/controls",
      "model_module_version": "2.0.0",
      "model_name": "SliderStyleModel",
      "state": {
       "description_width": ""
      }
     },
     "4cbc287f09064de4a2084d082a8b5554": {
      "model_module": "@jupyter-widgets/base",
      "model_module_version": "2.0.0",
      "model_name": "LayoutModel",
      "state": {}
     },
     "4e2cd8fca470410087182da805d378a5": {
      "model_module": "@jupyter-widgets/base",
      "model_module_version": "2.0.0",
      "model_name": "LayoutModel",
      "state": {
       "width": "100%"
      }
     },
     "4ec38a21a28046b7b3edddebd42e9969": {
      "model_module": "@jupyter-widgets/controls",
      "model_module_version": "2.0.0",
      "model_name": "FloatSliderModel",
      "state": {
       "behavior": "drag-tap",
       "description": "$\\omega_0$",
       "layout": "IPY_MODEL_cb8c678da4a64859bd10b3bd405392fb",
       "max": 10,
       "step": 0.01,
       "style": "IPY_MODEL_e45e21b42fcc4419b35ca553391fa111",
       "value": 1
      }
     },
     "4fd3ad5dc9f64d539f416d9add4cc175": {
      "model_module": "@jupyter-widgets/controls",
      "model_module_version": "2.0.0",
      "model_name": "IntSliderModel",
      "state": {
       "behavior": "drag-tap",
       "description": "$t_{\\max}$",
       "layout": "IPY_MODEL_f50da1a5e98440499b082fda29676ef8",
       "max": 200,
       "min": 10,
       "style": "IPY_MODEL_4399c0e886dc4b31a8b371ce8a2977b2",
       "value": 71
      }
     },
     "50e501904bf04d7f83211a59fbd866d2": {
      "model_module": "@jupyter-widgets/controls",
      "model_module_version": "2.0.0",
      "model_name": "FloatSliderModel",
      "state": {
       "behavior": "drag-tap",
       "description": "$\\x_0$",
       "layout": "IPY_MODEL_ffd6c92844d2450f8ea50d097d7834ec",
       "max": 10,
       "min": -10,
       "readout_format": ".1f",
       "step": 0.1,
       "style": "IPY_MODEL_2133dd2db23145a3b007d99e28ac5eea",
       "value": -1.5999999999999996
      }
     },
     "512e708e2420463c991dedb108c472c9": {
      "model_module": "@jupyter-widgets/controls",
      "model_module_version": "2.0.0",
      "model_name": "IntSliderModel",
      "state": {
       "behavior": "drag-tap",
       "description": "$t_{\\max}$",
       "layout": "IPY_MODEL_1accb2dc927f4f06aad3b7d4a5414068",
       "max": 200,
       "min": 10,
       "style": "IPY_MODEL_a823ccb51e9449fda23ea93378cbb190",
       "value": 50
      }
     },
     "51c29e5817664a4d803950fae3586eb1": {
      "model_module": "@jupyter-widgets/base",
      "model_module_version": "2.0.0",
      "model_name": "LayoutModel",
      "state": {}
     },
     "529b63e6f51040c98dc40af3a3954855": {
      "model_module": "@jupyter-widgets/controls",
      "model_module_version": "2.0.0",
      "model_name": "FloatSliderModel",
      "state": {
       "behavior": "drag-tap",
       "description": "a",
       "layout": "IPY_MODEL_b159034e7df34cce84fb0b49169ba05a",
       "max": 3,
       "step": 0.01,
       "style": "IPY_MODEL_2e545c8be74a4cbe9357a8012a08d27b",
       "value": 0.9999999999999999
      }
     },
     "52f7c1f2abf841b59832a87bfbe3d9c8": {
      "model_module": "@jupyter-widgets/controls",
      "model_module_version": "2.0.0",
      "model_name": "VBoxModel",
      "state": {
       "_dom_classes": [
        "widget-interact"
       ],
       "children": [
        "IPY_MODEL_9a54c60543fb4ba2a1f98c212c415452",
        "IPY_MODEL_12c621dd08e944deb7e3fddf0f258c40",
        "IPY_MODEL_1e5e3fafdd904c6f98b44d35198c3465",
        "IPY_MODEL_61fa908e9550457ea9c30b2de903a9fb",
        "IPY_MODEL_8c705a178295405ea6c02be5cd82f15f",
        "IPY_MODEL_d5289030000b48dc9d9f7b9b52a808fc",
        "IPY_MODEL_ef61ee1b16154819b183f1b997582c32",
        "IPY_MODEL_231cf106e87347f48170d9248d6fb1a8"
       ],
       "layout": "IPY_MODEL_c118ce61d773450599fc34154095b64d"
      }
     },
     "53ac12ce22ec453eb3e2b2f09e4e515d": {
      "model_module": "@jupyter-widgets/controls",
      "model_module_version": "2.0.0",
      "model_name": "FloatSliderModel",
      "state": {
       "behavior": "drag-tap",
       "description": "a",
       "layout": "IPY_MODEL_4868171385944e2088396d2a5808c5ad",
       "max": 3,
       "step": 0.01,
       "style": "IPY_MODEL_4caee919fa9640cfb83bcd903b3213bd",
       "value": 0.1
      }
     },
     "543c7f1168ba4c76b0be3a18840a62d2": {
      "model_module": "@jupyter-widgets/base",
      "model_module_version": "2.0.0",
      "model_name": "LayoutModel",
      "state": {
       "width": "100%"
      }
     },
     "54957cdf485043aa99f3d449a04237bd": {
      "model_module": "@jupyter-widgets/controls",
      "model_module_version": "2.0.0",
      "model_name": "SliderStyleModel",
      "state": {
       "description_width": ""
      }
     },
     "55ceacc18ebe45109606ae6342399561": {
      "model_module": "@jupyter-widgets/base",
      "model_module_version": "2.0.0",
      "model_name": "LayoutModel",
      "state": {
       "width": "100%"
      }
     },
     "560ce07af6db4148bdde7c77489953f3": {
      "model_module": "@jupyter-widgets/base",
      "model_module_version": "2.0.0",
      "model_name": "LayoutModel",
      "state": {
       "width": "100%"
      }
     },
     "569feb9648064c239abd8e77e7fe5003": {
      "model_module": "@jupyter-widgets/base",
      "model_module_version": "2.0.0",
      "model_name": "LayoutModel",
      "state": {
       "width": "100%"
      }
     },
     "5b9aae7100e9400d9f49ff2d5b957d9b": {
      "model_module": "@jupyter-widgets/controls",
      "model_module_version": "2.0.0",
      "model_name": "SliderStyleModel",
      "state": {
       "description_width": ""
      }
     },
     "5c35771cef684746a9543f36ac383b2f": {
      "model_module": "@jupyter-widgets/controls",
      "model_module_version": "2.0.0",
      "model_name": "IntSliderModel",
      "state": {
       "behavior": "drag-tap",
       "description": "$t_{\\max}$",
       "layout": "IPY_MODEL_b885785ba70d4216867c811bd29e4c0f",
       "max": 200,
       "min": 10,
       "style": "IPY_MODEL_2ac2927c76914aab9c803e6812be66f3",
       "value": 117
      }
     },
     "5d40bc04d9a1472881ac72c8672444d9": {
      "model_module": "@jupyter-widgets/controls",
      "model_module_version": "2.0.0",
      "model_name": "FloatSliderModel",
      "state": {
       "behavior": "drag-tap",
       "description": "a",
       "layout": "IPY_MODEL_0a8efdd526294775bf02c2e5cba7bdc7",
       "max": 3,
       "step": 0.01,
       "style": "IPY_MODEL_638a1493d4804526b968f33f3551fe94",
       "value": 1.1
      }
     },
     "5ecb6b0c1b75459b9ac316fa2d20ac0f": {
      "model_module": "@jupyter-widgets/base",
      "model_module_version": "2.0.0",
      "model_name": "LayoutModel",
      "state": {
       "width": "100%"
      }
     },
     "5f341985a187457e9099c4f664a706f7": {
      "model_module": "@jupyter-widgets/controls",
      "model_module_version": "2.0.0",
      "model_name": "SliderStyleModel",
      "state": {
       "description_width": ""
      }
     },
     "60ae08f034f14fcca3123832f6fda888": {
      "model_module": "@jupyter-widgets/base",
      "model_module_version": "2.0.0",
      "model_name": "LayoutModel",
      "state": {}
     },
     "60afc9df6b964e4ba43a4b3624547102": {
      "model_module": "@jupyter-widgets/controls",
      "model_module_version": "2.0.0",
      "model_name": "SliderStyleModel",
      "state": {
       "description_width": ""
      }
     },
     "60df5f270e494511af89a3df4e2561a8": {
      "model_module": "@jupyter-widgets/output",
      "model_module_version": "1.0.0",
      "model_name": "OutputModel",
      "state": {
       "layout": "IPY_MODEL_7c7b500941b24de899cdd375d6c23c06",
       "outputs": [
        {
         "data": {
          "image/png": "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",
          "text/plain": "<Figure size 640x480 with 1 Axes>"
         },
         "metadata": {},
         "output_type": "display_data"
        }
       ]
      }
     },
     "61fa908e9550457ea9c30b2de903a9fb": {
      "model_module": "@jupyter-widgets/controls",
      "model_module_version": "2.0.0",
      "model_name": "FloatSliderModel",
      "state": {
       "behavior": "drag-tap",
       "description": "a",
       "layout": "IPY_MODEL_77014f5fa141422abd6ee9a18a0c6952",
       "max": 3,
       "step": 0.01,
       "style": "IPY_MODEL_b4a5bf4cf9c445718698443d5bcc406e",
       "value": 1.1199999999999999
      }
     },
     "638a1493d4804526b968f33f3551fe94": {
      "model_module": "@jupyter-widgets/controls",
      "model_module_version": "2.0.0",
      "model_name": "SliderStyleModel",
      "state": {
       "description_width": ""
      }
     },
     "63e62cc637b44cfe9eafd2318e475f6d": {
      "model_module": "@jupyter-widgets/base",
      "model_module_version": "2.0.0",
      "model_name": "LayoutModel",
      "state": {
       "width": "100%"
      }
     },
     "64094969d2784db7a7d0e3438c7374d1": {
      "model_module": "@jupyter-widgets/controls",
      "model_module_version": "2.0.0",
      "model_name": "SliderStyleModel",
      "state": {
       "description_width": ""
      }
     },
     "65c787ba06b143a2a0fe47d23bf883c9": {
      "model_module": "@jupyter-widgets/output",
      "model_module_version": "1.0.0",
      "model_name": "OutputModel",
      "state": {
       "layout": "IPY_MODEL_0816f7434cad4424924ecbb3957128b9",
       "outputs": [
        {
         "data": {
          "image/png": "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",
          "text/plain": "<Figure size 640x480 with 1 Axes>"
         },
         "metadata": {},
         "output_type": "display_data"
        }
       ]
      }
     },
     "66c6be179faa4af397ee279c56787b49": {
      "model_module": "@jupyter-widgets/controls",
      "model_module_version": "2.0.0",
      "model_name": "SliderStyleModel",
      "state": {
       "description_width": ""
      }
     },
     "68b68cc02119402cbf6184d2958c42ea": {
      "model_module": "@jupyter-widgets/base",
      "model_module_version": "2.0.0",
      "model_name": "LayoutModel",
      "state": {
       "width": "100%"
      }
     },
     "68c136ce0e2f48918a5c2cf6976bfc73": {
      "model_module": "@jupyter-widgets/controls",
      "model_module_version": "2.0.0",
      "model_name": "SliderStyleModel",
      "state": {
       "description_width": ""
      }
     },
     "68d5c181c32f4d2bbdfd549a11db2e6a": {
      "model_module": "@jupyter-widgets/base",
      "model_module_version": "2.0.0",
      "model_name": "LayoutModel",
      "state": {
       "width": "100%"
      }
     },
     "695dc13729dc46b5abeefb502ab8e309": {
      "model_module": "@jupyter-widgets/base",
      "model_module_version": "2.0.0",
      "model_name": "LayoutModel",
      "state": {
       "width": "100%"
      }
     },
     "69733dc63c9b4239ade9f322e983f27c": {
      "model_module": "@jupyter-widgets/controls",
      "model_module_version": "2.0.0",
      "model_name": "FloatSliderModel",
      "state": {
       "behavior": "drag-tap",
       "description": "$\\x_0$",
       "layout": "IPY_MODEL_3875b998cb6448d897c03415858b237d",
       "max": 10,
       "min": -10,
       "readout_format": ".1f",
       "step": 0.1,
       "style": "IPY_MODEL_89d07461d91242c5b689b652c2cf2892",
       "value": 1
      }
     },
     "6b2e1efee5f74695a5b074af56cd529e": {
      "model_module": "@jupyter-widgets/controls",
      "model_module_version": "2.0.0",
      "model_name": "SliderStyleModel",
      "state": {
       "description_width": ""
      }
     },
     "6c25db1c588741058106a2fa1739499d": {
      "model_module": "@jupyter-widgets/controls",
      "model_module_version": "2.0.0",
      "model_name": "FloatSliderModel",
      "state": {
       "behavior": "drag-tap",
       "description": "$\\Omega$",
       "layout": "IPY_MODEL_77f25f61fa0d4160b766548bc9e7c284",
       "max": 5,
       "step": 0.01,
       "style": "IPY_MODEL_ac1b32114fed47a592e7bfd1adace2a7",
       "value": 1.2
      }
     },
     "6c3e4a7be5c94913855f9d0d307048ea": {
      "model_module": "@jupyter-widgets/controls",
      "model_module_version": "2.0.0",
      "model_name": "FloatSliderModel",
      "state": {
       "behavior": "drag-tap",
       "description": "$\\omega_0$",
       "layout": "IPY_MODEL_16a0c30da1c3427ebcc75fb8d8333fb4",
       "max": 5,
       "step": 0.01,
       "style": "IPY_MODEL_473ebfeb695948ce8308fe038643c477",
       "value": 1
      }
     },
     "6c472fc9f61e4848bc58a6e5c6ddcdd6": {
      "model_module": "@jupyter-widgets/controls",
      "model_module_version": "2.0.0",
      "model_name": "SliderStyleModel",
      "state": {
       "description_width": ""
      }
     },
     "6c9beb84c6eb40868cd5e4fd341e1535": {
      "model_module": "@jupyter-widgets/controls",
      "model_module_version": "2.0.0",
      "model_name": "FloatSliderModel",
      "state": {
       "behavior": "drag-tap",
       "description": "$\\v_0$",
       "layout": "IPY_MODEL_0df8c2d49efa437da60b6f1c4345d8a1",
       "min": -100,
       "readout_format": ".1f",
       "step": 0.1,
       "style": "IPY_MODEL_e472ed94111b4535a3d9f53c1ddeadc2"
      }
     },
     "6cb5a720f68e4e95a0e415400aa08118": {
      "model_module": "@jupyter-widgets/controls",
      "model_module_version": "2.0.0",
      "model_name": "FloatSliderModel",
      "state": {
       "behavior": "drag-tap",
       "description": "$\\x_0$",
       "layout": "IPY_MODEL_225a330507384c47ab5139ae162a17e8",
       "max": 10,
       "min": -10,
       "readout_format": ".1f",
       "step": 0.1,
       "style": "IPY_MODEL_03d0a544aed0448d883df227714204aa",
       "value": 1
      }
     },
     "6d03fa4231c64d7fb4802b65c8afa9c4": {
      "model_module": "@jupyter-widgets/base",
      "model_module_version": "2.0.0",
      "model_name": "LayoutModel",
      "state": {}
     },
     "6d4bd81f4bac4e2abff96fb3621677b4": {
      "model_module": "@jupyter-widgets/controls",
      "model_module_version": "2.0.0",
      "model_name": "FloatSliderModel",
      "state": {
       "behavior": "drag-tap",
       "description": "a",
       "layout": "IPY_MODEL_1d8b48457d4c415a90c865855e779d0b",
       "max": 3,
       "step": 0.01,
       "style": "IPY_MODEL_f92fbe3578444143ab42c447fac1245a",
       "value": 0.26
      }
     },
     "6d55f35adab144078ac73a1c2c8882ce": {
      "model_module": "@jupyter-widgets/controls",
      "model_module_version": "2.0.0",
      "model_name": "SliderStyleModel",
      "state": {
       "description_width": ""
      }
     },
     "6d86cee95e4348fabe7b9a6ab7d96bd7": {
      "model_module": "@jupyter-widgets/base",
      "model_module_version": "2.0.0",
      "model_name": "LayoutModel",
      "state": {
       "width": "100%"
      }
     },
     "6dff589d1094480da4d9460b5beb740f": {
      "model_module": "@jupyter-widgets/controls",
      "model_module_version": "2.0.0",
      "model_name": "VBoxModel",
      "state": {
       "_dom_classes": [
        "widget-interact"
       ],
       "children": [
        "IPY_MODEL_e5e011f2f62441eca46182b4b3e1bba3",
        "IPY_MODEL_c1ba5123632a4a3cbd88120e39f2d1ca",
        "IPY_MODEL_094affe8a72b4442a6351c1e01fccda8",
        "IPY_MODEL_fe579e421019412a89a34726707ad532",
        "IPY_MODEL_6c25db1c588741058106a2fa1739499d",
        "IPY_MODEL_3f8f196fcbe0450db6c075f4bb006516",
        "IPY_MODEL_31fad0f10cdb4bf0ab908b6ae8149c06",
        "IPY_MODEL_6fecaf731b5d4916872eadbf114f6bd8"
       ],
       "layout": "IPY_MODEL_730260de16cf490787d49955bdbfff80"
      }
     },
     "6ec17e88f5b540e3a973021581867746": {
      "model_module": "@jupyter-widgets/controls",
      "model_module_version": "2.0.0",
      "model_name": "FloatSliderModel",
      "state": {
       "behavior": "drag-tap",
       "description": "$\\Omega$",
       "layout": "IPY_MODEL_372cb89c9c8b42a49e76622e9340a41d",
       "max": 5,
       "step": 0.01,
       "style": "IPY_MODEL_3faeda75f6a842939dddcfe086acf903",
       "value": 1.1
      }
     },
     "6f6c960c45de429eb3ef9d0ae6f352e9": {
      "model_module": "@jupyter-widgets/controls",
      "model_module_version": "2.0.0",
      "model_name": "FloatSliderModel",
      "state": {
       "behavior": "drag-tap",
       "description": "$\\beta$",
       "layout": "IPY_MODEL_fb310b6c32024fb0a8651912b222496f",
       "max": 3,
       "step": 0.01,
       "style": "IPY_MODEL_815e3b021eb34f798c4f9ef25a7b9903",
       "value": 0.26
      }
     },
     "6fecaf731b5d4916872eadbf114f6bd8": {
      "model_module": "@jupyter-widgets/output",
      "model_module_version": "1.0.0",
      "model_name": "OutputModel",
      "state": {
       "layout": "IPY_MODEL_731c42d852d741a2bd762c6e272d4372",
       "outputs": [
        {
         "name": "stderr",
         "output_type": "stream",
         "text": "<lambdifygenerated-9>:2: RuntimeWarning: invalid value encountered in sqrt\n  return (1/2)*(2*a*(beta - 2*omega_0)*(beta + 2*omega_0)*(-Omega**2*cos(Omega*t) + Omega*beta*sin(Omega*t) + omega_0**2*cos(Omega*t))*exp(beta*t) + sqrt(beta**2 - 4*omega_0**2)*(-Omega**4*beta*x_0 - 2*Omega**4*v_0 + Omega**4*x_0*sqrt(beta**2 - 4*omega_0**2) + Omega**2*a*beta + Omega**2*a*sqrt(beta**2 - 4*omega_0**2) - Omega**2*beta**3*x_0 - 2*Omega**2*beta**2*v_0 + Omega**2*beta**2*x_0*sqrt(beta**2 - 4*omega_0**2) + 2*Omega**2*beta*omega_0**2*x_0 + 4*Omega**2*omega_0**2*v_0 - 2*Omega**2*omega_0**2*x_0*sqrt(beta**2 - 4*omega_0**2) + a*beta*omega_0**2 - a*omega_0**2*sqrt(beta**2 - 4*omega_0**2) - beta*omega_0**4*x_0 - 2*omega_0**4*v_0 + omega_0**4*x_0*sqrt(beta**2 - 4*omega_0**2))*exp((1/2)*t*(beta - sqrt(beta - 2*omega_0)*sqrt(beta + 2*omega_0))) + sqrt(beta**2 - 4*omega_0**2)*(Omega**4*beta*x_0 + 2*Omega**4*v_0 + Omega**4*x_0*sqrt(beta**2 - 4*omega_0**2) - Omega**2*a*beta + Omega**2*a*sqrt(beta**2 - 4*omega_0**2) + Omega**2*beta**3*x_0 + 2*Omega**2*beta**2*v_0 + Omega**2*beta**2*x_0*sqrt(beta**2 - 4*omega_0**2) - 2*Omega**2*beta*omega_0**2*x_0 - 4*Omega**2*omega_0**2*v_0 - 2*Omega**2*omega_0**2*x_0*sqrt(beta**2 - 4*omega_0**2) - a*beta*omega_0**2 - a*omega_0**2*sqrt(beta**2 - 4*omega_0**2) + beta*omega_0**4*x_0 + 2*omega_0**4*v_0 + omega_0**4*x_0*sqrt(beta**2 - 4*omega_0**2))*exp((1/2)*t*(beta + sqrt(beta - 2*omega_0)*sqrt(beta + 2*omega_0))))*exp(-beta*t)/((beta - 2*omega_0)*(beta + 2*omega_0)*(Omega**4 + Omega**2*beta**2 - 2*Omega**2*omega_0**2 + omega_0**4))\n"
        },
        {
         "data": {
          "image/png": "iVBORw0KGgoAAAANSUhEUgAAAjgAAAGdCAYAAAAfTAk2AAAAOXRFWHRTb2Z0d2FyZQBNYXRwbG90bGliIHZlcnNpb24zLjguMiwgaHR0cHM6Ly9tYXRwbG90bGliLm9yZy8g+/7EAAAACXBIWXMAAA9hAAAPYQGoP6dpAAAf30lEQVR4nO3dfWzV5f3/8deRllPR9ohUWqoFijPcBE2khNIuFbdgKd7BZJEb7ZxxjM4oAjEC4gLBhAIzjJlyM2vdNHHAFHD8wQh1CGH2AEIAO6gkarmZ9IhFOKcTV+6u7x/8OD+PpxRw/bQ9b56P5PzR61yf0+v6BO2TTz/n4HPOOQEAABhyXXsvAAAAoLUROAAAwBwCBwAAmEPgAAAAcwgcAABgDoEDAADMIXAAAIA5BA4AADAnqb0X0B7Onz+vo0ePKjU1VT6fr72XAwAAroBzTo2NjcrKytJ117V8jeaaDJyjR48qOzu7vZcBAAB+gCNHjui2225rcc41GTipqamSLpygtLS0dl4NAAC4EpFIRNnZ2dGf4y25JgPn4q+l0tLSCBwAABLMldxewk3GAADAHAIHAACYQ+AAAABzCBwAAGAOgQMAAMwhcAAAgDkEDgAAMIfAAQAA5hA4AADAHAIHAACYQ+AAAABzCBwAAGAOgQMAAMwhcAAAgDkEDgAAMIfAAQAA5hA4AADAHAIHAACYQ+AAAABzCBwAAGAOgQMAAMwhcAAAgDkEDgAAMIfAAQAA5hA4AADAHAIHAACYQ+AAAABzCBwAAGAOgQMAAMwhcAAAgDkEDgAAMIfAAQAA5hA4AADAHAIHAACYQ+AAAABzCBwAAGAOgQMAAMwhcAAAgDkEDgAAMIfAAQAA5hA4AADAHAIHAACYQ+AAAABz2iRwli5dqpycHKWkpCg3N1dbt25tcf6WLVuUm5urlJQU9enTR8uXL7/k3JUrV8rn82n06NGtvGoAAJCoPA+cVatWacqUKZo1a5Z2796twsJCjRw5UocPH252fl1dne6//34VFhZq9+7devHFFzV58mStXr06bu6hQ4f0/PPPq7Cw0OttAACABOJzzjkvv0FeXp4GDRqkZcuWRcf69++v0aNHq6ysLG7+9OnTtW7dOtXW1kbHSktLtXfvXgWDwejYuXPnNGzYMD355JPaunWrTp48qffee++K1hSJRBQIBBQOh5WWlvbDNwcAANrM1fz89vQKzunTp7Vr1y4VFRXFjBcVFam6urrZY4LBYNz8ESNGaOfOnTpz5kx0bO7cubrlllv01FNPXXYdTU1NikQiMQ8AAGCXp4HT0NCgc+fOKSMjI2Y8IyNDoVCo2WNCoVCz88+ePauGhgZJ0ocffqjKykpVVFRc0TrKysoUCASij+zs7B+wGwAAkCja5CZjn88X87VzLm7scvMvjjc2Nurxxx9XRUWF0tPTr+j7z5w5U+FwOPo4cuTIVe4AAAAkkiQvXzw9PV2dOnWKu1pz7NixuKs0F2VmZjY7PykpSd26ddO+fft08OBBPfTQQ9Hnz58/L0lKSkrSgQMHdPvtt8cc7/f75ff7W2NLAAAgAXh6Badz587Kzc1VVVVVzHhVVZUKCgqaPSY/Pz9u/saNGzV48GAlJyerX79+qqmp0Z49e6KPhx9+WD/5yU+0Z88efv0EAAC8vYIjSdOmTVNJSYkGDx6s/Px8vfbaazp8+LBKS0slXfj10RdffKG33npL0oV3TJWXl2vatGmaOHGigsGgKisrtWLFCklSSkqKBg4cGPM9brrpJkmKGwcAANcmzwNn7NixOn78uObOnav6+noNHDhQ69evV69evSRJ9fX1MZ+Jk5OTo/Xr12vq1KlasmSJsrKy9Oqrr2rMmDFeLxUAABjh+efgdER8Dg4AAImnw3wODgAAQHsgcAAAgDkEDgAAMIfAAQAA5hA4AADAHAIHAACYQ+AAAABzCBwAAGAOgQMAAMwhcAAAgDkEDgAAMIfAAQAA5hA4AADAHAIHAACYQ+AAAABzCBwAAGAOgQMAAMwhcAAAgDkEDgAAMIfAAQAA5hA4AADAHAIHAACYQ+AAAABzCBwAAGAOgQMAAMwhcAAAgDkEDgAAMIfAAQAA5hA4AADAHAIHAACYQ+AAAABzCBwAAGAOgQMAAMwhcAAAgDkEDgAAMIfAAQAA5hA4AADAHAIHAACYQ+AAAABzCBwAAGAOgQMAAMwhcAAAgDkEDgAAMIfAAQAA5hA4AADAHAIHAACYQ+AAAABzCBwAAGAOgQMAAMwhcAAAgDkEDgAAMIfAAQAA5hA4AADAHAIHAACYQ+AAAABzCBwAAGBOmwTO0qVLlZOTo5SUFOXm5mrr1q0tzt+yZYtyc3OVkpKiPn36aPny5THPV1RUqLCwUF27dlXXrl01fPhw7dixw8stAACABOJ54KxatUpTpkzRrFmztHv3bhUWFmrkyJE6fPhws/Pr6up0//33q7CwULt379aLL76oyZMna/Xq1dE5mzdv1vjx4/XBBx8oGAyqZ8+eKioq0hdffOH1dgAAQALwOeecl98gLy9PgwYN0rJly6Jj/fv31+jRo1VWVhY3f/r06Vq3bp1qa2ujY6Wlpdq7d6+CwWCz3+PcuXPq2rWrysvL9Ytf/OKya4pEIgoEAgqHw0pLS/sBuwIAAG3tan5+e3oF5/Tp09q1a5eKiopixouKilRdXd3sMcFgMG7+iBEjtHPnTp05c6bZY06dOqUzZ87o5ptvbvb5pqYmRSKRmAcAALDL08BpaGjQuXPnlJGRETOekZGhUCjU7DGhUKjZ+WfPnlVDQ0Ozx8yYMUO33nqrhg8f3uzzZWVlCgQC0Ud2dvYP2A0AAEgUbXKTsc/ni/naORc3drn5zY1L0sKFC7VixQqtWbNGKSkpzb7ezJkzFQ6Ho48jR45c7RYAAEACSfLyxdPT09WpU6e4qzXHjh2Lu0pzUWZmZrPzk5KS1K1bt5jxV155RfPmzdP777+vu+6665Lr8Pv98vv9P3AXAAAg0Xh6Badz587Kzc1VVVVVzHhVVZUKCgqaPSY/Pz9u/saNGzV48GAlJydHx373u9/p5Zdf1oYNGzR48ODWXzwAAEhYnv+Katq0aXr99df1xhtvqLa2VlOnTtXhw4dVWloq6cKvj777zqfS0lIdOnRI06ZNU21trd544w1VVlbq+eefj85ZuHChXnrpJb3xxhvq3bu3QqGQQqGQ/vOf/3i9HQAAkAA8/RWVJI0dO1bHjx/X3LlzVV9fr4EDB2r9+vXq1auXJKm+vj7mM3FycnK0fv16TZ06VUuWLFFWVpZeffVVjRkzJjpn6dKlOn36tH7+85/HfK/Zs2drzpw5Xm8JAAB0cJ5/Dk5HxOfgAACQeDrM5+AAAAC0BwIHAACYQ+AAAABzCBwAAGAOgQMAAMwhcAAAgDkEDgAAMIfAAQAA5hA4AADAHAIHAACYQ+AAAABzCBwAAGAOgQMAAMwhcAAAgDkEDgAAMIfAAQAA5hA4AADAHAIHAACYQ+AAAABzCBwAAGAOgQMAAMwhcAAAgDkEDgAAMIfAAQAA5hA4AADAHAIHAACYQ+AAAABzCBwAAGAOgQMAAMwhcAAAgDkEDgAAMIfAAQAA5hA4AADAHAIHAACYQ+AAAABzCBwAAGAOgQMAAMwhcAAAgDkEDgAAMIfAAQAA5hA4AADAHAIHAACYQ+AAAABzCBwAAGAOgQMAAMwhcAAAgDkEDgAAMIfAAQAA5hA4AADAHAIHAACYQ+AAAABzCBwAAGAOgQMAAMwhcAAAgDkEDgAAMIfAAQAA5rRJ4CxdulQ5OTlKSUlRbm6utm7d2uL8LVu2KDc3VykpKerTp4+WL18eN2f16tUaMGCA/H6/BgwYoLVr13q1fAAAkGA8D5xVq1ZpypQpmjVrlnbv3q3CwkKNHDlShw8fbnZ+XV2d7r//fhUWFmr37t168cUXNXnyZK1evTo6JxgMauzYsSopKdHevXtVUlKiRx99VNu3b/d6OwAAIAH4nHPOy2+Ql5enQYMGadmyZdGx/v37a/To0SorK4ubP336dK1bt061tbXRsdLSUu3du1fBYFCSNHbsWEUiEf3973+PzikuLlbXrl21YsWKy64pEokoEAgoHA4rLS3tf9keAABoI1fz89vTKzinT5/Wrl27VFRUFDNeVFSk6urqZo8JBoNx80eMGKGdO3fqzJkzLc651Gs2NTUpEonEPAAAgF2eBk5DQ4POnTunjIyMmPGMjAyFQqFmjwmFQs3OP3v2rBoaGlqcc6nXLCsrUyAQiD6ys7N/6JYAAEACaJObjH0+X8zXzrm4scvN//741bzmzJkzFQ6Ho48jR45c1foBAEBiSfLyxdPT09WpU6e4KyvHjh2LuwJzUWZmZrPzk5KS1K1btxbnXOo1/X6//H7/D90GAABIMJ5ewencubNyc3NVVVUVM15VVaWCgoJmj8nPz4+bv3HjRg0ePFjJycktzrnUawIAgGuLp1dwJGnatGkqKSnR4MGDlZ+fr9dee02HDx9WaWmppAu/Pvriiy/01ltvSbrwjqny8nJNmzZNEydOVDAYVGVlZcy7o5577jndc889WrBggUaNGqW//e1vev/99/XPf/7T6+0AAIAE4HngjB07VsePH9fcuXNVX1+vgQMHav369erVq5ckqb6+PuYzcXJycrR+/XpNnTpVS5YsUVZWll599VWNGTMmOqegoEArV67USy+9pN/+9re6/fbbtWrVKuXl5Xm9HQAAkAA8/xycjojPwQEAIPF0mM/BAQAAaA8EDgAAMIfAAQAA5hA4AADAHAIHAACYQ+AAAABzCBwAAGAOgQMAAMwhcAAAgDkEDgAAMIfAAQAA5hA4AADAHAIHAACYQ+AAAABzCBwAAGAOgQMAAMwhcAAAgDkEDgAAMIfAAQAA5hA4AADAHAIHAACYQ+AAAABzCBwAAGAOgQMAAMwhcAAAgDkEDgAAMIfAAQAA5hA4AADAHAIHAACYQ+AAAABzCBwAAGAOgQMAAMwhcAAAgDkEDgAAMIfAAQAA5hA4AADAHAIHAACYQ+AAAABzCBwAAGAOgQMAAMwhcAAAgDkEDgAAMIfAAQAA5hA4AADAHAIHAACYQ+AAAABzCBwAAGAOgQMAAMwhcAAAgDkEDgAAMIfAAQAA5hA4AADAHAIHAACYQ+AAAABzCBwAAGAOgQMAAMzxNHBOnDihkpISBQIBBQIBlZSU6OTJky0e45zTnDlzlJWVpeuvv1733nuv9u3bF33+66+/1rPPPqu+ffuqS5cu6tmzpyZPnqxwOOzlVgAAQALxNHAmTJigPXv2aMOGDdqwYYP27NmjkpKSFo9ZuHChFi1apPLycn300UfKzMzUfffdp8bGRknS0aNHdfToUb3yyiuqqanRn//8Z23YsEFPPfWUl1sBAAAJxOecc168cG1trQYMGKBt27YpLy9PkrRt2zbl5+frk08+Ud++feOOcc4pKytLU6ZM0fTp0yVJTU1NysjI0IIFCzRp0qRmv9c777yjxx9/XN98842SkpIuu7ZIJKJAIKBwOKy0tLT/YZcAAKCtXM3Pb8+u4ASDQQUCgWjcSNLQoUMVCARUXV3d7DF1dXUKhUIqKiqKjvn9fg0bNuySx0iKbvRK4gYAANjnWRGEQiF17949brx79+4KhUKXPEaSMjIyYsYzMjJ06NChZo85fvy4Xn755Ute3ZEuXAVqamqKfh2JRC67fgAAkLiu+grOnDlz5PP5Wnzs3LlTkuTz+eKOd841O/5d33/+UsdEIhE98MADGjBggGbPnn3J1ysrK4ve6BwIBJSdnX0lWwUAAAnqqq/gPPPMMxo3blyLc3r37q2PP/5YX375ZdxzX331VdwVmosyMzMlXbiS06NHj+j4sWPH4o5pbGxUcXGxbrzxRq1du1bJycmXXM/MmTM1bdq06NeRSITIAQDAsKsOnPT0dKWnp192Xn5+vsLhsHbs2KEhQ4ZIkrZv365wOKyCgoJmj8nJyVFmZqaqqqp09913S5JOnz6tLVu2aMGCBdF5kUhEI0aMkN/v17p165SSktLiWvx+v/x+/5VuEQAAJDjPbjLu37+/iouLNXHiRG3btk3btm3TxIkT9eCDD8a8g6pfv35au3atpAu/mpoyZYrmzZuntWvX6l//+pd++ctfqkuXLpowYYKkC1duioqK9M0336iyslKRSEShUEihUEjnzp3zajsAACCBePq2o7fffluTJ0+Ovivq4YcfVnl5ecycAwcOxHxI3wsvvKBvv/1WTz/9tE6cOKG8vDxt3LhRqampkqRdu3Zp+/btkqQf/ehHMa9VV1en3r17e7gjAACQCDz7HJyOjM/BAQAg8XSIz8EBAABoLwQOAAAwh8ABAADmEDgAAMAcAgcAAJhD4AAAAHMIHAAAYA6BAwAAzCFwAACAOQQOAAAwh8ABAADmEDgAAMAcAgcAAJhD4AAAAHMIHAAAYA6BAwAAzCFwAACAOQQOAAAwh8ABAADmEDgAAMAcAgcAAJhD4AAAAHMIHAAAYA6BAwAAzCFwAACAOQQOAAAwh8ABAADmEDgAAMAcAgcAAJhD4AAAAHMIHAAAYA6BAwAAzCFwAACAOQQOAAAwh8ABAADmEDgAAMAcAgcAAJhD4AAAAHMIHAAAYA6BAwAAzCFwAACAOQQOAAAwh8ABAADmEDgAAMAcAgcAAJhD4AAAAHMIHAAAYA6BAwAAzCFwAACAOQQOAAAwh8ABAADmEDgAAMAcAgcAAJhD4AAAAHMIHAAAYA6BAwAAzCFwAACAOZ4GzokTJ1RSUqJAIKBAIKCSkhKdPHmyxWOcc5ozZ46ysrJ0/fXX695779W+ffsuOXfkyJHy+Xx67733Wn8DAAAgIXkaOBMmTNCePXu0YcMGbdiwQXv27FFJSUmLxyxcuFCLFi1SeXm5PvroI2VmZuq+++5TY2Nj3NzFixfL5/N5tXwAAJCgkrx64draWm3YsEHbtm1TXl6eJKmiokL5+fk6cOCA+vbtG3eMc06LFy/WrFmz9Mgjj0iS3nzzTWVkZOgvf/mLJk2aFJ27d+9eLVq0SB999JF69Ojh1TYAAEAC8uwKTjAYVCAQiMaNJA0dOlSBQEDV1dXNHlNXV6dQKKSioqLomN/v17Bhw2KOOXXqlMaPH6/y8nJlZmZedi1NTU2KRCIxDwAAYJdngRMKhdS9e/e48e7duysUCl3yGEnKyMiIGc/IyIg5ZurUqSooKNCoUaOuaC1lZWXR+4ACgYCys7OvdBsAACABXXXgzJkzRz6fr8XHzp07JanZ+2Occ5e9b+b7z3/3mHXr1mnTpk1avHjxFa955syZCofD0ceRI0eu+FgAAJB4rvoenGeeeUbjxo1rcU7v3r318ccf68svv4x77quvvoq7QnPRxV83hUKhmPtqjh07Fj1m06ZN+uyzz3TTTTfFHDtmzBgVFhZq8+bNca/r9/vl9/tbXDMAALDjqgMnPT1d6enpl52Xn5+vcDisHTt2aMiQIZKk7du3KxwOq6CgoNljcnJylJmZqaqqKt19992SpNOnT2vLli1asGCBJGnGjBn61a9+FXPcnXfeqd///vd66KGHrnY7AADAIM/eRdW/f38VFxdr4sSJ+uMf/yhJ+vWvf60HH3ww5h1U/fr1U1lZmX72s5/J5/NpypQpmjdvnu644w7dcccdmjdvnrp06aIJEyZIunCVp7kbi3v27KmcnByvtgMAABKIZ4EjSW+//bYmT54cfVfUww8/rPLy8pg5Bw4cUDgcjn79wgsv6Ntvv9XTTz+tEydOKC8vTxs3blRqaqqXSwUAAIb4nHOuvRfR1iKRiAKBgMLhsNLS0tp7OQAA4Apczc9v/i0qAABgDoEDAADMIXAAAIA5BA4AADCHwAEAAOYQOAAAwBwCBwAAmEPgAAAAcwgcAABgDoEDAADMIXAAAIA5BA4AADCHwAEAAOYQOAAAwBwCBwAAmEPgAAAAcwgcAABgDoEDAADMIXAAAIA5BA4AADCHwAEAAOYQOAAAwBwCBwAAmEPgAAAAcwgcAABgDoEDAADMIXAAAIA5BA4AADCHwAEAAOYQOAAAwBwCBwAAmEPgAAAAcwgcAABgDoEDAADMIXAAAIA5BA4AADCHwAEAAOYQOAAAwBwCBwAAmEPgAAAAcwgcAABgDoEDAADMSWrvBbQH55wkKRKJtPNKAADAlbr4c/viz/GWXJOB09jYKEnKzs5u55UAAICr1djYqEAg0OIcn7uSDDLm/PnzOnr0qFJTU+Xz+dp7Oe0uEokoOztbR44cUVpaWnsvxyzOc9vgPLcdznXb4Dz/f845NTY2KisrS9dd1/JdNtfkFZzrrrtOt912W3svo8NJS0u75v/jaQuc57bBeW47nOu2wXm+4HJXbi7iJmMAAGAOgQMAAMwhcCC/36/Zs2fL7/e391JM4zy3Dc5z2+Fctw3O8w9zTd5kDAAAbOMKDgAAMIfAAQAA5hA4AADAHAIHAACYQ+BcA06cOKGSkhIFAgEFAgGVlJTo5MmTLR7jnNOcOXOUlZWl66+/Xvfee6/27dt3ybkjR46Uz+fTe++91/obSBBenOevv/5azz77rPr27asuXbqoZ8+emjx5ssLhsMe76ViWLl2qnJwcpaSkKDc3V1u3bm1x/pYtW5Sbm6uUlBT16dNHy5cvj5uzevVqDRgwQH6/XwMGDNDatWu9Wn7CaO3zXFFRocLCQnXt2lVdu3bV8OHDtWPHDi+3kBC8+PN80cqVK+Xz+TR69OhWXnUCcjCvuLjYDRw40FVXV7vq6mo3cOBA9+CDD7Z4zPz5811qaqpbvXq1q6mpcWPHjnU9evRwkUgkbu6iRYvcyJEjnSS3du1aj3bR8Xlxnmtqatwjjzzi1q1b5z799FP3j3/8w91xxx1uzJgxbbGlDmHlypUuOTnZVVRUuP3797vnnnvO3XDDDe7QoUPNzv/8889dly5d3HPPPef279/vKioqXHJysnv33Xejc6qrq12nTp3cvHnzXG1trZs3b55LSkpy27Zta6ttdThenOcJEya4JUuWuN27d7va2lr35JNPukAg4P7973+31bY6HC/O80UHDx50t956qyssLHSjRo3yeCcdH4Fj3P79+52kmP9xB4NBJ8l98sknzR5z/vx5l5mZ6ebPnx8d++9//+sCgYBbvnx5zNw9e/a42267zdXX11/TgeP1ef6uv/71r65z587uzJkzrbeBDmzIkCGutLQ0Zqxfv35uxowZzc5/4YUXXL9+/WLGJk2a5IYOHRr9+tFHH3XFxcUxc0aMGOHGjRvXSqtOPF6c5+87e/asS01NdW+++eb/vuAE5dV5Pnv2rPvxj3/sXn/9dffEE08QOM45fkVlXDAYVCAQUF5eXnRs6NChCgQCqq6ubvaYuro6hUIhFRUVRcf8fr+GDRsWc8ypU6c0fvx4lZeXKzMz07tNJAAvz/P3hcNhpaWlKSnJ/j8ld/r0ae3atSvmHElSUVHRJc9RMBiMmz9ixAjt3LlTZ86caXFOS+fdMq/O8/edOnVKZ86c0c0339w6C08wXp7nuXPn6pZbbtFTTz3V+gtPUASOcaFQSN27d48b7969u0Kh0CWPkaSMjIyY8YyMjJhjpk6dqoKCAo0aNaoVV5yYvDzP33X8+HG9/PLLmjRp0v+44sTQ0NCgc+fOXdU5CoVCzc4/e/asGhoaWpxzqde0zqvz/H0zZszQrbfequHDh7fOwhOMV+f5ww8/VGVlpSoqKrxZeIIicBLUnDlz5PP5Wnzs3LlTkuTz+eKOd841O/5d33/+u8esW7dOmzZt0uLFi1tnQx1Ue5/n74pEInrggQc0YMAAzZ49+3/YVeK50nPU0vzvj1/ta14LvDjPFy1cuFArVqzQmjVrlJKS0gqrTVyteZ4bGxv1+OOPq6KiQunp6a2/2ARm/xq3Uc8884zGjRvX4pzevXvr448/1pdffhn33FdffRX3t4KLLv66KRQKqUePHtHxY8eORY/ZtGmTPvvsM910000xx44ZM0aFhYXavHnzVeym42rv83xRY2OjiouLdeONN2rt2rVKTk6+2q0kpPT0dHXq1Cnub7fNnaOLMjMzm52flJSkbt26tTjnUq9pnVfn+aJXXnlF8+bN0/vvv6+77rqrdRefQLw4z/v27dPBgwf10EMPRZ8/f/68JCkpKUkHDhzQ7bff3so7SRDtdO8P2sjFm1+3b98eHdu2bdsV3fy6YMGC6FhTU1PMza/19fWupqYm5iHJ/eEPf3Cff/65t5vqgLw6z845Fw6H3dChQ92wYcPcN998490mOqghQ4a43/zmNzFj/fv3b/GmzP79+8eMlZaWxt1kPHLkyJg5xcXF1/xNxq19np1zbuHChS4tLc0Fg8HWXXCCau3z/O2338b9v3jUqFHupz/9qaupqXFNTU3ebCQBEDjXgOLiYnfXXXe5YDDogsGgu/POO+Pevty3b1+3Zs2a6Nfz5893gUDArVmzxtXU1Ljx48df8m3iF+kafheVc96c50gk4vLy8tydd97pPv30U1dfXx99nD17tk33114uvq22srLS7d+/302ZMsXdcMMN7uDBg84552bMmOFKSkqi8y++rXbq1Klu//79rrKyMu5ttR9++KHr1KmTmz9/vqutrXXz58/nbeIenOcFCxa4zp07u3fffTfmz25jY2Ob76+j8OI8fx/vorqAwLkGHD9+3D322GMuNTXVpaamuscee8ydOHEiZo4k96c//Sn69fnz593s2bNdZmam8/v97p577nE1NTUtfp9rPXC8OM8ffPCBk9Tso66urm021gEsWbLE9erVy3Xu3NkNGjTIbdmyJfrcE0884YYNGxYzf/Pmze7uu+92nTt3dr1793bLli2Le8133nnH9e3b1yUnJ7t+/fq51atXe72NDq+1z3OvXr2a/bM7e/bsNthNx+XFn+fvInAu8Dn3/+5WAgAAMIJ3UQEAAHMIHAAAYA6BAwAAzCFwAACAOQQOAAAwh8ABAADmEDgAAMAcAgcAAJhD4AAAAHMIHAAAYA6BAwAAzCFwAACAOf8Ht4uZEzvoVekAAAAASUVORK5CYII=",
          "text/plain": "<Figure size 640x480 with 1 Axes>"
         },
         "metadata": {},
         "output_type": "display_data"
        }
       ]
      }
     },
     "7178ae01257e4a9780b4a4d49c7066f0": {
      "model_module": "@jupyter-widgets/controls",
      "model_module_version": "2.0.0",
      "model_name": "SliderStyleModel",
      "state": {
       "description_width": ""
      }
     },
     "71a827386a154fd7b404bfe159d37e94": {
      "model_module": "@jupyter-widgets/base",
      "model_module_version": "2.0.0",
      "model_name": "LayoutModel",
      "state": {
       "width": "100%"
      }
     },
     "71e0fd8baa184c91b426eb86dd589408": {
      "model_module": "@jupyter-widgets/base",
      "model_module_version": "2.0.0",
      "model_name": "LayoutModel",
      "state": {
       "width": "100%"
      }
     },
     "72b71bd85ec749e6b9cab8326a719c03": {
      "model_module": "@jupyter-widgets/base",
      "model_module_version": "2.0.0",
      "model_name": "LayoutModel",
      "state": {
       "width": "100%"
      }
     },
     "730260de16cf490787d49955bdbfff80": {
      "model_module": "@jupyter-widgets/base",
      "model_module_version": "2.0.0",
      "model_name": "LayoutModel",
      "state": {}
     },
     "731c42d852d741a2bd762c6e272d4372": {
      "model_module": "@jupyter-widgets/base",
      "model_module_version": "2.0.0",
      "model_name": "LayoutModel",
      "state": {}
     },
     "7361018d7ed0444f94d99e0829af8eb4": {
      "model_module": "@jupyter-widgets/controls",
      "model_module_version": "2.0.0",
      "model_name": "FloatSliderModel",
      "state": {
       "behavior": "drag-tap",
       "description": "$\\Omega$",
       "layout": "IPY_MODEL_695dc13729dc46b5abeefb502ab8e309",
       "max": 5,
       "step": 0.01,
       "style": "IPY_MODEL_df4b4f3f4dfa440f9a9802b8e86dddfa",
       "value": 0.86
      }
     },
     "737cc4f9cdce48d8aeae29caaf0ea7cf": {
      "model_module": "@jupyter-widgets/base",
      "model_module_version": "2.0.0",
      "model_name": "LayoutModel",
      "state": {
       "width": "100%"
      }
     },
     "74178249385740fbb0eb973128f44ed4": {
      "model_module": "@jupyter-widgets/controls",
      "model_module_version": "2.0.0",
      "model_name": "FloatSliderModel",
      "state": {
       "behavior": "drag-tap",
       "description": "$\\beta$",
       "layout": "IPY_MODEL_04db68d6932646a89cb801dfe993311c",
       "max": 3,
       "step": 0.01,
       "style": "IPY_MODEL_2f4a2cbbed6e49718e6cc0c3e72c0e88",
       "value": 0.9999999999999999
      }
     },
     "749013a15c2b49f0a15626fbf7d228f5": {
      "model_module": "@jupyter-widgets/controls",
      "model_module_version": "2.0.0",
      "model_name": "FloatSliderModel",
      "state": {
       "behavior": "drag-tap",
       "description": "$\\beta$",
       "layout": "IPY_MODEL_84c75fad9a07449c902712e7a9526521",
       "max": 3,
       "step": 0.01,
       "style": "IPY_MODEL_7994b131772f4db2bc79032497ae3f54",
       "value": 0.9999999999999999
      }
     },
     "74f56663cffb483487182d237e9b563c": {
      "model_module": "@jupyter-widgets/controls",
      "model_module_version": "2.0.0",
      "model_name": "FloatSliderModel",
      "state": {
       "behavior": "drag-tap",
       "description": "$\\x_0$",
       "layout": "IPY_MODEL_8341998615b447cc8349e48bc86456c1",
       "max": 10,
       "min": -10,
       "readout_format": ".1f",
       "step": 0.1,
       "style": "IPY_MODEL_f2be6625293d48179bb7143c8f2c8cfd",
       "value": 1
      }
     },
     "77014f5fa141422abd6ee9a18a0c6952": {
      "model_module": "@jupyter-widgets/base",
      "model_module_version": "2.0.0",
      "model_name": "LayoutModel",
      "state": {
       "width": "100%"
      }
     },
     "772fbad8d12f4b9c9226d329900f9a3f": {
      "model_module": "@jupyter-widgets/controls",
      "model_module_version": "2.0.0",
      "model_name": "SliderStyleModel",
      "state": {
       "description_width": ""
      }
     },
     "77c8799545ff42e89483de792eb386ec": {
      "model_module": "@jupyter-widgets/controls",
      "model_module_version": "2.0.0",
      "model_name": "SliderStyleModel",
      "state": {
       "description_width": ""
      }
     },
     "77f25f61fa0d4160b766548bc9e7c284": {
      "model_module": "@jupyter-widgets/base",
      "model_module_version": "2.0.0",
      "model_name": "LayoutModel",
      "state": {
       "width": "100%"
      }
     },
     "7994b131772f4db2bc79032497ae3f54": {
      "model_module": "@jupyter-widgets/controls",
      "model_module_version": "2.0.0",
      "model_name": "SliderStyleModel",
      "state": {
       "description_width": ""
      }
     },
     "799625490a6c4621a3caa66c634e586a": {
      "model_module": "@jupyter-widgets/output",
      "model_module_version": "1.0.0",
      "model_name": "OutputModel",
      "state": {
       "layout": "IPY_MODEL_1453704654df4dbf99dac3d0cd0ae183",
       "outputs": [
        {
         "data": {
          "image/png": "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",
          "text/plain": "<Figure size 640x480 with 1 Axes>"
         },
         "metadata": {},
         "output_type": "display_data"
        }
       ]
      }
     },
     "7afd2032711746329e8c06b467778d4c": {
      "model_module": "@jupyter-widgets/base",
      "model_module_version": "2.0.0",
      "model_name": "LayoutModel",
      "state": {
       "width": "100%"
      }
     },
     "7afdff4122244c9094f0116e0cf1f9b3": {
      "model_module": "@jupyter-widgets/controls",
      "model_module_version": "2.0.0",
      "model_name": "VBoxModel",
      "state": {
       "_dom_classes": [
        "widget-interact"
       ],
       "children": [
        "IPY_MODEL_c5acb0d909ea45a19043083571f619ed",
        "IPY_MODEL_e7722cbbba354dd1b1aefdfb6ed6503f",
        "IPY_MODEL_a2750b543f614805bb746fb25ebfd10b",
        "IPY_MODEL_9fd935b462374ed1ab1f3fad6c9e02c2",
        "IPY_MODEL_948801db08ef4f1e8a16e110295af512",
        "IPY_MODEL_6cb5a720f68e4e95a0e415400aa08118",
        "IPY_MODEL_840714949fd74e22ab54593e8bd18398",
        "IPY_MODEL_911cae86f2374eef837035e1220335c6"
       ],
       "layout": "IPY_MODEL_b6775b768b0a4a6b83148744a13607d8"
      }
     },
     "7bf5d90918704a81a3655133abee9648": {
      "model_module": "@jupyter-widgets/output",
      "model_module_version": "1.0.0",
      "model_name": "OutputModel",
      "state": {
       "layout": "IPY_MODEL_baab5086f3e0452aa403d28f67655467",
       "outputs": [
        {
         "data": {
          "image/png": "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",
          "text/plain": "<Figure size 640x480 with 1 Axes>"
         },
         "metadata": {},
         "output_type": "display_data"
        }
       ]
      }
     },
     "7bf7404d75204b31b11a37452d437959": {
      "model_module": "@jupyter-widgets/base",
      "model_module_version": "2.0.0",
      "model_name": "LayoutModel",
      "state": {
       "width": "100%"
      }
     },
     "7bfd776937404082bb1e78594e293455": {
      "model_module": "@jupyter-widgets/controls",
      "model_module_version": "2.0.0",
      "model_name": "IntSliderModel",
      "state": {
       "behavior": "drag-tap",
       "description": "$t_{\\max}$",
       "layout": "IPY_MODEL_6d86cee95e4348fabe7b9a6ab7d96bd7",
       "max": 200,
       "min": 10,
       "style": "IPY_MODEL_d1c8808ee18948a48442ff12fde22831",
       "value": 50
      }
     },
     "7c7b500941b24de899cdd375d6c23c06": {
      "model_module": "@jupyter-widgets/base",
      "model_module_version": "2.0.0",
      "model_name": "LayoutModel",
      "state": {}
     },
     "7cf613b5e1a74868a961012be6d4e470": {
      "model_module": "@jupyter-widgets/controls",
      "model_module_version": "2.0.0",
      "model_name": "SliderStyleModel",
      "state": {
       "description_width": ""
      }
     },
     "7d11086a30af410f943d80d129bdd576": {
      "model_module": "@jupyter-widgets/controls",
      "model_module_version": "2.0.0",
      "model_name": "SliderStyleModel",
      "state": {
       "description_width": ""
      }
     },
     "7d7c534bab524d6ba7c4d3e66c5cba01": {
      "model_module": "@jupyter-widgets/output",
      "model_module_version": "1.0.0",
      "model_name": "OutputModel",
      "state": {
       "layout": "IPY_MODEL_4cbc287f09064de4a2084d082a8b5554",
       "outputs": [
        {
         "data": {
          "image/png": "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",
          "text/plain": "<Figure size 640x480 with 1 Axes>"
         },
         "metadata": {},
         "output_type": "display_data"
        }
       ]
      }
     },
     "7e62c7a586d545e3a18aa93927cc7deb": {
      "model_module": "@jupyter-widgets/controls",
      "model_module_version": "2.0.0",
      "model_name": "SliderStyleModel",
      "state": {
       "description_width": ""
      }
     },
     "804f7ce712294551b66ef2f5624300d6": {
      "model_module": "@jupyter-widgets/controls",
      "model_module_version": "2.0.0",
      "model_name": "SliderStyleModel",
      "state": {
       "description_width": ""
      }
     },
     "808c292be77e43809546a83f44e300dc": {
      "model_module": "@jupyter-widgets/base",
      "model_module_version": "2.0.0",
      "model_name": "LayoutModel",
      "state": {
       "width": "100%"
      }
     },
     "809414845e024e82bed5c4949ff77cbf": {
      "model_module": "@jupyter-widgets/controls",
      "model_module_version": "2.0.0",
      "model_name": "SliderStyleModel",
      "state": {
       "description_width": ""
      }
     },
     "80b391d54092438fb8f4892e55fad6c8": {
      "model_module": "@jupyter-widgets/controls",
      "model_module_version": "2.0.0",
      "model_name": "VBoxModel",
      "state": {
       "_dom_classes": [
        "widget-interact"
       ],
       "children": [
        "IPY_MODEL_5c35771cef684746a9543f36ac383b2f",
        "IPY_MODEL_38acbca20613456785f6b63f4b17b72d",
        "IPY_MODEL_6c3e4a7be5c94913855f9d0d307048ea",
        "IPY_MODEL_529b63e6f51040c98dc40af3a3954855",
        "IPY_MODEL_e717022e18af463396c60efd6c4d0833",
        "IPY_MODEL_f0f77b884184423c9135dc7cd8a07153",
        "IPY_MODEL_ca8e3688f8fe4a06a749393325e62a2b",
        "IPY_MODEL_1aec55f70abb4aed9d4102ec56fa2e0a"
       ],
       "layout": "IPY_MODEL_bdb121df33e44446bf443236bb97de40"
      }
     },
     "815e3b021eb34f798c4f9ef25a7b9903": {
      "model_module": "@jupyter-widgets/controls",
      "model_module_version": "2.0.0",
      "model_name": "SliderStyleModel",
      "state": {
       "description_width": ""
      }
     },
     "81b4f439879845ef8349c406d2d57fb5": {
      "model_module": "@jupyter-widgets/base",
      "model_module_version": "2.0.0",
      "model_name": "LayoutModel",
      "state": {
       "width": "100%"
      }
     },
     "81eb70afb6a6409c95e3a5fea95fb198": {
      "model_module": "@jupyter-widgets/base",
      "model_module_version": "2.0.0",
      "model_name": "LayoutModel",
      "state": {}
     },
     "82631c8e3a57492984f0d3fd2ff1d4e4": {
      "model_module": "@jupyter-widgets/controls",
      "model_module_version": "2.0.0",
      "model_name": "SliderStyleModel",
      "state": {
       "description_width": ""
      }
     },
     "82be6f7ae8404c94b50ba461b5fc6ae2": {
      "model_module": "@jupyter-widgets/controls",
      "model_module_version": "2.0.0",
      "model_name": "SliderStyleModel",
      "state": {
       "description_width": ""
      }
     },
     "82d7bbaf031f43b880042feee56d6ac2": {
      "model_module": "@jupyter-widgets/base",
      "model_module_version": "2.0.0",
      "model_name": "LayoutModel",
      "state": {}
     },
     "8341998615b447cc8349e48bc86456c1": {
      "model_module": "@jupyter-widgets/base",
      "model_module_version": "2.0.0",
      "model_name": "LayoutModel",
      "state": {
       "width": "100%"
      }
     },
     "840714949fd74e22ab54593e8bd18398": {
      "model_module": "@jupyter-widgets/controls",
      "model_module_version": "2.0.0",
      "model_name": "FloatSliderModel",
      "state": {
       "behavior": "drag-tap",
       "description": "$\\v_0$",
       "layout": "IPY_MODEL_41990050fd0a4535bdce1098b6ea5195",
       "min": -100,
       "readout_format": ".1f",
       "step": 0.1,
       "style": "IPY_MODEL_2c40ef35d97043e7bde2a41e7148595c"
      }
     },
     "84c75fad9a07449c902712e7a9526521": {
      "model_module": "@jupyter-widgets/base",
      "model_module_version": "2.0.0",
      "model_name": "LayoutModel",
      "state": {
       "width": "100%"
      }
     },
     "84d6c43d634e4b4db4b9e9d9774ef1c7": {
      "model_module": "@jupyter-widgets/base",
      "model_module_version": "2.0.0",
      "model_name": "LayoutModel",
      "state": {
       "width": "100%"
      }
     },
     "85127e8c4abb4fdfa83e560599430dd6": {
      "model_module": "@jupyter-widgets/controls",
      "model_module_version": "2.0.0",
      "model_name": "FloatSliderModel",
      "state": {
       "behavior": "drag-tap",
       "description": "$\\x_0$",
       "layout": "IPY_MODEL_c107fda4a5b54df1b48e48189ccd74a6",
       "max": 10,
       "min": -10,
       "readout_format": ".1f",
       "step": 0.1,
       "style": "IPY_MODEL_cf2a70e1a68944248a1cdf7e18998c61",
       "value": 1
      }
     },
     "851d084c5994452f8988c142258a6983": {
      "model_module": "@jupyter-widgets/controls",
      "model_module_version": "2.0.0",
      "model_name": "SliderStyleModel",
      "state": {
       "description_width": ""
      }
     },
     "85971a8c5175449880874afd1cb047cb": {
      "model_module": "@jupyter-widgets/controls",
      "model_module_version": "2.0.0",
      "model_name": "SliderStyleModel",
      "state": {
       "description_width": ""
      }
     },
     "85b8e19063614691a024ffe60a2fe3a5": {
      "model_module": "@jupyter-widgets/controls",
      "model_module_version": "2.0.0",
      "model_name": "SliderStyleModel",
      "state": {
       "description_width": ""
      }
     },
     "85d0f5bd55d04e9f9406925ea6042b09": {
      "model_module": "@jupyter-widgets/controls",
      "model_module_version": "2.0.0",
      "model_name": "FloatSliderModel",
      "state": {
       "behavior": "drag-tap",
       "description": "a",
       "layout": "IPY_MODEL_7bf7404d75204b31b11a37452d437959",
       "max": 3,
       "step": 0.01,
       "style": "IPY_MODEL_851d084c5994452f8988c142258a6983",
       "value": 0.9999999999999999
      }
     },
     "86283924f5c948d28dbb1bd68750d154": {
      "model_module": "@jupyter-widgets/controls",
      "model_module_version": "2.0.0",
      "model_name": "SliderStyleModel",
      "state": {
       "description_width": ""
      }
     },
     "864aba8d764342d7847f6edbcbafe7ac": {
      "model_module": "@jupyter-widgets/controls",
      "model_module_version": "2.0.0",
      "model_name": "SliderStyleModel",
      "state": {
       "description_width": ""
      }
     },
     "87c4ececbe8f4756b8db025676017384": {
      "model_module": "@jupyter-widgets/controls",
      "model_module_version": "2.0.0",
      "model_name": "IntSliderModel",
      "state": {
       "behavior": "drag-tap",
       "description": "$t_{\\max}$",
       "layout": "IPY_MODEL_1441967eb3ad448fbacad3e5eb8ad674",
       "max": 200,
       "min": 10,
       "style": "IPY_MODEL_64094969d2784db7a7d0e3438c7374d1",
       "value": 50
      }
     },
     "87d01589a7404cf98a1af72719695d56": {
      "model_module": "@jupyter-widgets/base",
      "model_module_version": "2.0.0",
      "model_name": "LayoutModel",
      "state": {}
     },
     "8964ad0037584b80abc4c44d55f2604e": {
      "model_module": "@jupyter-widgets/controls",
      "model_module_version": "2.0.0",
      "model_name": "FloatSliderModel",
      "state": {
       "behavior": "drag-tap",
       "description": "a",
       "layout": "IPY_MODEL_569feb9648064c239abd8e77e7fe5003",
       "max": 3,
       "step": 0.01,
       "style": "IPY_MODEL_82be6f7ae8404c94b50ba461b5fc6ae2",
       "value": 1.1
      }
     },
     "89d07461d91242c5b689b652c2cf2892": {
      "model_module": "@jupyter-widgets/controls",
      "model_module_version": "2.0.0",
      "model_name": "SliderStyleModel",
      "state": {
       "description_width": ""
      }
     },
     "8c705a178295405ea6c02be5cd82f15f": {
      "model_module": "@jupyter-widgets/controls",
      "model_module_version": "2.0.0",
      "model_name": "FloatSliderModel",
      "state": {
       "behavior": "drag-tap",
       "description": "$\\Omega$",
       "layout": "IPY_MODEL_033e87cc34e04fa4891554992cafa87f",
       "max": 5,
       "step": 0.01,
       "style": "IPY_MODEL_39d297b5174b4da28712ca54d73e8874",
       "value": 1.2
      }
     },
     "8deb7dab09ad4015a8053a22d01e4e7e": {
      "model_module": "@jupyter-widgets/controls",
      "model_module_version": "2.0.0",
      "model_name": "FloatSliderModel",
      "state": {
       "behavior": "drag-tap",
       "description": "$\\x_0$",
       "layout": "IPY_MODEL_d17bf58ed6a042929c25920824dd498e",
       "max": 10,
       "min": -10,
       "readout_format": ".1f",
       "step": 0.1,
       "style": "IPY_MODEL_0d099f79372547d49ed4eac701f318c7",
       "value": 1
      }
     },
     "8e088cdd93074b859bde3ef905250075": {
      "model_module": "@jupyter-widgets/controls",
      "model_module_version": "2.0.0",
      "model_name": "FloatSliderModel",
      "state": {
       "behavior": "drag-tap",
       "description": "$\\Omega$",
       "layout": "IPY_MODEL_9132f0b540194c9b888e7896eb09be5a",
       "max": 5,
       "step": 0.01,
       "style": "IPY_MODEL_05431e3613b74c608517a5a90da8ed02",
       "value": 2.5
      }
     },
     "8e98dcec44e44b0ebcdb1d299b4c8102": {
      "model_module": "@jupyter-widgets/controls",
      "model_module_version": "2.0.0",
      "model_name": "FloatSliderModel",
      "state": {
       "behavior": "drag-tap",
       "description": "a",
       "layout": "IPY_MODEL_4e2cd8fca470410087182da805d378a5",
       "max": 3,
       "step": 0.01,
       "style": "IPY_MODEL_c69b64e90e10434b8768ac39e7a277eb",
       "value": 1.1
      }
     },
     "8eebe59198ac40aea4fb6744766d3499": {
      "model_module": "@jupyter-widgets/controls",
      "model_module_version": "2.0.0",
      "model_name": "FloatSliderModel",
      "state": {
       "behavior": "drag-tap",
       "description": "$\\v_0$",
       "layout": "IPY_MODEL_112523fd41814d67b88227d1b0fafa27",
       "min": -100,
       "readout_format": ".1f",
       "step": 0.1,
       "style": "IPY_MODEL_38842b8c96634f759dc878170dda61ea",
       "value": 16.30000000000001
      }
     },
     "8f2f263be9a44506b74855c92e6ad6a4": {
      "model_module": "@jupyter-widgets/base",
      "model_module_version": "2.0.0",
      "model_name": "LayoutModel",
      "state": {
       "width": "100%"
      }
     },
     "8fb83088cd1c461e879ac74250908635": {
      "model_module": "@jupyter-widgets/controls",
      "model_module_version": "2.0.0",
      "model_name": "FloatSliderModel",
      "state": {
       "behavior": "drag-tap",
       "description": "$\\omega_0$",
       "layout": "IPY_MODEL_0d5cf6c4f556480380819e674354a3a2",
       "max": 5,
       "step": 0.01,
       "style": "IPY_MODEL_772fbad8d12f4b9c9226d329900f9a3f",
       "value": 1
      }
     },
     "90e10b118e2b409c906399345e611a26": {
      "model_module": "@jupyter-widgets/controls",
      "model_module_version": "2.0.0",
      "model_name": "SliderStyleModel",
      "state": {
       "description_width": ""
      }
     },
     "911cae86f2374eef837035e1220335c6": {
      "model_module": "@jupyter-widgets/output",
      "model_module_version": "1.0.0",
      "model_name": "OutputModel",
      "state": {
       "layout": "IPY_MODEL_eb0c7cd2607d4b1c9cc6becac731ce17",
       "outputs": [
        {
         "data": {
          "image/png": "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",
          "text/plain": "<Figure size 640x480 with 1 Axes>"
         },
         "metadata": {},
         "output_type": "display_data"
        }
       ]
      }
     },
     "9132f0b540194c9b888e7896eb09be5a": {
      "model_module": "@jupyter-widgets/base",
      "model_module_version": "2.0.0",
      "model_name": "LayoutModel",
      "state": {
       "width": "100%"
      }
     },
     "91b0967006ea4151bcec588746e0d2c0": {
      "model_module": "@jupyter-widgets/base",
      "model_module_version": "2.0.0",
      "model_name": "LayoutModel",
      "state": {
       "width": "100%"
      }
     },
     "93a09053c7e24e5b8beef2dab724831a": {
      "model_module": "@jupyter-widgets/controls",
      "model_module_version": "2.0.0",
      "model_name": "SliderStyleModel",
      "state": {
       "description_width": ""
      }
     },
     "93a9ba1b1ae34f7d9ec771ae251e20c1": {
      "model_module": "@jupyter-widgets/controls",
      "model_module_version": "2.0.0",
      "model_name": "FloatSliderModel",
      "state": {
       "behavior": "drag-tap",
       "description": "$\\omega_0$",
       "layout": "IPY_MODEL_e129130d01ee4e378f49564a2884a9b5",
       "max": 5,
       "step": 0.01,
       "style": "IPY_MODEL_0f392e2aa6b7457791c7d3bcbed7a86f",
       "value": 1
      }
     },
     "93ea6bcd18d24e02946e54b4a206870f": {
      "model_module": "@jupyter-widgets/controls",
      "model_module_version": "2.0.0",
      "model_name": "FloatSliderModel",
      "state": {
       "behavior": "drag-tap",
       "description": "$\\x_0$",
       "layout": "IPY_MODEL_fb01070e10564ebf965a696826d63281",
       "max": 10,
       "min": -10,
       "readout_format": ".1f",
       "step": 0.1,
       "style": "IPY_MODEL_35111f2431db4389bffde4612a2c4615",
       "value": 1
      }
     },
     "948801db08ef4f1e8a16e110295af512": {
      "model_module": "@jupyter-widgets/controls",
      "model_module_version": "2.0.0",
      "model_name": "FloatSliderModel",
      "state": {
       "behavior": "drag-tap",
       "description": "$\\Omega$",
       "layout": "IPY_MODEL_adfe170d671e4a91a08d3cb8e8687ad3",
       "max": 5,
       "step": 0.01,
       "style": "IPY_MODEL_3cccee585cd14862b831e8bd7c779bd1",
       "value": 1.2
      }
     },
     "9550484761ea42968135403c92c93b23": {
      "model_module": "@jupyter-widgets/base",
      "model_module_version": "2.0.0",
      "model_name": "LayoutModel",
      "state": {
       "width": "100%"
      }
     },
     "958110720d474ffeaadf4b253acc8e92": {
      "model_module": "@jupyter-widgets/controls",
      "model_module_version": "2.0.0",
      "model_name": "FloatSliderModel",
      "state": {
       "behavior": "drag-tap",
       "description": "$\\x_0$",
       "layout": "IPY_MODEL_049d5108db1548d6b8be4cc712d591f1",
       "max": 10,
       "min": -10,
       "readout_format": ".1f",
       "step": 0.1,
       "style": "IPY_MODEL_77c8799545ff42e89483de792eb386ec"
      }
     },
     "974ded6bfc2641aa860092f29942dde0": {
      "model_module": "@jupyter-widgets/controls",
      "model_module_version": "2.0.0",
      "model_name": "FloatSliderModel",
      "state": {
       "behavior": "drag-tap",
       "description": "a",
       "layout": "IPY_MODEL_808c292be77e43809546a83f44e300dc",
       "max": 3,
       "step": 0.01,
       "style": "IPY_MODEL_eaa1c99435f745f1857f830d592fd1fe",
       "value": 0.9999999999999999
      }
     },
     "975f3e57cc4941c481805172a686a5ae": {
      "model_module": "@jupyter-widgets/base",
      "model_module_version": "2.0.0",
      "model_name": "LayoutModel",
      "state": {
       "width": "100%"
      }
     },
     "9814cc017f104f49b97703494bb15674": {
      "model_module": "@jupyter-widgets/base",
      "model_module_version": "2.0.0",
      "model_name": "LayoutModel",
      "state": {
       "width": "100%"
      }
     },
     "98f44d0ca43f4fe999e449b9ce0b034d": {
      "model_module": "@jupyter-widgets/controls",
      "model_module_version": "2.0.0",
      "model_name": "SliderStyleModel",
      "state": {
       "description_width": ""
      }
     },
     "998916ef01c942f1973268e4bc75836f": {
      "model_module": "@jupyter-widgets/controls",
      "model_module_version": "2.0.0",
      "model_name": "SliderStyleModel",
      "state": {
       "description_width": ""
      }
     },
     "9a54c60543fb4ba2a1f98c212c415452": {
      "model_module": "@jupyter-widgets/controls",
      "model_module_version": "2.0.0",
      "model_name": "IntSliderModel",
      "state": {
       "behavior": "drag-tap",
       "description": "$t_{\\max}$",
       "layout": "IPY_MODEL_d1ca025d1bc94616a51e4bc578767f2b",
       "max": 200,
       "min": 10,
       "style": "IPY_MODEL_2322e7a09db14fbf9d5e7fe47b6c46ff",
       "value": 50
      }
     },
     "9b47aff3606d446f9bb8045746193ba4": {
      "model_module": "@jupyter-widgets/base",
      "model_module_version": "2.0.0",
      "model_name": "LayoutModel",
      "state": {
       "width": "100%"
      }
     },
     "9b9d162800b6445886067446335b055d": {
      "model_module": "@jupyter-widgets/controls",
      "model_module_version": "2.0.0",
      "model_name": "SliderStyleModel",
      "state": {
       "description_width": ""
      }
     },
     "9bbcc8c055154349b1c675d116d5e8c7": {
      "model_module": "@jupyter-widgets/controls",
      "model_module_version": "2.0.0",
      "model_name": "FloatSliderModel",
      "state": {
       "behavior": "drag-tap",
       "description": "$\\beta$",
       "layout": "IPY_MODEL_4583448dee744730a1e4135e0c9dea49",
       "max": 3,
       "step": 0.01,
       "style": "IPY_MODEL_a5dddcf2d1e54ea0bdfe325071250a6f",
       "value": 0.16
      }
     },
     "9bee5917d2f341d0bf74b53d28505d3c": {
      "model_module": "@jupyter-widgets/base",
      "model_module_version": "2.0.0",
      "model_name": "LayoutModel",
      "state": {
       "width": "100%"
      }
     },
     "9d37aca155124ee0a46ced367b43ae01": {
      "model_module": "@jupyter-widgets/controls",
      "model_module_version": "2.0.0",
      "model_name": "FloatSliderModel",
      "state": {
       "behavior": "drag-tap",
       "description": "$\\omega_0$",
       "layout": "IPY_MODEL_17861e72e3e94a298c816c4d1e2fb335",
       "max": 5,
       "step": 0.01,
       "style": "IPY_MODEL_1cbad565b5814051ad3d2effd962ebd5",
       "value": 3
      }
     },
     "9d88ab09411d475da0c4534d1ad7b45c": {
      "model_module": "@jupyter-widgets/controls",
      "model_module_version": "2.0.0",
      "model_name": "SliderStyleModel",
      "state": {
       "description_width": ""
      }
     },
     "9e8c7256ec6f4b7587d31e58c17f1e71": {
      "model_module": "@jupyter-widgets/controls",
      "model_module_version": "2.0.0",
      "model_name": "FloatSliderModel",
      "state": {
       "behavior": "drag-tap",
       "description": "$\\beta$",
       "layout": "IPY_MODEL_9550484761ea42968135403c92c93b23",
       "max": 3,
       "step": 0.01,
       "style": "IPY_MODEL_864aba8d764342d7847f6edbcbafe7ac",
       "value": 0.26
      }
     },
     "9fd935b462374ed1ab1f3fad6c9e02c2": {
      "model_module": "@jupyter-widgets/controls",
      "model_module_version": "2.0.0",
      "model_name": "FloatSliderModel",
      "state": {
       "behavior": "drag-tap",
       "description": "a",
       "layout": "IPY_MODEL_264384325e9e424d8cb517d4f89aa95e",
       "max": 3,
       "step": 0.01,
       "style": "IPY_MODEL_f08fb4a06fca476399acdfd71728c152",
       "value": 1.1
      }
     },
     "9ffa159b88b741b3b88a900d708148e1": {
      "model_module": "@jupyter-widgets/base",
      "model_module_version": "2.0.0",
      "model_name": "LayoutModel",
      "state": {}
     },
     "a0b8ccf9d0a14a77a962c8d7ffb53168": {
      "model_module": "@jupyter-widgets/controls",
      "model_module_version": "2.0.0",
      "model_name": "FloatSliderModel",
      "state": {
       "behavior": "drag-tap",
       "description": "$\\v_0$",
       "layout": "IPY_MODEL_d345bb604e6c4a0d8bc6e2f587819d4d",
       "min": -100,
       "readout_format": ".1f",
       "step": 0.1,
       "style": "IPY_MODEL_3f79ab78b15a486ba84502b08e01552e"
      }
     },
     "a0d24c11fee745eeb32707198a8d5743": {
      "model_module": "@jupyter-widgets/controls",
      "model_module_version": "2.0.0",
      "model_name": "SliderStyleModel",
      "state": {
       "description_width": ""
      }
     },
     "a1a9a4459a6840358aef95766ef87416": {
      "model_module": "@jupyter-widgets/base",
      "model_module_version": "2.0.0",
      "model_name": "LayoutModel",
      "state": {}
     },
     "a2750b543f614805bb746fb25ebfd10b": {
      "model_module": "@jupyter-widgets/controls",
      "model_module_version": "2.0.0",
      "model_name": "FloatSliderModel",
      "state": {
       "behavior": "drag-tap",
       "description": "$\\omega_0$",
       "layout": "IPY_MODEL_44fb42459ca248dca554faf01809ff9f",
       "max": 5,
       "step": 0.01,
       "style": "IPY_MODEL_12de061b7705415baab3c8edc6b21492",
       "value": 3
      }
     },
     "a2c344e610624f07b110e7e32776689d": {
      "model_module": "@jupyter-widgets/controls",
      "model_module_version": "2.0.0",
      "model_name": "SliderStyleModel",
      "state": {
       "description_width": ""
      }
     },
     "a2d5cd577a5040b681887dd6b7832172": {
      "model_module": "@jupyter-widgets/controls",
      "model_module_version": "2.0.0",
      "model_name": "FloatSliderModel",
      "state": {
       "behavior": "drag-tap",
       "description": "$\\omega_0$",
       "layout": "IPY_MODEL_ffe65a3e26fc4a02b148bed9d4b341bb",
       "max": 5,
       "step": 0.01,
       "style": "IPY_MODEL_7178ae01257e4a9780b4a4d49c7066f0",
       "value": 1
      }
     },
     "a30a89a581064033982ea6b52e954016": {
      "model_module": "@jupyter-widgets/output",
      "model_module_version": "1.0.0",
      "model_name": "OutputModel",
      "state": {
       "layout": "IPY_MODEL_139ff84baa1243d2805aac5c22c2a1d5",
       "outputs": [
        {
         "data": {
          "image/png": "iVBORw0KGgoAAAANSUhEUgAAAi8AAAGdCAYAAADaPpOnAAAAOXRFWHRTb2Z0d2FyZQBNYXRwbG90bGliIHZlcnNpb24zLjguMiwgaHR0cHM6Ly9tYXRwbG90bGliLm9yZy8g+/7EAAAACXBIWXMAAA9hAAAPYQGoP6dpAABajElEQVR4nO3dd3hb5d0+8PtIsiVPea/Y8cgmOw4hCQQCgUDCKqHsTaFvGGWklJLSt1A6QvtSfikvBV4ooy20oZCEMgIkQCYJmXb2jhPvOJ7y1Dy/P86wZcuOJEu2jrg/1+WrjXwsPz440a3v832eRxBFUQQRERGRRugGewBEREREvmB4ISIiIk1heCEiIiJNYXghIiIiTWF4ISIiIk1heCEiIiJNYXghIiIiTWF4ISIiIk0xDPYAAs3lcqGyshJxcXEQBGGwh0NEREReEEURzc3NyMrKgk7Xd20l7MJLZWUlcnJyBnsYRERE5IeysjJkZ2f3eU3YhZe4uDgA0g8fHx8/yKMhIiIib1gsFuTk5Kiv430Ju/CiTBXFx8czvBAREWmMNy0fbNglIiIiTWF4ISIiIk1heCEiIiJNYXghIiIiTWF4ISIiIk1heCEiIiJNYXghIiIiTWF4ISIiIk1heCEiIiJNYXghIiIiTWF4ISIiIk1heCEiIiJNCbuDGUOFKIr4fF81DlZZMH98JsZk8pBIIiKiQGB4CQKH04VF/96Nj3dXAgDe2HgCKx88nwGGiIgoADhtFAR//vooPt5diQi9gNzkaHTYXXjhy8ODPSwiIqKwwPASYIerm/HKuuMAgBdumIi37j4XALD2cA3qWqyDOTQiIqKwwPASYH9ZewxOl4i556Tj2klDMCw1FmOz4uESgfVHzgz28IiIiDSP4SWA6ltt+GxvFQDgkTkj1MdnDksGAOw81TAo4yIiIgonDC8BtOZANZwuEWOz4jFuiFl9vDA3EQDDCxERUSAwvATQmgM1AIB54zLcHleCzPEzLbA7XQM+LiIionDC8BIgoihi56l6AMD5w1PcPpdljkJ0pB52p4hTdW2DMTwiIqKwwfASICW1rWhosyPSoMPYLLPb53Q6AcPTYgEAx2qaB2N4REREYYPhJUCKyxoBABOGmBFp6Hlbh6dK4eX4mdaBHBYREVHYYXgJkCOnWwCg1110c5KiAQDlDZw2IiIi6g+GlwA5fkYKL8r0UHdDEqMAAOUN7QM2JiIionDE8BIgx2uk8DIs1XN4yU6QwktFI8MLERFRfzC8BIDN4cKpemk66GyVl4qGdoiiOGBjIyIiCjcMLwFQ3tAGp0tEVIQe6fFGj9dkmqMgCIDV4UJti22AR0hERBQ+GF4CoKqpAwCQlWCCIAger4k06JAaKwWbavl6IiIi8h3DSwBUyn0sWXJfS29S46TwcqaF4YWIiMhfDC8BUNkoV17MXoaXZmvQx0RERBSuGF4CoKpJqrxkJpj6vC6N4YWIiKjfGF4CoLKJlRciIqKBwvASAFWN3lVelIbdMy0ML0RERP5ieAmAGrmSkh5/lvASJ32elRciIiL/Mbz0k93pQlO7HQCQHBPZ57WcNiIiIuo/hpd+amiVNpzTCUBCNMMLERFRsDG89FOdHF4SoyOh13neoE6RJFdmWm1OdNidQR8bERFROGJ46ac6eav/5Ni+qy4AEG8yqAGnsc0e1HERERGFK4aXfqprlaaAks7S7wIAgiAgMToCANDQxvONiIiI/MHw0k+dlRfPBzJ2p/TFKL0yRERE5BuGl36ql0NIiheVFwBIUsILp42IiIj8wvDST53TRt5WXjhtRERE1B8ML/3kS8MuIK1KAjhtRERE5C+Gl35SKijeNOwCQGIMp42IiIj6g+Gln5Tddc1REV5dr6w2auS0ERERkV+CGl42bNiAq6++GllZWRAEAR999FGf169btw6CIPT4OHToUDCH2S+WdgcAIN7kbXiRKi/1DC9ERER+MQTzyVtbWzFx4kTcc889uP76673+usOHDyM+Pl79c2pqajCGFxA+V144bURERNQvQQ0v8+bNw7x583z+urS0NCQkJAR+QAFmc7jQLm/zHx/l3a3ktBEREVH/hGTPy+TJk5GZmYk5c+Zg7dq1gz2cXlk6OqsncV5OGymb1NVztREREZFfglp58VVmZiZef/11FBYWwmq14h//+AfmzJmDdevW4cILL/T4NVarFVZr5ynNFotloIYLizxlFNflzKKzUfZ5ae5wwOkSvf46IiIikoRUeBk1ahRGjRql/nnGjBkoKyvDCy+80Gt4WbJkCX79618P1BDdKP0u3jbrdr+2pcMBc7T3X0tEREQhOm3U1fTp03H06NFeP7948WI0NTWpH2VlZQM2NkuHtNLI22ZdAIg06BAVoQfQGX6IiIjIeyFVefGkqKgImZmZvX7eaDTCaPRua/5AUysvXjbrKsxREWi3O916ZoiIiMg7QQ0vLS0tOHbsmPrnkpISFBcXIykpCUOHDsXixYtRUVGBv//97wCApUuXIi8vD2PHjoXNZsO7776L5cuXY/ny5cEcpt98XSatiI8yoNrCygsREZE/ghpeduzYgYsvvlj986JFiwAAd911F9555x1UVVWhtLRU/bzNZsMTTzyBiooKREVFYezYsfjss88wf/78YA7TbxY/el6AzrBjYXghIiLyWVDDy+zZsyGKYq+ff+edd9z+/OSTT+LJJ58M5pACyuJv5UUOO6y8EBER+S7kG3ZDmdKzEu/ztFGE29cTERGR9xhe+sHfnhflelZeiIiIfMfw0g/qoYw+rjaKNxncvp6IiIi8x/DSDy1WKXzEGv2bNmLlhYiIyHcML/2ghJcYo96nr2PPCxERkf8YXvqhVa28+L5JHcDKCxERkT8YXvqhs/Lia88L93khIiLyF8OLn0RRDEDlhQ27REREvmJ48VOH3QWXvP+ez5UXeXUSe16IiIh8x/DiJ2XKSBCA6AjfGnaVyovN4UKH3RnwsREREYUzhhc/KVNGMZEG6HSCT18bE2mA8iXseyEiIvINw4uf/F0mDQA6ncDl0kRERH5iePGTvyuNFDyckYiIyD8ML37yd6WRQul74REBREREvmF48VNLl54Xfygrjlh5ISIi8g3Di59ardIqIX+njczseSEiIvILw4ufOqeNfG/YBbjLLhERkb8YXvykniht8nfaiA27RERE/mB48VP/VxvJu+yyYZeIiMgnDC9+UqeN/GzYZc8LERGRfxhe/NTvygvDCxERkV8YXvzU331euEkdERGRfxhe/NTfpdLx3KSOiIjILwwvfurP2UYAYJY3qeO0ERERkW8YXvzUagvMtJGl3Q6XSwzYuIiIiMIdw4ufWjoC07DrEjuDEBEREZ0dw4ufWvrZsGuK0CPSIN1+SwfDCxERkbcYXvzgcLpgdbgA+F95AXhEABERkT8YXvzQZneq/z860r+GXYAnSxMREfmD4cUP7TYpvOgEwGjw/xaqu+wyvBAREXmN4cUPbXJ4iY40QBAEv59HnTZizwsREZHXGF780CavDorqx5QRwJOliYiI/MHw4ocOueclKqKf4UU9WZrhhYiIyFsML37onDbqX3jhydJERES+Y3jxgxJeAjVtxPONiIiIvMfw4of2AFVeeLI0ERGR7xhe/KBWXiL836AO6NznhdNGRERE3mN48YOy2ihgPS+svBAREXmN4cUPgZ42auY+L0RERF5jePGDcjwA93khIiIaeAwvfmi3BWafF2XaqMXqgMPp6ve4iIiIvg8YXvwQqGmjOFNnw2+LlVNHRERE3mB48UPntFH/VhtF6HVqAOLUERERkXcYXvzQHqDVRkCXwxm5UR0REZFXGF78EKjjAQAeEUBEROQrhhc/tAWoYRfoslEdp42IiIi8wvDih86G3f71vAA8IoCIiMhXDC9+aA/QPi8Ap42IiIh8FdTwsmHDBlx99dXIysqCIAj46KOPzvo169evR2FhIUwmEwoKCvDaa68Fc4h+Cey0ERt2iYiIfBHU8NLa2oqJEyfi5Zdf9ur6kpISzJ8/H7NmzUJRURF+8Ytf4JFHHsHy5cuDOUyfBXa1kTT1xGkjIiIi7/S/aaMP8+bNw7x587y+/rXXXsPQoUOxdOlSAMCYMWOwY8cOvPDCC7j++uuDNErfiKKo7vMSkPDCaSMiIiKfhFTPy5YtWzB37ly3xy6//HLs2LEDdrvnF3er1QqLxeL2EUxWhwuiKP3/QPS8xPNkaSIiIp+EVHiprq5Genq622Pp6elwOByora31+DVLliyB2WxWP3JycoI6RqXfBQjsaiMLT5YmIiLySkiFFwAQBMHtz6Jc5uj+uGLx4sVoampSP8rKyoI6vja53yXSoINe53lMvlD2eWHPCxERkXeC2vPiq4yMDFRXV7s9VlNTA4PBgOTkZI9fYzQaYTQaB2J4AAJ3KKOi83gAhhciIiJvhFTlZcaMGVizZo3bY6tXr8bUqVMRERExSKNyp+zxEh2AZdIA93khIiLyVVDDS0tLC4qLi1FcXAxAWgpdXFyM0tJSANKUz5133qlev3DhQpw6dQqLFi3CwYMH8dZbb+HNN9/EE088Ecxh+kTpeTEFqvIih5cOuwtWh/MsVxMREVFQw8uOHTswefJkTJ48GQCwaNEiTJ48Gb/61a8AAFVVVWqQAYD8/HysWrUK69atw6RJk/Cb3/wGL730UsgskwYCP20UZzRAaefhRnVERERnF9Sel9mzZ6sNt5688847PR676KKLsGvXriCOqn/UE6UjAnPrdDoBcUYDLB0OWDrsSI0buP4dIiIiLQqpnhctUFYbBWKPFwX3eiEiIvIew4uP2gO4u66CJ0sTERF5j+HFR+qhjAGtvEhTUNyojoiI6OwYXnzUFuCGXaDLcmlWXoiIiM6K4cVHHeq0UeB6nTuPCGB4ISIiOhuGFx8pDbumAG1SB3Q27Da1MbwQERGdDcOLj4IxbZQQxYZdIiIibzG8+CjQm9QBgDma4YWIiMhbDC8+UlcbBXDaSGnYbeS0ERER0VkxvPios/ISuIZdM6eNiIiIvMbw4qM2u9SwG4yl0gwvREREZ8fw4qNgbFKXEB0JgOGFiIjIGwwvPuoI4iZ1LVYH7E5XwJ6XiIgoHDG8+KjNHviG3XhTZ/8Md9klIiLqG8OLj4IxbWTQ6xBnlAIMp46IiIj6xvDiA6dLhM0hTesEcrUR0LnXSyPDCxERUZ8YXnygHA0ABLbnBeCKIyIiIm8xvPhA2eNFEACjIbC3LiGaJ0sTERF5g+HFB+q5RhF6CIIQ0OfmLrtERETeYXjxQbuy0ijA/S4Ap42IiIi8xfDig86VRoG/beYoaaM6Vl6IiIj6xvDiA/VcowhWXoiIiAYLw4sPlNVGgdzjRaE07Da12wL+3EREROGE4cUHSs9LoJdJA6y8EBEReYvhxQdtQTjXSJHA1UZEREReYXjxQWfDbuB7XuJZeSEiIvIKw4sP2uWel+gAHsqo6Ox5YXghIiLqC8OLDzr3eQlez4vV4UKH/H2IiIioJ4YXHwTjRGlFrNEAvU7atZfVFyIiot4xvPigvcvxAIEmCAKPCCAiIvICw4sPgll5AbhcmoiIyBsMLz7oXCod+NVGQNfDGblRHRERUW8YXnzQbpdXG7HyQkRENGgYXnwQ7GkjLpcmIiI6O4YXH7QHcYddgJUXIiIibzC8+CCYZxsBDC9ERETeYHjxgTJtZArCUmkAXCpNRETkBYYXH7QP0GojVl6IiIh6x/DiJVEU0WYL7mqjhOhIAEAjwwsREVGvGF68ZHW44BKl/x/sTeosDC9ERES9Cs78RxgSBOCXV45Bm80ZlOMBgM6l0tykjoiIqHcML14yGvS4b1ZBUL+HWnnpcEAURQiCENTvR0REpEWcNgohSnhxukS0WB2DPBoiIqLQxPASQkwRehgN0n8SrS2Xbrc58cW+apw40zLYQyEiojDHaaMQY46KQE2zFU3tduQM9mC8ZHe6cMsb36G4rBEGnYBXbpuCuWMzelzjcIpBa3YmIqLvD1ZeQowWzzf6qKgCxWWNAACHS8Rj7xfjeJcKzM5TDZix5GuMe/ZLvLb++CCNkoiIwgXDS4jR4kZ1K4sqAACPXzoSMwqS0WZz4qH3dqHd5sSe8kbc/dY21LbY4HSJ+MMXh7C/smmQR0xERFo2IOHllVdeQX5+PkwmEwoLC7Fx48Zer123bh0EQejxcejQoYEY6qAzR8kb1Wmk56W5w47vTtQBABZMGYI/3zIJKbFGHKpuxl1vbcPtf92KZqsD0/KTcPGoVIgi8O53pYM8aiIi0rKgh5f3338fjz32GJ5++mkUFRVh1qxZmDdvHkpL+34BO3z4MKqqqtSPESNGBHuoIUFrlZei0ka4RCAnKQo5SdFIizPhzzdPgiAA207Ww9LhwLl5iXjr7nNxv7zUfNXeKjiVHf+IiIh8FPTw8uKLL+JHP/oR7rvvPowZMwZLly5FTk4OXn311T6/Li0tDRkZGeqHXv/9aPRUN6pr18ZGdTtO1gMApuYmqY+dPzwFf793GhZMHoKfXT4Kf7/3PMQaDZiWn4RYowFN7XYcrLIM1pCJiEjjghpebDYbdu7ciblz57o9PnfuXGzevLnPr508eTIyMzMxZ84crF27ttfrrFYrLBaL24eWae2IgD0VUv/KlKEJbo/PGpGKF2+ahIcuHq6uMDLodZiWL4WcLcfrBnScREQUPoIaXmpra+F0OpGenu72eHp6Oqqrqz1+TWZmJl5//XUsX74cK1aswKhRozBnzhxs2LDB4/VLliyB2WxWP3JytLLA2DOtrTY6elpaVTQqI96r66fmJQIAdpc3BmtIREQU5gZkn5fu29z3tfX9qFGjMGrUKPXPM2bMQFlZGV544QVceOGFPa5fvHgxFi1apP7ZYrFoOsAolRctNOy2Wh2oaGwHAIxIi/Xqa8ZmmQEAByq1XSEjIqLBE9TKS0pKCvR6fY8qS01NTY9qTF+mT5+Oo0ePevyc0WhEfHy824eWxWuoYfdYjVR1SYk1IjEm0quvGZsl/fcpqWtFK49AICIiPwQ1vERGRqKwsBBr1qxxe3zNmjWYOXOm189TVFSEzMzMQA8vJCVoqPJyVA4v3lZdACnopMcbIYrAoWpWX4iIyHdBnzZatGgR7rjjDkydOhUzZszA66+/jtLSUixcuBCANO1TUVGBv//97wCApUuXIi8vD2PHjoXNZsO7776L5cuXY/ny5cEeakjQUsPu0ZpmAMCIdO/DCwCMTI/DaYsVx2paUNhllRIREZE3gh5ebrrpJtTV1eG5555DVVUVxo0bh1WrViE3NxcAUFVV5bbni81mwxNPPIGKigpERUVh7Nix+OyzzzB//vxgDzUkJERL0y/NVgccThcM+tDdBLmsvg0AkJcc49PXDUuNxcajtTh+pjUYwyIiojA3IA27Dz74IB588EGPn3vnnXfc/vzkk0/iySefHIBRhaZ4U+d/EkuHA0le9pIMhvIGqVk3OzHKp68rSJXCDk+gJiIif4Tu2/rvKYNehzijFGBCvWlXqbzkJEX79HXDUqVpphOsvBARkR8YXkJQvNq0G7q77LZYHWiQm4qH+Fl5OVXfBpvDFfCxERFReGN4CUFaON+oQp4yMkdFIN4U4dPXZsSbEB2ph9MlolSu3hAREXmL4SUEaWGX3c4pI9+qLoC0aaFSfTnOvhciIvIRw0sI0kLlpbxBCi/ZCb71uygKUqS+l5Ja9r0QEZFvGF5CkHqydAhvVOfvSiNFfopUeSlh0y4REfmI4SUEaeGIgLIG/1YaKZRpI1ZeiIjIVwwvISghStrb5ftQeTnB8EJERD5ieAlB2uh5kcKLv5UXJbzUtlhh6Qjdn5OIiEIPw0sIUnpeQvV8I0uHXQ1WQxL8q7zEmSKQGmcEAJxk9YWIiHzA8BKClMpLY3toblJXXi9VXZJiIhFj9P+ECXXqiE27RETkA4aXEBTq00bqMmk/+10UBex7ISIiPzC8hCC18hKiDbsVjVLlxd8pI4W6XJrhhYiIfMDwEoLMcs+L1eFCh905yKPpqb8rjRQFqcpGddxll4iIvMfwEoLijAbodQKA0Jw6Us41Cljl5UwrRFHs97iIiOj7geElBAmCgHiT1AgbkuFFmTZK9G+ZtGJoUjR0AtBqc+JMszUQQyMiou8BhpcQlRAtbVQXiuElUA27kQaduk/Mca44IiIiLzG8hKj4EG3abbM50CCPaUg/wwvApl0iIvIdw0uISgjR5dJKv0ucyYB4U0S/n6/zdGk27RIRkXcYXkJU53Lp0NqornOlUf/6XRT5PKCRiIh8xPASopTwEmpHBJQHaI8XhbJRHXteiIjIWwwvISpOXm3UbHUM8kjcVQRojxfFmMx4AFLlhQc0EhGRNxheQlSsHF5aOkIrvARqpZEiKSYSOUnSc+0tbwrIcxIRUXhjeAlRcfKBhy0hVnkpD9AGdV1NyE4AAOwubwzYcxIRUfhieAlRSuWlOcQqL6fqpN6UocmBadgFgInZZgBAcWljwJ6TiIjCF8NLiIozSg27odTz0tRmV/d4yUuOCdjzFuYmAgC2ltTD6eIxAURE1DeGlxDV2fMSOk2sJ+WqS2qcETHytFYgTMxOQLzJgKZ2u2anjlwuEa0hFDSJiMIZw0uIig3BnhclvOQHsOoCAAa9DrNGpAIA1h6qCehzD4TTlg7M+/NGjH3mS/zuswM8ZJKIKMgYXkJUXAiuNjpZK600yksJXL+L4rJz0gEAHxVXwKWxqaPffHoAh083AwDe2FiCrw72HsDsThfsTtdADY2IKCwxvISoOHnr/VabM2T6QJTKS26AKy8AcPnYDMQZDSirb8d3J+oC/vzBctrSgc/2VgEAZo1IAQD8vzVHPFZfvjpwGlOeW4PJz63B1wdPD+g4iYjCCcNLiIox6tX/HypTR8oW/sphioEUFanHNZOyAADvbSsN+PMHy8fFlRBFYGpuIv73lskwGnQ4UGVBUVmj23U1lg48sqwIzVYHWqwO/PSD3SF3bhURkVYwvIQoo0GPSIP0nycUwosoimp4CeRKo65uOy8XAPDlvmrUWDqC8j0Cbe1haYroqgmZSIiOxFUTpAD27nen3K7789dH0WZzYmxWPPKSo9HYZseKXeUDPl4ionDA8BLC1I3qQqDvpdrSgaZ2O/Q6AcPSghNezsmKx9TcRDhcIpZtLwvK9wgkm8OFXaUNAIDzh0tTRrdPHwoA+HRPFepbpUM1Kxrb8b788/zqqnNwz/n5AIAVuyoGeshERGGB4SWEqecbhcBy6UNVUkNqQUoMjAb9Wa723x0zpOrLP7eWwhHija17yhvRYXchOSYSw9NiAQCTchIwfogZNodLDSxvbDgBh0vEzGHJOK8gGfPHZwIA9lY0oaZZGxUmIqJQwvASwmJD6HDGg9UWAMBo+SDFYLliXAaSYyJRbenA1yG+bHprST0AYFp+EgRBAAAIgoA7pksB7N3vTuFUXSuWbZd6eB6YPQyAtE/O+CHSrsIbjtQO9LCJiDSP4SWExYbQtNHhaqnyMjojLqjfx2jQ47rJQwAAq/eH9oocZVXUeflJbo9fMykLKbFGVDS2Y/YL69Bhd2FqbiIukKeWAGD2KGlfm/VHzgzcgImIwgTDSwiLlY8ICIWGXWXaaExmcMMLAFw8Og0AsPHomZDd8M3udGHnKanf5byCZLfPmSL0+N114yAIgChKvUu/XzBerc4AUIPM5mO1mtvXhohosAVuj3cKuFDpebE6nDh+pgUAMDojuNNGADA1LxFREXrUNFtxtKYFI9ODH5h8tbeiCW02JxKiIzDKw/guH5uBD/5rBraW1GPeuAwUpMa6fX7yUOlnrGu14fDpZowJ8nQcEVE4YeUlhIXKLrvHa1rhcImINxmQaTYF/fsZDXpMzAntk6a3npD6Xc7NS4JOJ3i8ZmpeEh66eHiP4AIAkQYdziuQppu+Pca+FyIiXzC8hDCl52WwG3YPdWnW7Tr1EUyTcqSTprtv9hYqtpZI/S7Tu00Z+UKZOtoUBuGlqd2OZdtKUSQvHSciCiZOG4Ww2BCpvBySm3XHBLlZt6tJcuVldwiGF4fThe3ySqPuzbq+UPaG2XqiHjaHS92UUGvabA7c8NpmHDndAkEAXr2tEFeMy+j1+rL6NpxpsWJyTsKAhWEiCi/a/NfyeyIuRE6WPlg1MMuku5qQnQAAOHy6GTZHaO33sr/SglabE/EmQ796VUalxyElNhLtdieKQzCkeetvm0/hyGmpJ0oUgV/9Zx+sDqfHa7/YV42LX1iHBa9sxuPvF4dsQzYRhTaGlxCmHM7YHCKVl2Avk+4q02xCnNEAp6vzWIJQoUzzTMtPgr6Xfhdv6HQCZg7T9tSRyyXi7W9LAABLFoxHRrwJNc1WfFxc2ePapnY7Fq/YA4e8uuqj4kr1eAUiIl8wvISwUOh5qW+14UyzFQAGdNWPIAgYni41uh453Txg39cbq/dXAwAuGZ3e7+dS+l602rS7s7QBNc1WxJkMWDBlCO6cKW3Q98GOnuc2fbizHA1tdgxLjcE95+cBAF7fcGIghxtU+yqa8NamElQ2tg/2UIjCHsNLCOvseRm8pdJKs+7QpGjEGAe2RWpkmhSWjoZQeDlV14rd5U0QBODSc9L6/Xwzh0sNv8VljeqS+DabA48uK8Kk51bj5x/uCeljElbtrQIAXDYmXd1gUBCAbSfrUVbfpl7nconqYZX3nJ+P+2YVAJB2KQ6HF/stx+tw7V++xXOfHsA1L29CdVPvxz4cqLTg8v+3Aec//w3WhVnlqcbSoW6rcDZOl8hpQ/Ibw0sIiw2BnhdlZ91RAzhlpBihVl68+8cwGKqa2vHS10fxzrclqGpqx//JlYILR6QiLa7/y8azE6ORlxwNp0vE1hP1cLlEPLasGP8prkRjmx3v7yhTv+dAa7E68NiyIlyxdAM+3t1zGsjlEvHFPqkKNU8+rynTHIUZ8gqsrl+z+XgdSmpbEWc04LrJQzAkIQrT8pMgisAnHp4bAFqtDry5qQTLtg3eOVfvby/F7P9Zi4fe29Xr30NRFPHLj/bCKU+H1bbY8KfVhz1e22F34qF/7sLh082oaGzHQ+/tUiubnrRaHXjn2xJ8srtyUF7oHU4XXvjyMG54bTP+U9z3QaJf7q/G+X/4BnP+tB6/X3Wwz2v/U1yBSc+txgV/WIu95U19XnviTAuWrDro1T2obbFi1d6qPu+pYltJPd7cVHLW88UsHXY88599eHRZ0VmnsItKG3DDa5tx/9934LSl7+f95tBp3PHmVrzw5eGz/n5/c+g0Fq/Yg41H+96RWxRF/Ke4An/84pDbmwdPOuxO/O/XR/GHLw6ph8j25lRdK574YDf+8MUhtNkGf9NUgKuNQlp8CPS8DNSxAJ6MkKepjtQMTuWltsWKa17+Vv2H8NlPDqifU84pCoRZI1Jxsu4Ulm0vxZ6KJqw+cBqReh2unZSFD3aW4/UNJ3Dv+fmIigzegZie/OaTA/hI7l15dFkRshOjMGVoovr54vJGVDV1INZowKwRnUcf/GDSEGw+Xoflu8rx4OxhEAQB722Vqi4LpgxRK3jXTMzCtpJ6rNpbhf+6yP1+Opwu3PPOdmyTV3XtqWjC768bH9Sft7ui0gY8tWIvRBE4WdcGo0GHF2+a1OO6nacacPxMK6Ij9Xjt9kLc+dY2rCyqwM/njUZKrNHt2k/3VKGkthWJ0RGIM0WgtL4Nb2w8gV/MH9PjeZ0uEXe+tU3dyflglQVPXjG61/EeqLTg7W9LMCojDvecn99rP5bLJeK5Tw/g/e1luHBkCv5882SYIjz/br267jheXnsMALDjVAMy4k09dpQGgKY2O55avgd2pxQuXt9wApeOScc0D6vxTta24mcf7oHN4UJzhwMP/nMnvlp0kccDX2ssHVjw6mY0tklVyaZ2O26Xzw7rrqy+Dde98i1qW2xIionEfx46HzlJ0R6vXbW3Cg++twsA8NamEnz6kwuQGBPZ4zpRlN5MfCOfs7bjZANWP36hxyp0Q6sN976zHQ3yWOtbbfhw4QyPK+oOVFpw/993wukSsfFoLQQB+OncUR7HuvZwDe59ZwcA4N87yrHsx9Nxbp7nVY5vfXsSv/lU+nfqw53l+PzRWUju9juoePz9Ynwuv/n49lgtVjwwEwZ9z3pGi9WBW9/Yigq5Qlre0I7/vWWyx+ccSANSeXnllVeQn58Pk8mEwsJCbNy4sc/r169fj8LCQphMJhQUFOC1114biGGGHGXaqM3mVN/VDbRDg1h5KUiJASD9ozQYP//Sr47gTLMVWWYTzs3rfNF++OLh/drfpbu7ZuZBJwBfHazBS18fBSA1vz5//QRkJ0ahqd0+4I2tZfVt+GCndCp2QUoMRBH49ScH3N75rtojTRldMjrN7cVv3vgMxETqceJMK7acqENNcwfWHJDOqbr1vM4XnivGZUAnALvLm3q8S1xRVKEGF0A6ZVxZ9RYIR+TKR19e/uYYRBEYlhqjjkkJ810t3yVVJOaNy8SFI1MxMScBDpeIj4p6Vir+LZ80ft+sAvzqqnMASC8ynlbU/XtHmRpcACkQnOzlnX91Uwdu+r8t+GBnOX772UH8Wf498mTZ9jK8s/kk2u1OfLn/NP74hecqUXOHHa+sOw4ASImNhCgCf/jikMdrVxZ19jPdUJgNAPiLHHq6e2PjCdgcLowfYkZKrBFl9e1YsctzVefFNUfU4AIA//Pl4V53HP/NpwdQ2yJVEOpbbeqLeHcddiee+Xi/+ueKxnb87zeex7rlRB2+OVQDQQBMETpUNLbjb1tOerz2r5tOoKHNjpTYSETqddh5qgFfHfT89/aF1YfhdIlIiJbeoL6+4YTHCpAoivhNlzdNTpeI33520GMFqrHNveJX02zFX9Ye9/j9vztRpwYXANhT3oQVHn5fAeDtTSWoaGxXt3L4ZHdlSKyODHp4ef/99/HYY4/h6aefRlFREWbNmoV58+ahtLTU4/UlJSWYP38+Zs2ahaKiIvziF7/AI488guXLlwd7qCEnxtj5gjAYU0cul6g2y3raAj/YshKiEKnXwe4UB7wvot3mxEdFUtXhhRsm4oOFM7Fl8SXY+OTFeOJyz++Q/DU8LRZPzZPeUQsC8PilI3F9YTb0OgFXT8wCAHy6x/PUSrB8dfA0XKK0ourfC2fAFKHD7rJGbJEPoxRFUe13mS9PGSniTBG4bop0uOZbm07irxtL4HCJKMxNdAvBKbFGnJcvhUDluQDpH+hX5RfNxfNG48oJ0vMrq5o8sTqcWL6zHF/sqz7r1MKSzw9i7v/bgAv/uNZjwACkd9HKoZn/d0chrhgr7Vuj9O0oOuxOfCb/t7le/plvnCq9eL+/vcxtLMfPtGDbyXroBOD6KdmYPSoVqXFG1LfaeoRTURTx9y3S93p6/hhcNDIVDlfnY929uOYwmq0OROild/mvrT/use/G5RLx8jdSsFH2KPrHdydR42GK4/O91Wi3OzEsNQarHpmFCL2AXaWN2F/Zc5pHCXC3T8/FQxcPBwBsOHqmx9/bDrtTnU58at5o/PjCfABSoOquxepQr/3X/dNRkBqDpna7x/9mFY3tWHNQCsiv3jYFOgFYfeA0Tnjov1l94LT6puSNO6fK37/U47+xH8qN5zefOxS//YFU+Xvvu9Ieb6acLlENYL++ZhzuuSBPunZrz/9e1U0daq/TigdmYlJOAqwOFz7c2bPJfVtJPU7UtiImUo/1P5ut/j30FB4+3l2JNpsTozPi8M495wKQpj1bPfxcy7ZJr7+3TBuq/tvzt80ne1zncon4t/wmZsl147FAPjT3770EuIEU9PDy4osv4kc/+hHuu+8+jBkzBkuXLkVOTg5effVVj9e/9tprGDp0KJYuXYoxY8bgvvvuw7333osXXngh2EMNOUaDXk27gxFeKhrb0WZzIlKvQ55cBRlIep2AnKQoAMCpur7nbwNt7eEatFgdyEmKUqssmeaoXsvQ/fXjC4fh26cuwbc/vwSPXjpCfXzuOdKKpk1Hawe0+qSUyS8bk46UWCNunJoDAGqoKCprRGVTB2Ii9eoJ2V3dPTMPep2Arw6eVlcUPSy/qHU1Xw4mXcPLmgOnUVLbioToCNw+PRd3ytMEn++r9rh/jMsl4oF3d+GnH+zGwnd34vnPPVcHAGDHyXr833ppPE6XiF+s3Ivalp79EZ/vq4bDJeKczHgMT4tTpyo+Kqpwm/P/5lANLB0OZJpN6u/JVROyYDTocLSmBXsrOl/olarLxaPSkGE2waDXqSeod39B3lPehINVFkQadLhhajbukldxfVRc0aNK09xhxye7pfv3r/unozA3ETaHC+97CARbTtShsqkD8SYD/nbvNEwZmgC7U8QHHl44l++SHru+MBtp8SbMlQNc9+c9XN2MvRVNiNALuHbSEOSlxOA8uZ9pebfn/XJ/NZo7HBiSIPVGXTc5GwadgN1ljT1WFa7aU4U2mxMFKTGYXpCE2+Wq3b89rGRbuascoghML0jCvPGZuGhkaq/XKmP6YWE2Lh2ThoKUGLTZnD16r5o77Fi1T7qvN0zNxlUTMhFvMqCisb3H6sDNx2tR1dQBc1QELj0nDbecOxQAsOHIGVQ1uQe4lUUVcInAuXmJKEiNxa3TpGv/3S3sAlADzZUTMpGbHIP54zLln6vnf1vl2hun5uCikanIS45Gq82Jz7r83VJ+ri/kFZM3nZuDm6bmIFKvw/5KS4/+o+0n61FW345YowHzx2fiNvnvwaq9VbAM8pl7QQ0vNpsNO3fuxNy5c90enzt3LjZv3uzxa7Zs2dLj+ssvvxw7duyA3d7zZlmtVlgsFrePcBI/iIczHpPfteSnxCDCw1zoQMhLlkLTybqB3etF+cfp0jHpvZ5dFGhDEqKQlRDl9tj4IWbEmQywdDiwr6LvxsZAabE68J1cYblkjLSi6v5ZBTDoBGw8WovvTtThn1uld26XnZPusV9ieFocfnJJZ1j5waQsjyHnirE9p46Ud3W3TBuKGKMB5+YlIT3eiOYOBzYc6bmkfM3B02rYAoDXN57odYWaUrm4fko2Jmab0WZz4q8be1Z0lObUayZJla+Zw5KRmxyNZqvD7UVuhfwC/4PJQ9TfE3NUBC6XX+iVFxSbw6WGgRvPzVG/XgkvXx+sQVN759/xZdul+zt/XAYSoiPlBnGpStN9hdJne6rUCklhbiLumK68yJf1CLzKGK6amAVThB63yC+c728vczvdvKy+DVtL6iEIUg8TANwkB9iPiirQYXf2eM6LR6UhSe4bUcLu8l3lbi/IH3YJDjqdgNQ4o3qKvPI8CuUF+oapORAEAT+YPAQRegF7K5rcpu9EUezyvNL3vUkOD8t3lbs1w562dKhNrwumZEMQBNwk//foHgg+31uNDrsLBakxmJyTAFOEXv3v1f1a5ftfOykLRoMeeSkxmJafBJcItykxURTV6dgfytNrV07IRHSkHifr2tymCVutDjV43CDfT+V/P91dhXZb53+Dw9XN2FPeBINOwLWTsiAIgvp79kG3sa7aW4UOuwvDUmMwMduMxJhIXC7viK2MrfvPddWETERF6jFlaAKGp8Wiw+5Sm/UHS1BfkWpra+F0OpGe7r4fRnp6OqqrPf/g1dXVHq93OByore35D9eSJUtgNpvVj5ycnB7XaJm64mgQmnZPyfPreSnBqTZ4I1cOL6cGOLwo0yMzAtjb4g+DXqeOYaA2stt09AzsThF5ydFq31FOUrT6Qvfge7vUF+27Zub1+jyPXToS/7p/Ot66eyr+dOMkj42LqXGdU0ef76vCkdPN2Hy8DjoBarVDpxPUqalV3d5FAp1TOQsvGobLx6ZDFKW+iu5arA6sPiD9u3PHjFw8KFeCPthR5lbNqGpqx7aTUr+NMm2n0wnqz68Et5rmDqw9LL8Qyi9qCuWF6T/FlbA6nPjq4GnUttiQGmfEJaM7l9iPyYzH6Iw42JwufC7/bC1Wh7rJ383y9zTodfiB/D1WdqvSKC+kN8ov8leMy4A5KgIVje3YfLzzd6bV6lBfcK6f0vnCGWs0oFQOKwrle8wclqwG6vOHp2BIQhQsHQ6slnuYHE6Xeq3yMwOdfU8n69qwQ35BrmhsV3+Hu16rjOWjogo1bJ0404Idpxqg1wnqdFxSTKR677oGne0nG3Cyrg0xkXrMHy+9CM8Zk4bkmEicabZiQ5cVOkrVY2puolpNvm7KEOh1AopKG3Gsy+KAD3d1Bi3ld1cJD6sPnEaT3Itj6bCr97Xrz6X0/ny4szPA7SptxIkzrTBF6NTf6Ri5qqFcq1i1V6o85afEYGqu1HN3Xn4SshOj0Nzld7nr/ZgzJk1t0F0wORs6Qb4/XXqlugY99efq9vsKuIcn5ecSBAE/kAN9b6sEB8qAvJ3u/o+WKIp9nmni6XpPjwPA4sWL0dTUpH6UlfUsp2mZ0rQ7GBvVnZSnapTqx2BQgtPJAZw2qmnuwIkzrRAEqC+sg0k5A6nrC1EwfS03GV4yOt3t79xP5gxHckwk6lttcInSlNbkLquPPJkxLBmXjE7vcydiZepo2fYydYnt3HMyMKRLFeoq+Zo1B067ves/Wduqrta47byh+NEF0v4xn+1xf2cKAF/uk95J56dI7zgvGZ2GtDgj6lpt+ErulwCkd7WiCEzLS3Ibww8LsxGhF7C7vAn7Kpqwcpf0YjspJ0FdGac4f3gKMuJNaGq348v9p/GO3E9w49TsHlVMJZQoDZOf7K5Eq/yi1fXsLLcqjfzCeaymGbtKG6HXCWqfkSlCj2vk0NV1s8Av9lWrL4ZThiYAAKIjDWpAU0KQKIrqi+GCyZ0vxnqdgOvlFzHl3fz6I2dwptmK5JhIzB7VGcqiI7u8IMtj+GBHGURRekPQdfr1ktFpSIiOwGmLVQ0378vPf9HIVKTFd25JoASdFbsq1IqKMhapgiH9exmh1+FauWKk3IOuFZrru4SMtDgTLpargsr02am6VmyTK0/XdQmmY7PksOlw4WO51+mT3ZWwOlwYmR6L8UPM6rXzx0sVlZLaVuySDyxVxjp/XKa6gzrQGQ4+7fJ7q4z7+ilD1L+HOp2g3gPlZ7E7XWp1R/kcAGSYTZg1ItXt2pLaVmw/2QBdt5/r/OEpyDRLv69fHZD+/ivhKS85GoW5nX/Pld+Xb4/VerUkPViCGl5SUlKg1+t7VFlqamp6VFcUGRkZHq83GAxITu75QmI0GhEfH+/2EU4Gs/JSKpfxhyZ/vyovyvTMiLRYmKMjznJ18J0vb2S342SD2wu3vzrsThyubvbYQ+NyiWrz6Jwx7pvwpcWZ8M/7p+PqiVm4a0Yu/nTjxH6PBZCWTCfHROLEmVasO3wGOgFYNHek2zWTcxKREW9Ci9WBjUc7Q9w/5cbDi0amIicpGufmJSInKQqtNie+3O/+78hH8lSQtJGegAi9Tp3e6NqIq1x3tfwOU5ESa1Sng57//BDe3CRNN918bs9qr17XWbZ/5F9F2FZSj0iDDrd1WW3V9ecXBKk5s6y+TR3LLdNy3MJj1yrNp3ulF06lp+PiUe77Dt0gNw1/ub9anY5SpgQWTB7i9rxKg/GqvVVoardjW0k9TsmVjHnj3Q/YVN6hbzpWi/KGNvxrW5l6T7sfLKq8IH8mP6/S83PzNPf7FWnQqWFrubzySulLuanbvZ0tT03Vtlix8Wgtmjvs+HSP+9RK93vw1cHTaGi1oaisEcdqWmCK0KlhuHOs0tcqoUgJDheOSEWmuTPACoKg/lwfykFE6QFSKl+KGKMB88Z1VlRau0w53tjt55qWl4ScpCi1Oti1uVsZm0IJKJuO1aKysR1fH6xBbYvVbQqu+z1YvqscTpeoBtSLRqYiw9z5+6LXCVggh98P5d+T7tN2itzkGDx+6Ui8c880JA7iv49BDS+RkZEoLCzEmjVr3B5fs2YNZs6c6fFrZsyY0eP61atXY+rUqYiIGPwXkoEWa5R+5sFo2FX6TAa18iIHp1N1bW5z8sF0oFLqmxqbZT7LlQNjWGosUuOMsDpcKCpt7NdzlTe04ZIX1uHypRtw/aube6xE2FPRhNoWG+LkXpPuRmXE4X9vmYxfXzvO7Z1jf5ijIvDCDRMRE6mHQSfgNz8Y1+MoCp1OUF9IlamjDrtTfSerNHMKgqBWC7pOLZy2dKh9TEoPBwDcct5Q6ARpE71jNc04VG3B/koLIvQCruq2igoAHpw9HHqdgE3HalHTbEV2YpRa8ejuvy4sUBvOAeCh2cN79DQB0qq6mcOkgHrNy5uwv9KC6Ei927tohfLYyl1S464yfXdjtxfu8UPMGJUeB6vDhU92V6K0rg3fnZAqCV2rDgAwKScBI9NjYXW48J/iCrwnT4t1rWQocpKiMXNYMkQRuOft7fjq4GkIQs9AAgDn5iUhNzkaLVYHLntxPSqbOtwCoKef68v91Xjp66Mep9gA96Dz/vYyLN9Zrvb7TM11rwKOyYzH2Kx42J0iVhZV4F2532n++Mwev7uXjJZC0ZlmK/5TXKn2HHW/r4AU1Aw6qQL30tdHsadcala+bnLP3wMlPHxcXIk/rT7isaIGuFdU/r7lFP4qT3t2DxmA9GZS2eBx2bZSvCWvwrt+Ss+q3qVj0hFvMqCqqQOf7a1yC1rdKd9//ZEz+Hh3pVqh+WFhz9/DRy8dgQtHpnrcF2agBP07L1q0CH/961/x1ltv4eDBg3j88cdRWlqKhQsXApCmfe688071+oULF+LUqVNYtGgRDh48iLfeegtvvvkmnnjiiWAPNSQNVsOu0yWqDZS5g1h5GZIQBYNOgNXhQs0AlSgPyPuJnDOAp2j3RRAE9cVti4epow67E8u2lbr1DPTmV//Zj0p5CW1xWSOWfO6+E+o38vTJhSNTe7yTDqaLR6dhxy8vQ9GvLvNYnQCAK+Uw8dWB07A6nPh0TxUa2uzIMpvc3nF2f2cKSC8eLhEozE10qyQOSYjCnDFSFfjtb0/iH/IL3MWj0jxuWnZOVjx+fc1YGA06pMYZ8fKtUzxurgZI77yXL5yJR+aMwJ9umIhH5vRcbaX42eWjIQhQNzh7cPYwj5uLXTspCzpB2jBu0b+LUdtiQ3p8z3fcgiCoL5zvbS3F6xulVWIXDE/pEaAEobOf51f/2a8uT75zRp7HsT5+mVQVO1ojNfRfN3kIhqf13EpBpxPw5OXSMlzl7+6iy0Z6bPCekG3GtPwkWB0udVO8hRcN87hQ4OZpORAE4Iv91erGkXefn++xrUCpij336QF1Wu5uD31akQYdbpED2E8/2I3aFhtyk6Mxd2zPGYLkWKP6O/bimiMAgFunDfX432taXhImZJvRanOqIeOhi4d7HOtN5+bAFCHtD6NUtB70sEIPAO6cIf0deembY2pVT3msK1OEXq1ePfKvItS32pCfEoPLzun5cxWkxuLCkalwidK1gNTUnB5v6nFtKAj6v0433XQTli5diueeew6TJk3Chg0bsGrVKuTmSje6qqrKbc+X/Px8rFq1CuvWrcOkSZPwm9/8Bi+99BKuv/76YA81JHWebzSwlZfKxnbYnSIi9Tq3sulAM+h1yE6Uvv9AnS69X668nJMVGuEFgBpeNh+vc3vc5RJx7zvb8dSKvXjs/WL88qN9vT7HwSoLvjlUA50A/O66cQCAf20rc5uSUxoxu7/jHQhRkfo+qzlThkpTR81WBz7fW4235Gmb22fkuvXUDE2OVpfqrpBXu6hTJh6qJMohke9tLVWrDvdekN/rOG6fnovdz8zF1sVzMCknoc+fKS3ehEWXSfv29NXnNyknAa/eVojzhyfjsUtH4MHZnl+00uJNWDClsz8CkJage3qRv27yEMRE6nGwyoJ3v5N+rge67WSsuPW8oW57Od04NRvjhniuPJ6bl4QlC8YjNzka88dn4NfXjO3157pyQiaeu3YspgxNwM8uH6UGhO4EQcCSBeORHi8FgItHpXp8MQaA0RnxaqUNkN5keJq6A6RVR113B18wZQgmZCd4vPbB2cMxPE06ksSgE/DbH4zrdZXlU/NGq/drbFY8ftrL3k86nYD/+eFEdaflayZm9WjuVmSao/Df8saFAHDXjNxed9K9cnwm5nT5O/rE3JEeq3oA8JM5I9Q3oAadgOeuHdtrxeTX14xVp4IyzSY8GeA9rQJJEMPsZCyLxQKz2Yympqaw6H/54xeH8Mq647jn/Dw8c3Xv/0gE2rfHanHbX7eiICUG3zwxe8C+ryd3vbUN64+cwZIF49V3iMHS3GHH+GdXAwB2/fdl6tLPwVZW34ZZf1wrlaufmatuT/7J7kr8RH6XpFjx4Ey3bfwVSz4/iP9bfwJXjM3Aa3cUqvf1+inZ+NONE3GythWzX1gHvU7Azl9eioTo0PjZu3rp66Pqu10AiInUY9PPL+lRJflwZzme+GA3hiZF4/nrx+PWN7bCaNBh+y8vVY/d6GrR+8XqO/OrJmTi5VunBPcH6YfGNhvu+9sO7DjVgOunZON/fjih1+X8y3eW44kPd0MUpaXnSxb0fsRCbYsVb24qQWJ0BO6emT+glTdFu82JisZ2DEuN6TPsOZwu/HNbKepbbbhzRl6ff0/rWqx4Y2MJzFERuPeCvF4rZYD09/+bQzU4JzO+RxO2pzGcrGtDXnL0WadPOuxOnJGnGfv6uQDpINpWmxMTs819XmtzuLDmwGkkxURixrC+FxY0tdmx5uBpjBsSj9EZfb8u1rZYsetUA87LTx7wnj9fXr95tlGIG6zKS5U8tdBbmh9I+SkxWH/kTK9boweSchxCptkUMsEFkHoNhiREoaKxHdtP1mP2qDQ4nC78v6+kF/LHLx2J0vo2LN9Vjre/PdkjvIiiiM/3Sg2symqBRZeNxPojZ7CyqBwPzB6mLtU9Lz8pJIMLAPzognws31Wublr41LzRHqd35o3LwO9XHURpfRtufWMrAOldt6fgAgB//OEEzByeApcouvXEhKKE6Eh8sHAGrA5Xr2cSKa4vzMbkoQloareftUqUEmvEz/s4O2kgREXq1epHXwx6Xa/TWt0lxxrVXWTPJs4Uoa5S8mYM3owVkKZvvN3g8myhSRFp0Km7T5+NOTrCY++KJymxRnVDwlDGU6VDXNwgHc5YLe8KmWke/PnOfHk/hhMDEF6UZt1Q6XfpSpk6UhpPVxZV4MQZ6ZC/ey/IU6c/Pt9b1WPX2P2VFpTWt8EUoVM3i5uYk4DLzkmHSwR+sWIv/ib3e3j7j9xgiDEa8MHCGfjZ5aPw2u2FuKOXF7AYo8HtBSshOgKPzhnp8VpAeiH6YWE2bpyaMygVB18JgnDW4KIoSI3F5KGJZ33HT6Qlof+39HsuTlkqPcCrjZTKSyiEF2UzqYGovBwIwX4XhdKUKZ1h4sDSr6Qzah6YPQxxpgiMG2LGxGyzx0MBlU20Zo9MczsR96dzR0KvE7DtZD1qW6zISYry+t3cYEmLM+Ghi4fjinF9vzu8cWoOXr1tCv7rwgJ8uHBmj1UbRKRdDC8hTtnnZaA3qVPCS8YgNusqlF1eTw3A6dLKSqMxIVh5mTNGWs552mLFVS9tQkVjOzLiTbhjep56jbJ/RPdDAZU9T7q/4I/OiMf//HAC4owGZJpN+N9bel89o0Xzxmdi8fwxXpf3iUgbGF5CXGfPy8AulQ6lyotyurTN4Qrq6dIOpwuH5TNxQnHayGjQ475Z0ioYZQrtqXmjERXZGTaunpgFU4R0KKBy8uyJMy04WtMCg07osaQWkJZD7n5mLjY/dclZ+yKIiEIBw0uIizMNzrSR2vOSMPjhRa8T1L05gnlA44naVtgcLsRE6jE0SKdH99ePZxXg7pl5KEiNweJ5o9Wt5RXxpogeJ89+uV9a/jxjWDLMUZ4bVnU6gT0RRKQZDC8hLs448A27HXanullWZvzgTxsBnbv8BnOvF6XfZXRm/ICdJO0rg16HZ68Zi29+Ohv/1cueHco26Z/srkKbzYGVRdIurGfrESEi0gqGlxCnTBu12ZxuR7sHU7U8ZRQVoUd8VGisps+XD2gMZng5GGI76/prekHntuy//GgfjpxuQVSEXl0iTUSkdQwvIS62y8qQVmv/D+XzRmWXKaNQmUrIT5EaLoO54iiUm3V9IQiCeoCectrsjVOze93jhIhIaxheQlykQQdThPSfyTJATbunLfJKoxA60yJPrrwEa68XURTVysuYTO82iQpld8zIU7dFH5keq55HQ0QUDkJjToD6FG+KQIfdOmDhpbbZBgBIjet50NhgUc4ROVXXhuYOe8BONFZUNLajtsUGg0446/bZWmCOisDHD1+AYzUtGJYWE1bLn4mIWHnRAGXFkaV9YJp2a1ul3VmTY0InvCTHGtVK0MGq5oA//85TDQCkQ9a6Lj3WskiDDudkxTO4EFHYYXjRgPgoZcXRwFRe6lqkyktKXGidbzNW3vV2f2VTwJ9bCS9TcnseaEhERKGF4UUDlCkSywAtl1bOxUkJocoL0DW8WAL+3FuO1wEApuZ6PoKeiIhCB8OLBsTL00YDXXlJjg2tysv47AQAnVWSQDlV16ruQHvB8JSAPjcREQUew4sGqJWXAep5qVMqL7GhVXk5ryAJep2AktpWlDe0Bex5V8qHGE7LT4I5msuJiYhCHVcbaYCyUdxAVF5EUURtiFZe4k0RmJhtxq7SRqw9fAZ3TM/1+TmcLhHPf34Qy7aVITPBhGsmZuHtb08CAG6eNjTAIyYiomBg5UUD4tWel+CHl2arAzZ5J99Qq7wAwDz53J5/bS11OzXZW29/W4I3Npag2erAkdMteGH1ETS12zFuSDzmcft8IiJNYOVFAzp7XoI/baT0u8QaDTBFhN4S2x8WZuNPaw7jQJUFd761DVEReqTHm/DQxcORcZYTsNttTvz566MAgJ9dPgrRkXp8fbAGqXFGLJ43GhF6ZnkiIi1geNGAuAGsvCgrjUJtykiRGBOJX155Dn750T5sPFqrPr72cA0+e2RWr6cmA8DqA9Vo7nAgJykKD1w0DDqdgHvOzx+IYRMRUQAxvGhAZ8/LQFRelA3qQjO8AMDt03MxPC0WO07WI9ZowF83laC8oR0vf3MUT195Tq9f95HcmLtgcnbInhpNRERnx/CiAZ2rjQai8iJvUBeC/S5dTS9IxvSCZADA0ORo3PvODizbVoZHLx3pdpilwupw4rsT9QCAeePZ20JEpGWc5NcApWF3ICovndNGoR1eupo9Mg35KTFotjqwen+1x2uKShvRbnciJdaonpNERETaxPCiAerZRh12v1bY+EI9GiBEe1480ekEXD1BWoX0ZS/hZfMxqT9m5rBkCAKnjIiItIzhRQOUs43sThFWhyuo36uuNTQ3qDuby+VlzuuPnEG7zdnj89/K2/+fPzx5QMdFRESBx/CiATGReij9pcHue6ltDs0N6s7mnMx4ZCdGocPuwqZjtW6fa7E6sLusEQAwcxi3/yci0jqGFw0QBEFtQg324Yy1rcpqI21VXgRBwJzRaQCArw+edvvc9pJ6OFwihiZFIycpejCGR0REAcTwohHK1FGw93pRel5S47RVeQGAOWPSAQBfH6qBy9XZG/StXInhlBERUXhgeNGIuAFYcWRzuNAkT0tprfICSAc3xkTqcabZir0VTerjm+V+lxmcMiIiCgsMLxqhHBEQzJ6X+lap6qLXCX3uVBuqjAY9LhyZCqBz6qih1YYDVRYAwIwCVl6IiMIBw4tGDETlpbbL7rpa3YFWmTr66mANAODb49KU0Yi0WKTGaa+aREREPTG8aIRyREAwe160uEFddxePSoUgAAeqLKhsbMfn+6R9Xy4ZkzbIIyMiokBheNGIzl12gxdetLhBXXfJsUZMGZoIAPj3jjJ8I1dg5o3LHMxhERFRADG8aITS89IUxJ4XrW5Q152y2+7Sr46i3e7E6Iw4TMw2D/KoiIgoUBheNMIcLVVDGtuCOW0kb1AXwidKe+PmaUMxLDVG/fPP543mkQBERGGEp0prRGK0NG0U3PCi/Z4XADBF6PHv/5qBlUUVGJtlxoxhXGVERBROGF40IlGuvDS02YL2PcKh50WRHGvEfbMKBnsYREQUBJw20oiEAa28aD+8EBFR+GJ40YiBrbxoe9qIiIjCG8OLRijhpc3mhNXhDPjzi6IYNquNiIgovDG8aEScyQBl09tgTB1Z2h2wO6XDDJM0vtqIiIjCG8OLRuh0AhKCOHV0Ru53iTMZYIrQB/z5iYiIAoXhRUOUpt2G1sBXXupaOGVERETawPCiIUrfS1N74CsvtWG0TJqIiMIbw4uGKBvVNQSh50Vp1k2OYeWFiIhCG8OLhgSz56W2WZ42imPlhYiIQhvDi4YE84iA2lblXCNWXoiIKLQFNbw0NDTgjjvugNlshtlsxh133IHGxsY+v+buu++GIAhuH9OnTw/mMDVDrby0BrPywvBCREShLahnG916660oLy/HF198AQD48Y9/jDvuuAOffPJJn193xRVX4O2331b/HBnJqQyg6y67weh5kRt2uccLERGFuKCFl4MHD+KLL77Ad999h/POOw8A8MYbb2DGjBk4fPgwRo0a1evXGo1GZGRkBGtompUUI00bKc21gaSca8TKCxERhbqgTRtt2bIFZrNZDS4AMH36dJjNZmzevLnPr123bh3S0tIwcuRI3H///aipqQnWMDUlVQ4WStAIJOVco2RWXoiIKMQFrfJSXV2NtLS0Ho+npaWhurq616+bN28ebrjhBuTm5qKkpAT//d//jUsuuQQ7d+6E0dizKmC1WmG1dr6YWyyWwPwAISg11gQAONNshSiKEAQhIM/bYXeixeoAwMoLERGFPp8rL88++2yPhtruHzt27AAAjy+uZ3vRvemmm3DllVdi3LhxuPrqq/H555/jyJEj+Oyzzzxev2TJErUh2Gw2Iycnx9cfSTOUZcwddpcaNgJBqeRE6nWIMwa1DYqIiKjffH6levjhh3HzzTf3eU1eXh727NmD06dP9/jcmTNnkJ6e7vX3y8zMRG5uLo4ePerx84sXL8aiRYvUP1sslrANMNGRBsQaDWixOnCm2Yo4U0RAnveMstIoNjJg1RwiIqJg8Tm8pKSkICUl5azXzZgxA01NTdi2bRumTZsGANi6dSuampowc+ZMr79fXV0dysrKkJmZ6fHzRqPR43RSuEqNM6rhpSA1NiDPedrSAQBIN5sC8nxERETBFLSG3TFjxuCKK67A/fffj++++w7fffcd7r//flx11VVuK41Gjx6NlStXAgBaWlrwxBNPYMuWLTh58iTWrVuHq6++GikpKbjuuuuCNVRNSZUPTjwTwKbd6iYpvGTEM7wQEVHoC+omde+99x7Gjx+PuXPnYu7cuZgwYQL+8Y9/uF1z+PBhNDU1AQD0ej327t2La6+9FiNHjsRdd92FkSNHYsuWLYiLiwvmUDVDWXGkTPUEwmn5udIZXoiISAOC2p2ZlJSEd999t89rRFFU/39UVBS+/PLLYA5J84ISXuTKC8MLERFpAc820phghJdqueclw/z96R0iIiLtYnjRGKXnpSaQlRelYTeOlRciIgp9DC8akxYvhRclcATCaYvc88LVRkREpAEMLxozJCEKAFDR2B6Q52uxOtQN79jzQkREWsDwojFZcnhp7nDA0tH/06WVZdKxRmkDPCIiolDH8KIxMUYDEqKlnXWrGvs/dVTe0Aags6JDREQU6hheNCjLrEwdtfX7ucoapOmnnCSGFyIi0gaGFw3KUvteAlB5qZcCUHZidL+fi4iIaCAwvGhQdqIUXioD0LRbJk8b5SQxvBARkTYwvGhQVoK0KqiiIQDhpV6eNkrktBEREWkDw4sGDUmQqiSBWC7NygsREWkNw4sGKc21p+r617Br6bCjsc0uPyfDCxERaQPDiwblJscAAGpbrOoGc/44VtMCAEiPN3KPFyIi0gyGFw0yR0UgKSYSAHCyttXv5zl2WgovI9LiAjIuIiKigcDwolF5ydI0z8k6/8PL0ZpmAMDwtNiAjImIiGggMLxoVF6KNHXUn8rLUXnaaEQ6wwsREWkHw4tG5ct9LyW1/jftHpWnjUamc9qIiIi0g+FFo9TKi5/TRo1tNnWp9Uj2vBARkYYwvGhUvhxeTvkZXvaUNwEAcpOjYZYPeiQiItIChheNypUbdmtbbLB02H3++j3ljQCAidkJARwVERFR8DG8aFScKQIpsUYAwCk/+l52y5WXCdnmgI6LiIgo2BheNCw/Raq+nKht8flrd5c1AgAm5SQEcERERETBx/CiYXnJynJp3yovVU3tqGm2Qq8TMDaLlRciItIWhhcNy09Vlkv7VnnZdaoRADA6Iw5RkfpAD4uIiCioGF40TN3rxccDGneVNgAACnMTAz4mIiKiYGN40TC18nKmBaIoev11O09J4WXKUIYXIiLSHoYXDctNksKLpcOBhjbvlkt32J3YXymtNGLlhYiItIjhRcOiIvXIMpsAACVennG0r6IJdqeI1DgjshOjgjk8IiKioGB40TjlmABvw0vnlFECBEEI2riIiIiCheFF43w9XbqotBEA+12IiEi7GF40rsDHysuhagsAYDx31iUiIo1ieNE4ZaM6b8JLu82JU/XSsuqR6TxJmoiItInhReOU5dIn61rPulz6WE0LRBFIjolUz0UiIiLSGoYXjctJjIZOANpsTtQ0W/u89sjpZgDAiPTYgRgaERFRUDC8aFykQYecJOmAxrNNHSnhZRSnjIiISMMYXsKAt30vh+XwMjKD4YWIiLSL4SUM5Hu5XProaekARzbrEhGRljG8hAElvJzoI7w0d9hR0dgOABiZxvBCRETaxfASBrzZZfeIXHXJiDfBHB0xIOMiIiIKBoaXMKBsVFda1wany/Ny6aNcaURERGGC4SUMZCVEIVKvg83pQqU8NdTdYa40IiKiMMHwEgb0OgFDk6Xl0ifrPE8dHeFKIyIiChMML2HibMulj3ClERERhQmGlzBRkNp7eKlvteGMvPvuiDT2vBARkbYxvIQJpfLiaa8XZcooJykKMUbDgI6LiIgo0BhewkR+H8ullZVG3N+FiIjCAcNLmFDCS1lDO+xOl9vneCwAERGFE4aXMJEeb0RUhB5Ol4jyBvfl0keqpWZdLpMmIqJwENTw8rvf/Q4zZ85EdHQ0EhISvPoaURTx7LPPIisrC1FRUZg9ezb2798fzGGGBUEQuuy026I+LooijtRwgzoiIgofQQ0vNpsNN9xwAx544AGvv+aPf/wjXnzxRbz88svYvn07MjIycNlll6G5uTmIIw0P+SnSXi8ltW3qYzXNVjS22aHXCRiWyvBCRETaF9Tw8utf/xqPP/44xo8f79X1oihi6dKlePrpp7FgwQKMGzcOf/vb39DW1oZ//vOfwRxqWMj3UHk5WGUBIB0hYIrQD8q4iIiIAimkel5KSkpQXV2NuXPnqo8ZjUZcdNFF2Lx5s8evsVqtsFgsbh/fV542qjtULVWsRmfGD8qYiIiIAi2kwkt1dTUAID093e3x9PR09XPdLVmyBGazWf3IyckJ+jhD1Sh5NdHBqmaIonRA4yG58jKaK42IiChM+Bxenn32WQiC0OfHjh07+jUoQRDc/iyKYo/HFIsXL0ZTU5P6UVZW1q/vrWUj0+Ng0Amob7WhqqkDQGflZUwmwwsREYUHn7dbffjhh3HzzTf3eU1eXp5fg8nIyAAgVWAyMzPVx2tqanpUYxRGoxFGo9Gv7xduTBF6jEiPw8EqC/ZVNMEcFYGjNVL/yzmZ5kEeHRERUWD4HF5SUlKQkpISjLEgPz8fGRkZWLNmDSZPngxAWrG0fv16/OEPfwjK9ww347LicbDKgr0VTYgxGuB0iRiSEIUMs2mwh0ZERBQQQe15KS0tRXFxMUpLS+F0OlFcXIzi4mK0tHSuhhk9ejRWrlwJQJoueuyxx/D73/8eK1euxL59+3D33XcjOjoat956azCHGjYmD00EAGw+XoetJfUAgKl5iYM5JCIiooAK6il9v/rVr/C3v/1N/bNSTVm7di1mz54NADh8+DCamprUa5588km0t7fjwQcfRENDA8477zysXr0acXHs2fDG7FGpAICi0gZUNUo77Z4/LDiVMiIiosEgiMqylDBhsVhgNpvR1NSE+Pjv5/Lg+X/eiAPyKiODTsD2py9FYkzkII+KiIiod768fofUUmkKjIcvGa7+/9vOG8rgQkREYSWo00Y0OOaPz8Q795yL6qYOLJiSPdjDISIiCiiGlzA1e1TaYA+BiIgoKDhtRERERJrC8EJERESawvBCREREmsLwQkRERJrC8EJERESawvBCREREmsLwQkRERJrC8EJERESawvBCREREmsLwQkRERJrC8EJERESawvBCREREmsLwQkRERJoSdqdKi6IIALBYLIM8EiIiIvKW8rqtvI73JezCS3NzMwAgJydnkEdCREREvmpubobZbO7zGkH0JuJoiMvlQmVlJeLi4iAIQkCf22KxICcnB2VlZYiPjw/oc3+f8b4GB+9rcPC+Bgfva+Bp7Z6Koojm5mZkZWVBp+u7qyXsKi86nQ7Z2dlB/R7x8fGa+EXQGt7X4OB9DQ7e1+DgfQ08Ld3Ts1VcFGzYJSIiIk1heCEiIiJNYXjxgdFoxDPPPAOj0TjYQwkrvK/BwfsaHLyvwcH7GnjhfE/DrmGXiIiIwhsrL0RERKQpDC9ERESkKQwvREREpCkML0RERKQpDC9eeuWVV5Cfnw+TyYTCwkJs3LhxsIekKUuWLMG5556LuLg4pKWl4Qc/+AEOHz7sdo0oinj22WeRlZWFqKgozJ49G/v37x+kEWvTkiVLIAgCHnvsMfUx3lf/VFRU4Pbbb0dycjKio6MxadIk7Ny5U/0876vvHA4HfvnLXyI/Px9RUVEoKCjAc889B5fLpV7D+3p2GzZswNVXX42srCwIgoCPPvrI7fPe3EOr1Yqf/OQnSElJQUxMDK655hqUl5cP4E/RTyKd1bJly8SIiAjxjTfeEA8cOCA++uijYkxMjHjq1KnBHppmXH755eLbb78t7tu3TywuLhavvPJKcejQoWJLS4t6zfPPPy/GxcWJy5cvF/fu3SvedNNNYmZmpmixWAZx5Nqxbds2MS8vT5wwYYL46KOPqo/zvvquvr5ezM3NFe+++25x69atYklJifjVV1+Jx44dU6/hffXdb3/7WzE5OVn89NNPxZKSEvGDDz4QY2NjxaVLl6rX8L6e3apVq8Snn35aXL58uQhAXLlypdvnvbmHCxcuFIcMGSKuWbNG3LVrl3jxxReLEydOFB0OxwD/NP5hePHCtGnTxIULF7o9Nnr0aPGpp54apBFpX01NjQhAXL9+vSiKouhyucSMjAzx+eefV6/p6OgQzWaz+Nprrw3WMDWjublZHDFihLhmzRrxoosuUsML76t/fv7zn4sXXHBBr5/nffXPlVdeKd57771ujy1YsEC8/fbbRVHkffVH9/DizT1sbGwUIyIixGXLlqnXVFRUiDqdTvziiy8GbOz9wWmjs7DZbNi5cyfmzp3r9vjcuXOxefPmQRqV9jU1NQEAkpKSAAAlJSWorq52u89GoxEXXXQR77MXHnroIVx55ZW49NJL3R7nffXPxx9/jKlTp+KGG25AWloaJk+ejDfeeEP9PO+rfy644AJ8/fXXOHLkCABg9+7d2LRpE+bPnw+A9zUQvLmHO3fuhN1ud7smKysL48aN08x9DruDGQOttrYWTqcT6enpbo+np6ejurp6kEalbaIoYtGiRbjgggswbtw4AFDvpaf7fOrUqQEfo5YsW7YMu3btwvbt23t8jvfVPydOnMCrr76KRYsW4Re/+AW2bduGRx55BEajEXfeeSfvq59+/vOfo6mpCaNHj4Zer4fT6cTvfvc73HLLLQD4+xoI3tzD6upqREZGIjExscc1WnldY3jxkiAIbn8WRbHHY+Sdhx9+GHv27MGmTZt6fI732TdlZWV49NFHsXr1aphMpl6v4331jcvlwtSpU/H73/8eADB58mTs378fr776Ku688071Ot5X37z//vt499138c9//hNjx45FcXExHnvsMWRlZeGuu+5Sr+N97T9/7qGW7jOnjc4iJSUFer2+RxqtqanpkWzp7H7yk5/g448/xtq1a5Gdna0+npGRAQC8zz7auXMnampqUFhYCIPBAIPBgPXr1+Oll16CwWBQ7x3vq28yMzNxzjnnuD02ZswYlJaWAuDvq79+9rOf4amnnsLNN9+M8ePH44477sDjjz+OJUuWAOB9DQRv7mFGRgZsNhsaGhp6vSbUMbycRWRkJAoLC7FmzRq3x9esWYOZM2cO0qi0RxRFPPzww1ixYgW++eYb5Ofnu30+Pz8fGRkZbvfZZrNh/fr1vM99mDNnDvbu3Yvi4mL1Y+rUqbjttttQXFyMgoIC3lc/nH/++T2W8h85cgS5ubkA+Pvqr7a2Nuh07i87er1eXSrN+9p/3tzDwsJCREREuF1TVVWFffv2aec+D1qrsIYoS6XffPNN8cCBA+Jjjz0mxsTEiCdPnhzsoWnGAw88IJrNZnHdunViVVWV+tHW1qZe8/zzz4tms1lcsWKFuHfvXvGWW27hEkk/dF1tJIq8r/7Ytm2baDAYxN/97nfi0aNHxffee0+Mjo4W3333XfUa3lff3XXXXeKQIUPUpdIrVqwQU1JSxCeffFK9hvf17Jqbm8WioiKxqKhIBCC++OKLYlFRkbp9hzf3cOHChWJ2drb41Vdfibt27RIvueQSLpUOR3/5y1/E3NxcMTIyUpwyZYq6xJe8A8Djx9tvv61e43K5xGeeeUbMyMgQjUajeOGFF4p79+4dvEFrVPfwwvvqn08++UQcN26caDQaxdGjR4uvv/662+d5X31nsVjERx99VBw6dKhoMpnEgoIC8emnnxatVqt6De/r2a1du9bjv6d33XWXKIre3cP29nbx4YcfFpOSksSoqCjxqquuEktLSwfhp/GPIIqiODg1HyIiIiLfseeFiIiINIXhhYiIiDSF4YWIiIg0heGFiIiINIXhhYiIiDSF4YWIiIg0heGFiIiINIXhhYiIiDSF4YWIiIg0heGFiIiINIXhhYiIiDSF4YWIiIg05f8DNodRb6QBvskAAAAASUVORK5CYII=",
          "text/plain": "<Figure size 640x480 with 1 Axes>"
         },
         "metadata": {},
         "output_type": "display_data"
        }
       ]
      }
     },
     "a31408d3b6be4f699d6fe79cfc830e6a": {
      "model_module": "@jupyter-widgets/controls",
      "model_module_version": "2.0.0",
      "model_name": "FloatSliderModel",
      "state": {
       "behavior": "drag-tap",
       "description": "$\\v_0$",
       "layout": "IPY_MODEL_f847ab7fc2e74ef7bdcc865c4a93d2f3",
       "min": -100,
       "readout_format": ".1f",
       "step": 0.1,
       "style": "IPY_MODEL_d9ef51c30dd54877b02aa5033eb304ca"
      }
     },
     "a3b425ac404a4be29c3e168a16b8a5ed": {
      "model_module": "@jupyter-widgets/controls",
      "model_module_version": "2.0.0",
      "model_name": "IntSliderModel",
      "state": {
       "behavior": "drag-tap",
       "description": "$t_{\\max}$",
       "layout": "IPY_MODEL_0b902f4f05b8472689fb5b253a7faf23",
       "max": 200,
       "min": 10,
       "style": "IPY_MODEL_6d55f35adab144078ac73a1c2c8882ce",
       "value": 50
      }
     },
     "a4b0e534e5b249db83cac2136c8fbb5e": {
      "model_module": "@jupyter-widgets/base",
      "model_module_version": "2.0.0",
      "model_name": "LayoutModel",
      "state": {
       "width": "100%"
      }
     },
     "a5beea2edff048c7b9135106f1779f7d": {
      "model_module": "@jupyter-widgets/controls",
      "model_module_version": "2.0.0",
      "model_name": "FloatSliderModel",
      "state": {
       "behavior": "drag-tap",
       "description": "$\\omega_0$",
       "layout": "IPY_MODEL_ef06d79703764d0b91e0832213873c03",
       "max": 10,
       "step": 0.01,
       "style": "IPY_MODEL_5b9aae7100e9400d9f49ff2d5b957d9b",
       "value": 1
      }
     },
     "a5db9224605a459e94c277e6e92a9524": {
      "model_module": "@jupyter-widgets/base",
      "model_module_version": "2.0.0",
      "model_name": "LayoutModel",
      "state": {
       "width": "100%"
      }
     },
     "a5dddcf2d1e54ea0bdfe325071250a6f": {
      "model_module": "@jupyter-widgets/controls",
      "model_module_version": "2.0.0",
      "model_name": "SliderStyleModel",
      "state": {
       "description_width": ""
      }
     },
     "a60eded42b3c4a81ba165e409eff82ca": {
      "model_module": "@jupyter-widgets/base",
      "model_module_version": "2.0.0",
      "model_name": "LayoutModel",
      "state": {
       "width": "100%"
      }
     },
     "a823ccb51e9449fda23ea93378cbb190": {
      "model_module": "@jupyter-widgets/controls",
      "model_module_version": "2.0.0",
      "model_name": "SliderStyleModel",
      "state": {
       "description_width": ""
      }
     },
     "a8698c786bc14c728519fc2b9e4339a3": {
      "model_module": "@jupyter-widgets/controls",
      "model_module_version": "2.0.0",
      "model_name": "FloatSliderModel",
      "state": {
       "behavior": "drag-tap",
       "description": "$\\beta$",
       "layout": "IPY_MODEL_e69b078265f946b680341c67d75ad80c",
       "max": 3,
       "step": 0.01,
       "style": "IPY_MODEL_809414845e024e82bed5c4949ff77cbf"
      }
     },
     "a8ae796d653649bdb7da68cfb0b02446": {
      "model_module": "@jupyter-widgets/controls",
      "model_module_version": "2.0.0",
      "model_name": "FloatSliderModel",
      "state": {
       "behavior": "drag-tap",
       "description": "$\\Omega$",
       "layout": "IPY_MODEL_28d86e612b5b4cb39d9bdc4620c459be",
       "max": 5,
       "step": 0.01,
       "style": "IPY_MODEL_08432ae8dcb048d88ecf522cd3d4868f",
       "value": 1.2
      }
     },
     "a8f8e4253df44507a339f4effeec62cc": {
      "model_module": "@jupyter-widgets/base",
      "model_module_version": "2.0.0",
      "model_name": "LayoutModel",
      "state": {
       "width": "100%"
      }
     },
     "aa0c8d603fdf4b09b4cbc19e768a85b9": {
      "model_module": "@jupyter-widgets/controls",
      "model_module_version": "2.0.0",
      "model_name": "FloatSliderModel",
      "state": {
       "behavior": "drag-tap",
       "description": "$\\omega_0$",
       "layout": "IPY_MODEL_55ceacc18ebe45109606ae6342399561",
       "max": 5,
       "step": 0.01,
       "style": "IPY_MODEL_7cf613b5e1a74868a961012be6d4e470",
       "value": 0.43
      }
     },
     "aa282cc09618429f8a411d8c756e61ab": {
      "model_module": "@jupyter-widgets/base",
      "model_module_version": "2.0.0",
      "model_name": "LayoutModel",
      "state": {
       "width": "100%"
      }
     },
     "aa9297fefa8d45f199afe40c6be42e3f": {
      "model_module": "@jupyter-widgets/base",
      "model_module_version": "2.0.0",
      "model_name": "LayoutModel",
      "state": {
       "width": "100%"
      }
     },
     "aa963b88027f460590d19774c46dcc8b": {
      "model_module": "@jupyter-widgets/controls",
      "model_module_version": "2.0.0",
      "model_name": "SliderStyleModel",
      "state": {
       "description_width": ""
      }
     },
     "aaac0f56847146ca9804bd747f8e8555": {
      "model_module": "@jupyter-widgets/controls",
      "model_module_version": "2.0.0",
      "model_name": "SliderStyleModel",
      "state": {
       "description_width": ""
      }
     },
     "ac1b32114fed47a592e7bfd1adace2a7": {
      "model_module": "@jupyter-widgets/controls",
      "model_module_version": "2.0.0",
      "model_name": "SliderStyleModel",
      "state": {
       "description_width": ""
      }
     },
     "acf32c5a16cc4b8a8bf6f624b025a2db": {
      "model_module": "@jupyter-widgets/base",
      "model_module_version": "2.0.0",
      "model_name": "LayoutModel",
      "state": {}
     },
     "adb83eebf1e1498b8cc36292b4811c0d": {
      "model_module": "@jupyter-widgets/controls",
      "model_module_version": "2.0.0",
      "model_name": "SliderStyleModel",
      "state": {
       "description_width": ""
      }
     },
     "adfe170d671e4a91a08d3cb8e8687ad3": {
      "model_module": "@jupyter-widgets/base",
      "model_module_version": "2.0.0",
      "model_name": "LayoutModel",
      "state": {
       "width": "100%"
      }
     },
     "aeec5056a81f4ec48472a4313e26e328": {
      "model_module": "@jupyter-widgets/controls",
      "model_module_version": "2.0.0",
      "model_name": "SliderStyleModel",
      "state": {
       "description_width": ""
      }
     },
     "af3bc509a9ff415db9a97326fe036326": {
      "model_module": "@jupyter-widgets/controls",
      "model_module_version": "2.0.0",
      "model_name": "IntSliderModel",
      "state": {
       "behavior": "drag-tap",
       "description": "$t_{\\max}$",
       "layout": "IPY_MODEL_5ecb6b0c1b75459b9ac316fa2d20ac0f",
       "max": 200,
       "min": 10,
       "style": "IPY_MODEL_9d88ab09411d475da0c4534d1ad7b45c",
       "value": 130
      }
     },
     "af6c23761bc34d6882e01a7b6f48d6d6": {
      "model_module": "@jupyter-widgets/controls",
      "model_module_version": "2.0.0",
      "model_name": "SliderStyleModel",
      "state": {
       "description_width": ""
      }
     },
     "b0268d074adb4eea9596ee57672a86cc": {
      "model_module": "@jupyter-widgets/controls",
      "model_module_version": "2.0.0",
      "model_name": "VBoxModel",
      "state": {
       "_dom_classes": [
        "widget-interact"
       ],
       "children": [
        "IPY_MODEL_2da881394d8f47d684b676791797447a",
        "IPY_MODEL_f872bb36a3fa4f0784670ad3981222f6",
        "IPY_MODEL_53ac12ce22ec453eb3e2b2f09e4e515d",
        "IPY_MODEL_290ec9c2980e4552b5dc5e7fb79f4022",
        "IPY_MODEL_50e501904bf04d7f83211a59fbd866d2",
        "IPY_MODEL_f80c7d7bc0fc44e9ae21e4333bb458c6",
        "IPY_MODEL_60df5f270e494511af89a3df4e2561a8"
       ],
       "layout": "IPY_MODEL_6d03fa4231c64d7fb4802b65c8afa9c4"
      }
     },
     "b02a032ca2464868a5c228601c20b871": {
      "model_module": "@jupyter-widgets/controls",
      "model_module_version": "2.0.0",
      "model_name": "SliderStyleModel",
      "state": {
       "description_width": ""
      }
     },
     "b116a47d51944ae291713feb165b756c": {
      "model_module": "@jupyter-widgets/controls",
      "model_module_version": "2.0.0",
      "model_name": "VBoxModel",
      "state": {
       "_dom_classes": [
        "widget-interact"
       ],
       "children": [
        "IPY_MODEL_512e708e2420463c991dedb108c472c9",
        "IPY_MODEL_a8698c786bc14c728519fc2b9e4339a3",
        "IPY_MODEL_4ec38a21a28046b7b3edddebd42e9969",
        "IPY_MODEL_fcbc2f4f639647918cb39c753ecfe662",
        "IPY_MODEL_23f73127db094dc0a9a63b79d01af557",
        "IPY_MODEL_07ff08f7899a4db0a0051550515fa325"
       ],
       "layout": "IPY_MODEL_acf32c5a16cc4b8a8bf6f624b025a2db"
      }
     },
     "b12a2b995162493f91c4afbdab3dfb9e": {
      "model_module": "@jupyter-widgets/base",
      "model_module_version": "2.0.0",
      "model_name": "LayoutModel",
      "state": {
       "width": "100%"
      }
     },
     "b159034e7df34cce84fb0b49169ba05a": {
      "model_module": "@jupyter-widgets/base",
      "model_module_version": "2.0.0",
      "model_name": "LayoutModel",
      "state": {
       "width": "100%"
      }
     },
     "b211f66363624f49bae9916dba59f31f": {
      "model_module": "@jupyter-widgets/controls",
      "model_module_version": "2.0.0",
      "model_name": "VBoxModel",
      "state": {
       "_dom_classes": [
        "widget-interact"
       ],
       "children": [
        "IPY_MODEL_f353a187f2424433bbcb6ea5f373dbd5",
        "IPY_MODEL_749013a15c2b49f0a15626fbf7d228f5",
        "IPY_MODEL_2790612607394dd597ebd0f5a853ec08",
        "IPY_MODEL_5d40bc04d9a1472881ac72c8672444d9",
        "IPY_MODEL_e2e062762fb8416cb372a80a9d31c546",
        "IPY_MODEL_74f56663cffb483487182d237e9b563c",
        "IPY_MODEL_c913aeafe655411883fce09fb3211cf6",
        "IPY_MODEL_d5e365566c1c49998ab01ec211ed2887"
       ],
       "layout": "IPY_MODEL_354a6d5024c24a32bd0837d4f7f29083"
      }
     },
     "b2232323cae240a0895aa92c27bd9274": {
      "model_module": "@jupyter-widgets/controls",
      "model_module_version": "2.0.0",
      "model_name": "SliderStyleModel",
      "state": {
       "description_width": ""
      }
     },
     "b4296cc312ff486f8a85d43552847877": {
      "model_module": "@jupyter-widgets/controls",
      "model_module_version": "2.0.0",
      "model_name": "SliderStyleModel",
      "state": {
       "description_width": ""
      }
     },
     "b4a5bf4cf9c445718698443d5bcc406e": {
      "model_module": "@jupyter-widgets/controls",
      "model_module_version": "2.0.0",
      "model_name": "SliderStyleModel",
      "state": {
       "description_width": ""
      }
     },
     "b6775b768b0a4a6b83148744a13607d8": {
      "model_module": "@jupyter-widgets/base",
      "model_module_version": "2.0.0",
      "model_name": "LayoutModel",
      "state": {}
     },
     "b7287d5e04b04624b289ca3cdfa03110": {
      "model_module": "@jupyter-widgets/controls",
      "model_module_version": "2.0.0",
      "model_name": "FloatSliderModel",
      "state": {
       "behavior": "drag-tap",
       "description": "$\\v_0$",
       "layout": "IPY_MODEL_84d6c43d634e4b4db4b9e9d9774ef1c7",
       "min": -100,
       "readout_format": ".1f",
       "step": 0.1,
       "style": "IPY_MODEL_54957cdf485043aa99f3d449a04237bd"
      }
     },
     "b885785ba70d4216867c811bd29e4c0f": {
      "model_module": "@jupyter-widgets/base",
      "model_module_version": "2.0.0",
      "model_name": "LayoutModel",
      "state": {
       "width": "100%"
      }
     },
     "ba358cbf41064a5eb594c5ff8d095509": {
      "model_module": "@jupyter-widgets/controls",
      "model_module_version": "2.0.0",
      "model_name": "SliderStyleModel",
      "state": {
       "description_width": ""
      }
     },
     "baab5086f3e0452aa403d28f67655467": {
      "model_module": "@jupyter-widgets/base",
      "model_module_version": "2.0.0",
      "model_name": "LayoutModel",
      "state": {}
     },
     "bce528fcfc014f27b9d89d838440c596": {
      "model_module": "@jupyter-widgets/base",
      "model_module_version": "2.0.0",
      "model_name": "LayoutModel",
      "state": {}
     },
     "bd449a11efc643e5b6c051a762dd6636": {
      "model_module": "@jupyter-widgets/base",
      "model_module_version": "2.0.0",
      "model_name": "LayoutModel",
      "state": {
       "width": "100%"
      }
     },
     "bdb121df33e44446bf443236bb97de40": {
      "model_module": "@jupyter-widgets/base",
      "model_module_version": "2.0.0",
      "model_name": "LayoutModel",
      "state": {}
     },
     "bf1f60671b5f4574a9fc8e229c8ec28a": {
      "model_module": "@jupyter-widgets/base",
      "model_module_version": "2.0.0",
      "model_name": "LayoutModel",
      "state": {
       "width": "100%"
      }
     },
     "c00c420423e4438999590d925afffeee": {
      "model_module": "@jupyter-widgets/base",
      "model_module_version": "2.0.0",
      "model_name": "LayoutModel",
      "state": {
       "width": "100%"
      }
     },
     "c0506e53e6714c45b32250b32b472475": {
      "model_module": "@jupyter-widgets/controls",
      "model_module_version": "2.0.0",
      "model_name": "FloatSliderModel",
      "state": {
       "behavior": "drag-tap",
       "description": "$\\x_0$",
       "layout": "IPY_MODEL_3b3a507bc8444914a53c25c7c96342ac",
       "max": 10,
       "min": -10,
       "readout_format": ".1f",
       "step": 0.1,
       "style": "IPY_MODEL_d7eaf568d565455ca4ad6f39cf531e08",
       "value": -5.9
      }
     },
     "c107fda4a5b54df1b48e48189ccd74a6": {
      "model_module": "@jupyter-widgets/base",
      "model_module_version": "2.0.0",
      "model_name": "LayoutModel",
      "state": {
       "width": "100%"
      }
     },
     "c118ce61d773450599fc34154095b64d": {
      "model_module": "@jupyter-widgets/base",
      "model_module_version": "2.0.0",
      "model_name": "LayoutModel",
      "state": {}
     },
     "c17bb5dfef5445e981e3add36b7e6fe4": {
      "model_module": "@jupyter-widgets/controls",
      "model_module_version": "2.0.0",
      "model_name": "FloatSliderModel",
      "state": {
       "behavior": "drag-tap",
       "description": "$\\Omega$",
       "layout": "IPY_MODEL_d982a710942f425f80b72cb393e29bd8",
       "max": 5,
       "step": 0.01,
       "style": "IPY_MODEL_6b2e1efee5f74695a5b074af56cd529e",
       "value": 0.91
      }
     },
     "c1ba5123632a4a3cbd88120e39f2d1ca": {
      "model_module": "@jupyter-widgets/controls",
      "model_module_version": "2.0.0",
      "model_name": "FloatSliderModel",
      "state": {
       "behavior": "drag-tap",
       "description": "$\\beta$",
       "layout": "IPY_MODEL_e427197d795a430c937b163dfa51fe1a",
       "max": 3,
       "step": 0.01,
       "style": "IPY_MODEL_ba358cbf41064a5eb594c5ff8d095509",
       "value": 0.2
      }
     },
     "c1d9f35105ff42cea982799905d58bcc": {
      "model_module": "@jupyter-widgets/controls",
      "model_module_version": "2.0.0",
      "model_name": "SliderStyleModel",
      "state": {
       "description_width": ""
      }
     },
     "c30d4ab534c745c4ab3f61b471c370fb": {
      "model_module": "@jupyter-widgets/controls",
      "model_module_version": "2.0.0",
      "model_name": "FloatSliderModel",
      "state": {
       "behavior": "drag-tap",
       "description": "$\\x_0$",
       "layout": "IPY_MODEL_fdbfc32481f543a196d32352ff14b759",
       "max": 10,
       "min": -10,
       "readout_format": ".1f",
       "step": 0.1,
       "style": "IPY_MODEL_35aedbaa7e27406fae5d96eee0ad5c83",
       "value": 1
      }
     },
     "c3a8f72f73ef4fe6ab82f49ddbab9c76": {
      "model_module": "@jupyter-widgets/base",
      "model_module_version": "2.0.0",
      "model_name": "LayoutModel",
      "state": {
       "width": "100%"
      }
     },
     "c56e6c3987844d3aa292d18b0140ced0": {
      "model_module": "@jupyter-widgets/controls",
      "model_module_version": "2.0.0",
      "model_name": "FloatSliderModel",
      "state": {
       "behavior": "drag-tap",
       "description": "$\\x_0$",
       "layout": "IPY_MODEL_bd449a11efc643e5b6c051a762dd6636",
       "max": 10,
       "min": -10,
       "readout_format": ".1f",
       "step": 0.1,
       "style": "IPY_MODEL_eec4e2ef45cb417fa0cd833595cfed32",
       "value": 1
      }
     },
     "c5acb0d909ea45a19043083571f619ed": {
      "model_module": "@jupyter-widgets/controls",
      "model_module_version": "2.0.0",
      "model_name": "IntSliderModel",
      "state": {
       "behavior": "drag-tap",
       "description": "$t_{\\max}$",
       "layout": "IPY_MODEL_cb875b799e4a4f3a84434e2bdea6e309",
       "max": 200,
       "min": 10,
       "style": "IPY_MODEL_e1bebdf9406b43c682733409d22019ad",
       "value": 50
      }
     },
     "c69b64e90e10434b8768ac39e7a277eb": {
      "model_module": "@jupyter-widgets/controls",
      "model_module_version": "2.0.0",
      "model_name": "SliderStyleModel",
      "state": {
       "description_width": ""
      }
     },
     "c913aeafe655411883fce09fb3211cf6": {
      "model_module": "@jupyter-widgets/controls",
      "model_module_version": "2.0.0",
      "model_name": "FloatSliderModel",
      "state": {
       "behavior": "drag-tap",
       "description": "$\\v_0$",
       "layout": "IPY_MODEL_8f2f263be9a44506b74855c92e6ad6a4",
       "min": -100,
       "readout_format": ".1f",
       "step": 0.1,
       "style": "IPY_MODEL_c1d9f35105ff42cea982799905d58bcc"
      }
     },
     "ca3953efb1ca4d20ade24c32ef7a2b04": {
      "model_module": "@jupyter-widgets/output",
      "model_module_version": "1.0.0",
      "model_name": "OutputModel",
      "state": {
       "layout": "IPY_MODEL_a1a9a4459a6840358aef95766ef87416",
       "outputs": [
        {
         "data": {
          "image/png": "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",
          "text/plain": "<Figure size 640x480 with 1 Axes>"
         },
         "metadata": {},
         "output_type": "display_data"
        }
       ]
      }
     },
     "ca8e3688f8fe4a06a749393325e62a2b": {
      "model_module": "@jupyter-widgets/controls",
      "model_module_version": "2.0.0",
      "model_name": "FloatSliderModel",
      "state": {
       "behavior": "drag-tap",
       "description": "$\\v_0$",
       "layout": "IPY_MODEL_975f3e57cc4941c481805172a686a5ae",
       "min": -100,
       "readout_format": ".1f",
       "step": 0.1,
       "style": "IPY_MODEL_1afd3454175245149b6de64951586b42"
      }
     },
     "cb875b799e4a4f3a84434e2bdea6e309": {
      "model_module": "@jupyter-widgets/base",
      "model_module_version": "2.0.0",
      "model_name": "LayoutModel",
      "state": {
       "width": "100%"
      }
     },
     "cb8c678da4a64859bd10b3bd405392fb": {
      "model_module": "@jupyter-widgets/base",
      "model_module_version": "2.0.0",
      "model_name": "LayoutModel",
      "state": {
       "width": "100%"
      }
     },
     "cc5d0ba8e03b46eb8a34738fbaeef886": {
      "model_module": "@jupyter-widgets/controls",
      "model_module_version": "2.0.0",
      "model_name": "VBoxModel",
      "state": {
       "_dom_classes": [
        "widget-interact"
       ],
       "children": [
        "IPY_MODEL_af3bc509a9ff415db9a97326fe036326",
        "IPY_MODEL_74178249385740fbb0eb973128f44ed4",
        "IPY_MODEL_93a9ba1b1ae34f7d9ec771ae251e20c1",
        "IPY_MODEL_f8c581f5ab76491e811301ca516d6855",
        "IPY_MODEL_f6d8cf7827e6438891ce3a6de4932675",
        "IPY_MODEL_93ea6bcd18d24e02946e54b4a206870f",
        "IPY_MODEL_2b57f5b0739a4827b8fb6e30232f14f3",
        "IPY_MODEL_1c3a3bea7d98448cafd293479baa70ad"
       ],
       "layout": "IPY_MODEL_60ae08f034f14fcca3123832f6fda888"
      }
     },
     "cce3216c340c441492bbe4dd7618da79": {
      "model_module": "@jupyter-widgets/base",
      "model_module_version": "2.0.0",
      "model_name": "LayoutModel",
      "state": {}
     },
     "cd10b41d934f4fc79bca7ac1a7b95865": {
      "model_module": "@jupyter-widgets/controls",
      "model_module_version": "2.0.0",
      "model_name": "FloatSliderModel",
      "state": {
       "behavior": "drag-tap",
       "description": "$\\Omega$",
       "layout": "IPY_MODEL_259604e26fb6498e9e2cf76689131939",
       "max": 5,
       "step": 0.01,
       "style": "IPY_MODEL_0a64a128e46f448186abe8167e32f8d5",
       "value": 1.2
      }
     },
     "cd13c147a7724d9cb64958f5a18c32b7": {
      "model_module": "@jupyter-widgets/base",
      "model_module_version": "2.0.0",
      "model_name": "LayoutModel",
      "state": {}
     },
     "cddd90e7232c49ed80ec70c02dd8671e": {
      "model_module": "@jupyter-widgets/controls",
      "model_module_version": "2.0.0",
      "model_name": "IntSliderModel",
      "state": {
       "behavior": "drag-tap",
       "description": "$t_{\\max}$",
       "layout": "IPY_MODEL_48bd4c74869a493c9195ffbc18c5d661",
       "max": 200,
       "min": 10,
       "style": "IPY_MODEL_adb83eebf1e1498b8cc36292b4811c0d",
       "value": 50
      }
     },
     "ced576a977d8420c819c9cb0ab6e1daa": {
      "model_module": "@jupyter-widgets/base",
      "model_module_version": "2.0.0",
      "model_name": "LayoutModel",
      "state": {
       "width": "100%"
      }
     },
     "cf2a70e1a68944248a1cdf7e18998c61": {
      "model_module": "@jupyter-widgets/controls",
      "model_module_version": "2.0.0",
      "model_name": "SliderStyleModel",
      "state": {
       "description_width": ""
      }
     },
     "cf942f4aeda5419cac92ed6d4f70c247": {
      "model_module": "@jupyter-widgets/controls",
      "model_module_version": "2.0.0",
      "model_name": "FloatSliderModel",
      "state": {
       "behavior": "drag-tap",
       "description": "$\\omega_0$",
       "layout": "IPY_MODEL_2d7b5e5e0f9f442dabc28c7dad0fc3e8",
       "max": 5,
       "step": 0.01,
       "style": "IPY_MODEL_b4296cc312ff486f8a85d43552847877",
       "value": 3
      }
     },
     "cfda1cd6b4384483a3eef6d98b104f45": {
      "model_module": "@jupyter-widgets/controls",
      "model_module_version": "2.0.0",
      "model_name": "SliderStyleModel",
      "state": {
       "description_width": ""
      }
     },
     "d17bf58ed6a042929c25920824dd498e": {
      "model_module": "@jupyter-widgets/base",
      "model_module_version": "2.0.0",
      "model_name": "LayoutModel",
      "state": {
       "width": "100%"
      }
     },
     "d1c8808ee18948a48442ff12fde22831": {
      "model_module": "@jupyter-widgets/controls",
      "model_module_version": "2.0.0",
      "model_name": "SliderStyleModel",
      "state": {
       "description_width": ""
      }
     },
     "d1ca025d1bc94616a51e4bc578767f2b": {
      "model_module": "@jupyter-widgets/base",
      "model_module_version": "2.0.0",
      "model_name": "LayoutModel",
      "state": {
       "width": "100%"
      }
     },
     "d345bb604e6c4a0d8bc6e2f587819d4d": {
      "model_module": "@jupyter-widgets/base",
      "model_module_version": "2.0.0",
      "model_name": "LayoutModel",
      "state": {
       "width": "100%"
      }
     },
     "d44a89d0a8f04d84a7adbcd7eeeaed0a": {
      "model_module": "@jupyter-widgets/base",
      "model_module_version": "2.0.0",
      "model_name": "LayoutModel",
      "state": {
       "width": "100%"
      }
     },
     "d4ede732646b411aad66061e809edb81": {
      "model_module": "@jupyter-widgets/base",
      "model_module_version": "2.0.0",
      "model_name": "LayoutModel",
      "state": {
       "width": "100%"
      }
     },
     "d5289030000b48dc9d9f7b9b52a808fc": {
      "model_module": "@jupyter-widgets/controls",
      "model_module_version": "2.0.0",
      "model_name": "FloatSliderModel",
      "state": {
       "behavior": "drag-tap",
       "description": "$\\x_0$",
       "layout": "IPY_MODEL_68d5c181c32f4d2bbdfd549a11db2e6a",
       "max": 10,
       "min": -10,
       "readout_format": ".1f",
       "step": 0.1,
       "style": "IPY_MODEL_60afc9df6b964e4ba43a4b3624547102",
       "value": 1
      }
     },
     "d52fd4366b9e400ead23b3667e2f9321": {
      "model_module": "@jupyter-widgets/controls",
      "model_module_version": "2.0.0",
      "model_name": "VBoxModel",
      "state": {
       "_dom_classes": [
        "widget-interact"
       ],
       "children": [
        "IPY_MODEL_d8f08d4d83444f56b52f4dc2d7afaf08",
        "IPY_MODEL_9e8c7256ec6f4b7587d31e58c17f1e71",
        "IPY_MODEL_0ec66e658ec04d83bb90c724809201fe",
        "IPY_MODEL_8e98dcec44e44b0ebcdb1d299b4c8102",
        "IPY_MODEL_df4dcff8523a461894c3373b3f702a5d",
        "IPY_MODEL_dd78cd61d65e4117954e34438d38f332",
        "IPY_MODEL_a0b8ccf9d0a14a77a962c8d7ffb53168",
        "IPY_MODEL_3b7172f0a7c84e87bcecd0835754544d"
       ],
       "layout": "IPY_MODEL_82d7bbaf031f43b880042feee56d6ac2"
      }
     },
     "d5e365566c1c49998ab01ec211ed2887": {
      "model_module": "@jupyter-widgets/output",
      "model_module_version": "1.0.0",
      "model_name": "OutputModel",
      "state": {
       "layout": "IPY_MODEL_0604036f090b440fa8c66c8c690b0d68",
       "outputs": [
        {
         "data": {
          "image/png": "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",
          "text/plain": "<Figure size 640x480 with 1 Axes>"
         },
         "metadata": {},
         "output_type": "display_data"
        }
       ]
      }
     },
     "d7eaf568d565455ca4ad6f39cf531e08": {
      "model_module": "@jupyter-widgets/controls",
      "model_module_version": "2.0.0",
      "model_name": "SliderStyleModel",
      "state": {
       "description_width": ""
      }
     },
     "d85be7b05fe84f9cbd3661c352a61b63": {
      "model_module": "@jupyter-widgets/controls",
      "model_module_version": "2.0.0",
      "model_name": "FloatSliderModel",
      "state": {
       "behavior": "drag-tap",
       "description": "$\\v_0$",
       "layout": "IPY_MODEL_d4ede732646b411aad66061e809edb81",
       "min": -100,
       "readout_format": ".1f",
       "step": 0.1,
       "style": "IPY_MODEL_198d9076a44247509dc21593a8004156"
      }
     },
     "d8f08d4d83444f56b52f4dc2d7afaf08": {
      "model_module": "@jupyter-widgets/controls",
      "model_module_version": "2.0.0",
      "model_name": "IntSliderModel",
      "state": {
       "behavior": "drag-tap",
       "description": "$t_{\\max}$",
       "layout": "IPY_MODEL_9b47aff3606d446f9bb8045746193ba4",
       "max": 200,
       "min": 10,
       "style": "IPY_MODEL_93a09053c7e24e5b8beef2dab724831a",
       "value": 50
      }
     },
     "d982a710942f425f80b72cb393e29bd8": {
      "model_module": "@jupyter-widgets/base",
      "model_module_version": "2.0.0",
      "model_name": "LayoutModel",
      "state": {
       "width": "100%"
      }
     },
     "d99ce24ad081456899f3da0362e79a08": {
      "model_module": "@jupyter-widgets/controls",
      "model_module_version": "2.0.0",
      "model_name": "SliderStyleModel",
      "state": {
       "description_width": ""
      }
     },
     "d9ef51c30dd54877b02aa5033eb304ca": {
      "model_module": "@jupyter-widgets/controls",
      "model_module_version": "2.0.0",
      "model_name": "SliderStyleModel",
      "state": {
       "description_width": ""
      }
     },
     "dbbc6b92dd2d45e5926eb0e48b44fc38": {
      "model_module": "@jupyter-widgets/base",
      "model_module_version": "2.0.0",
      "model_name": "LayoutModel",
      "state": {}
     },
     "dd78cd61d65e4117954e34438d38f332": {
      "model_module": "@jupyter-widgets/controls",
      "model_module_version": "2.0.0",
      "model_name": "FloatSliderModel",
      "state": {
       "behavior": "drag-tap",
       "description": "$\\x_0$",
       "layout": "IPY_MODEL_aa282cc09618429f8a411d8c756e61ab",
       "max": 10,
       "min": -10,
       "readout_format": ".1f",
       "step": 0.1,
       "style": "IPY_MODEL_2efcefdef11c4b03843d5bd3875f1d04",
       "value": 1
      }
     },
     "df4b4f3f4dfa440f9a9802b8e86dddfa": {
      "model_module": "@jupyter-widgets/controls",
      "model_module_version": "2.0.0",
      "model_name": "SliderStyleModel",
      "state": {
       "description_width": ""
      }
     },
     "df4dcff8523a461894c3373b3f702a5d": {
      "model_module": "@jupyter-widgets/controls",
      "model_module_version": "2.0.0",
      "model_name": "FloatSliderModel",
      "state": {
       "behavior": "drag-tap",
       "description": "$\\Omega$",
       "layout": "IPY_MODEL_71e0fd8baa184c91b426eb86dd589408",
       "max": 5,
       "step": 0.01,
       "style": "IPY_MODEL_68c136ce0e2f48918a5c2cf6976bfc73",
       "value": 1.2
      }
     },
     "dff77b03d548438cb4efdac830ec4c19": {
      "model_module": "@jupyter-widgets/base",
      "model_module_version": "2.0.0",
      "model_name": "LayoutModel",
      "state": {
       "width": "100%"
      }
     },
     "e0eeeb91033f4a6da02c2361923675a8": {
      "model_module": "@jupyter-widgets/base",
      "model_module_version": "2.0.0",
      "model_name": "LayoutModel",
      "state": {
       "width": "100%"
      }
     },
     "e129130d01ee4e378f49564a2884a9b5": {
      "model_module": "@jupyter-widgets/base",
      "model_module_version": "2.0.0",
      "model_name": "LayoutModel",
      "state": {
       "width": "100%"
      }
     },
     "e170abfbadb4443d9f172ce1c65b269e": {
      "model_module": "@jupyter-widgets/base",
      "model_module_version": "2.0.0",
      "model_name": "LayoutModel",
      "state": {
       "width": "100%"
      }
     },
     "e1bebdf9406b43c682733409d22019ad": {
      "model_module": "@jupyter-widgets/controls",
      "model_module_version": "2.0.0",
      "model_name": "SliderStyleModel",
      "state": {
       "description_width": ""
      }
     },
     "e2112648f2754bbca1123db44006413e": {
      "model_module": "@jupyter-widgets/controls",
      "model_module_version": "2.0.0",
      "model_name": "VBoxModel",
      "state": {
       "_dom_classes": [
        "widget-interact"
       ],
       "children": [
        "IPY_MODEL_a3b425ac404a4be29c3e168a16b8a5ed",
        "IPY_MODEL_11bb995ed4f442b2bc6774925d3a706d",
        "IPY_MODEL_072a9d62a53e403198e6b2d2f33bbc0e",
        "IPY_MODEL_8964ad0037584b80abc4c44d55f2604e",
        "IPY_MODEL_a8ae796d653649bdb7da68cfb0b02446",
        "IPY_MODEL_c30d4ab534c745c4ab3f61b471c370fb",
        "IPY_MODEL_24cb77eb9f8f45bd971a2bb3068410c8",
        "IPY_MODEL_46590c1b79384038b9af526ee4779e4d"
       ],
       "layout": "IPY_MODEL_87d01589a7404cf98a1af72719695d56"
      }
     },
     "e2e062762fb8416cb372a80a9d31c546": {
      "model_module": "@jupyter-widgets/controls",
      "model_module_version": "2.0.0",
      "model_name": "FloatSliderModel",
      "state": {
       "behavior": "drag-tap",
       "description": "$\\Omega$",
       "layout": "IPY_MODEL_63e62cc637b44cfe9eafd2318e475f6d",
       "max": 5,
       "step": 0.01,
       "style": "IPY_MODEL_82631c8e3a57492984f0d3fd2ff1d4e4",
       "value": 0.59
      }
     },
     "e34a6cf087954d5abf12b679f738cbe9": {
      "model_module": "@jupyter-widgets/base",
      "model_module_version": "2.0.0",
      "model_name": "LayoutModel",
      "state": {
       "width": "100%"
      }
     },
     "e427197d795a430c937b163dfa51fe1a": {
      "model_module": "@jupyter-widgets/base",
      "model_module_version": "2.0.0",
      "model_name": "LayoutModel",
      "state": {
       "width": "100%"
      }
     },
     "e45e21b42fcc4419b35ca553391fa111": {
      "model_module": "@jupyter-widgets/controls",
      "model_module_version": "2.0.0",
      "model_name": "SliderStyleModel",
      "state": {
       "description_width": ""
      }
     },
     "e472ed94111b4535a3d9f53c1ddeadc2": {
      "model_module": "@jupyter-widgets/controls",
      "model_module_version": "2.0.0",
      "model_name": "SliderStyleModel",
      "state": {
       "description_width": ""
      }
     },
     "e5e011f2f62441eca46182b4b3e1bba3": {
      "model_module": "@jupyter-widgets/controls",
      "model_module_version": "2.0.0",
      "model_name": "IntSliderModel",
      "state": {
       "behavior": "drag-tap",
       "description": "$t_{\\max}$",
       "layout": "IPY_MODEL_b12a2b995162493f91c4afbdab3dfb9e",
       "max": 200,
       "min": 10,
       "style": "IPY_MODEL_f1aa93d2f0c54be9988fb236125a848b",
       "value": 50
      }
     },
     "e622ba2c5d1641ecb0499cbb123be87a": {
      "model_module": "@jupyter-widgets/base",
      "model_module_version": "2.0.0",
      "model_name": "LayoutModel",
      "state": {
       "width": "100%"
      }
     },
     "e66131decc2f41de97e86d5d9083c99e": {
      "model_module": "@jupyter-widgets/base",
      "model_module_version": "2.0.0",
      "model_name": "LayoutModel",
      "state": {
       "width": "100%"
      }
     },
     "e69b078265f946b680341c67d75ad80c": {
      "model_module": "@jupyter-widgets/base",
      "model_module_version": "2.0.0",
      "model_name": "LayoutModel",
      "state": {
       "width": "100%"
      }
     },
     "e717022e18af463396c60efd6c4d0833": {
      "model_module": "@jupyter-widgets/controls",
      "model_module_version": "2.0.0",
      "model_name": "FloatSliderModel",
      "state": {
       "behavior": "drag-tap",
       "description": "$\\Omega$",
       "layout": "IPY_MODEL_4482be655a4c4f398a61c1bd502a739b",
       "max": 5,
       "step": 0.01,
       "style": "IPY_MODEL_90e10b118e2b409c906399345e611a26",
       "value": 1.1
      }
     },
     "e7722cbbba354dd1b1aefdfb6ed6503f": {
      "model_module": "@jupyter-widgets/controls",
      "model_module_version": "2.0.0",
      "model_name": "FloatSliderModel",
      "state": {
       "behavior": "drag-tap",
       "description": "$\\beta$",
       "layout": "IPY_MODEL_45366ad377a14feb927bac78dfd0aa25",
       "max": 3,
       "step": 0.01,
       "style": "IPY_MODEL_040ab037d999421e80f27305e9d380a9",
       "value": 0.26
      }
     },
     "e77e70306e9344299f7a244373399a43": {
      "model_module": "@jupyter-widgets/base",
      "model_module_version": "2.0.0",
      "model_name": "LayoutModel",
      "state": {
       "width": "100%"
      }
     },
     "e8bd25eb20854edb8a45df7a0aa049d5": {
      "model_module": "@jupyter-widgets/controls",
      "model_module_version": "2.0.0",
      "model_name": "VBoxModel",
      "state": {
       "_dom_classes": [
        "widget-interact"
       ],
       "children": [
        "IPY_MODEL_ef130446b4b74c93a51996620b0cb12c",
        "IPY_MODEL_a2d5cd577a5040b681887dd6b7832172",
        "IPY_MODEL_974ded6bfc2641aa860092f29942dde0",
        "IPY_MODEL_c17bb5dfef5445e981e3add36b7e6fe4",
        "IPY_MODEL_c56e6c3987844d3aa292d18b0140ced0",
        "IPY_MODEL_3db11145a6454645869d9f9ffdc97724",
        "IPY_MODEL_799625490a6c4621a3caa66c634e586a"
       ],
       "layout": "IPY_MODEL_cce3216c340c441492bbe4dd7618da79"
      }
     },
     "e8c694a0fd764905b07d6639a9cf7b5a": {
      "model_module": "@jupyter-widgets/controls",
      "model_module_version": "2.0.0",
      "model_name": "FloatSliderModel",
      "state": {
       "behavior": "drag-tap",
       "description": "$\\omega_0$",
       "layout": "IPY_MODEL_a8f8e4253df44507a339f4effeec62cc",
       "max": 5,
       "step": 0.01,
       "style": "IPY_MODEL_998916ef01c942f1973268e4bc75836f",
       "value": 0.85
      }
     },
     "eaa1c99435f745f1857f830d592fd1fe": {
      "model_module": "@jupyter-widgets/controls",
      "model_module_version": "2.0.0",
      "model_name": "SliderStyleModel",
      "state": {
       "description_width": ""
      }
     },
     "eaa4181e9b5e4967839a2e19f657f39e": {
      "model_module": "@jupyter-widgets/base",
      "model_module_version": "2.0.0",
      "model_name": "LayoutModel",
      "state": {
       "width": "100%"
      }
     },
     "eb0c7cd2607d4b1c9cc6becac731ce17": {
      "model_module": "@jupyter-widgets/base",
      "model_module_version": "2.0.0",
      "model_name": "LayoutModel",
      "state": {}
     },
     "ed259227cd4241638f3e01d23bbc0719": {
      "model_module": "@jupyter-widgets/base",
      "model_module_version": "2.0.0",
      "model_name": "LayoutModel",
      "state": {}
     },
     "edb3d4ad84f74153ae04c50662b71df2": {
      "model_module": "@jupyter-widgets/base",
      "model_module_version": "2.0.0",
      "model_name": "LayoutModel",
      "state": {}
     },
     "ee4e59fdea8d49e492d628afdcf5fd04": {
      "model_module": "@jupyter-widgets/base",
      "model_module_version": "2.0.0",
      "model_name": "LayoutModel",
      "state": {
       "width": "100%"
      }
     },
     "eec4e2ef45cb417fa0cd833595cfed32": {
      "model_module": "@jupyter-widgets/controls",
      "model_module_version": "2.0.0",
      "model_name": "SliderStyleModel",
      "state": {
       "description_width": ""
      }
     },
     "ef06d79703764d0b91e0832213873c03": {
      "model_module": "@jupyter-widgets/base",
      "model_module_version": "2.0.0",
      "model_name": "LayoutModel",
      "state": {
       "width": "100%"
      }
     },
     "ef130446b4b74c93a51996620b0cb12c": {
      "model_module": "@jupyter-widgets/controls",
      "model_module_version": "2.0.0",
      "model_name": "IntSliderModel",
      "state": {
       "behavior": "drag-tap",
       "description": "$t_{\\max}$",
       "layout": "IPY_MODEL_f16712fc90ce430cbcfef984ef21bc55",
       "max": 200,
       "min": 10,
       "style": "IPY_MODEL_98f44d0ca43f4fe999e449b9ce0b034d",
       "value": 130
      }
     },
     "ef61ee1b16154819b183f1b997582c32": {
      "model_module": "@jupyter-widgets/controls",
      "model_module_version": "2.0.0",
      "model_name": "FloatSliderModel",
      "state": {
       "behavior": "drag-tap",
       "description": "$\\v_0$",
       "layout": "IPY_MODEL_e77e70306e9344299f7a244373399a43",
       "min": -100,
       "readout_format": ".1f",
       "step": 0.1,
       "style": "IPY_MODEL_2a91de84233c4eecaa934fae7a948bba"
      }
     },
     "f08fb4a06fca476399acdfd71728c152": {
      "model_module": "@jupyter-widgets/controls",
      "model_module_version": "2.0.0",
      "model_name": "SliderStyleModel",
      "state": {
       "description_width": ""
      }
     },
     "f0f77b884184423c9135dc7cd8a07153": {
      "model_module": "@jupyter-widgets/controls",
      "model_module_version": "2.0.0",
      "model_name": "FloatSliderModel",
      "state": {
       "behavior": "drag-tap",
       "description": "$\\x_0$",
       "layout": "IPY_MODEL_9bee5917d2f341d0bf74b53d28505d3c",
       "max": 10,
       "min": -10,
       "readout_format": ".1f",
       "step": 0.1,
       "style": "IPY_MODEL_6c472fc9f61e4848bc58a6e5c6ddcdd6",
       "value": 1
      }
     },
     "f1596a9ed81147018debd3efa5f53097": {
      "model_module": "@jupyter-widgets/controls",
      "model_module_version": "2.0.0",
      "model_name": "FloatSliderModel",
      "state": {
       "behavior": "drag-tap",
       "description": "a",
       "layout": "IPY_MODEL_7afd2032711746329e8c06b467778d4c",
       "max": 3,
       "step": 0.01,
       "style": "IPY_MODEL_003ea9d69fe14f54b44bfb76e1856bd3",
       "value": 1.1
      }
     },
     "f16712fc90ce430cbcfef984ef21bc55": {
      "model_module": "@jupyter-widgets/base",
      "model_module_version": "2.0.0",
      "model_name": "LayoutModel",
      "state": {
       "width": "100%"
      }
     },
     "f179b9b77fa54684b2f8efeb26659287": {
      "model_module": "@jupyter-widgets/controls",
      "model_module_version": "2.0.0",
      "model_name": "FloatSliderModel",
      "state": {
       "behavior": "drag-tap",
       "description": "$\\beta$",
       "layout": "IPY_MODEL_72b71bd85ec749e6b9cab8326a719c03",
       "max": 3,
       "step": 0.01,
       "style": "IPY_MODEL_b2232323cae240a0895aa92c27bd9274",
       "value": 0.1
      }
     },
     "f1aa93d2f0c54be9988fb236125a848b": {
      "model_module": "@jupyter-widgets/controls",
      "model_module_version": "2.0.0",
      "model_name": "SliderStyleModel",
      "state": {
       "description_width": ""
      }
     },
     "f2be6625293d48179bb7143c8f2c8cfd": {
      "model_module": "@jupyter-widgets/controls",
      "model_module_version": "2.0.0",
      "model_name": "SliderStyleModel",
      "state": {
       "description_width": ""
      }
     },
     "f2d8c03a58aa484faff1188f970dde33": {
      "model_module": "@jupyter-widgets/controls",
      "model_module_version": "2.0.0",
      "model_name": "SliderStyleModel",
      "state": {
       "description_width": ""
      }
     },
     "f333e6d302114de9b24206d375012d6d": {
      "model_module": "@jupyter-widgets/base",
      "model_module_version": "2.0.0",
      "model_name": "LayoutModel",
      "state": {
       "width": "100%"
      }
     },
     "f353a187f2424433bbcb6ea5f373dbd5": {
      "model_module": "@jupyter-widgets/controls",
      "model_module_version": "2.0.0",
      "model_name": "IntSliderModel",
      "state": {
       "behavior": "drag-tap",
       "description": "$t_{\\max}$",
       "layout": "IPY_MODEL_31ae8a85f48846f18fe5747cc98f4d00",
       "max": 200,
       "min": 10,
       "style": "IPY_MODEL_3c8f62613cbc41f68901578841b2c4ac",
       "value": 130
      }
     },
     "f414d5c14fe747c1a52000f6838ed966": {
      "model_module": "@jupyter-widgets/controls",
      "model_module_version": "2.0.0",
      "model_name": "VBoxModel",
      "state": {
       "_dom_classes": [
        "widget-interact"
       ],
       "children": [
        "IPY_MODEL_4fd3ad5dc9f64d539f416d9add4cc175",
        "IPY_MODEL_e8c694a0fd764905b07d6639a9cf7b5a",
        "IPY_MODEL_49759463e94546349a27a631353bfd35",
        "IPY_MODEL_7361018d7ed0444f94d99e0829af8eb4",
        "IPY_MODEL_c0506e53e6714c45b32250b32b472475",
        "IPY_MODEL_6c9beb84c6eb40868cd5e4fd341e1535",
        "IPY_MODEL_486557759ebf472d851485f4bbaf36db"
       ],
       "layout": "IPY_MODEL_edb3d4ad84f74153ae04c50662b71df2"
      }
     },
     "f50da1a5e98440499b082fda29676ef8": {
      "model_module": "@jupyter-widgets/base",
      "model_module_version": "2.0.0",
      "model_name": "LayoutModel",
      "state": {
       "width": "100%"
      }
     },
     "f6d8cf7827e6438891ce3a6de4932675": {
      "model_module": "@jupyter-widgets/controls",
      "model_module_version": "2.0.0",
      "model_name": "FloatSliderModel",
      "state": {
       "behavior": "drag-tap",
       "description": "$\\Omega$",
       "layout": "IPY_MODEL_a5db9224605a459e94c277e6e92a9524",
       "max": 5,
       "step": 0.01,
       "style": "IPY_MODEL_f2d8c03a58aa484faff1188f970dde33",
       "value": 1.1
      }
     },
     "f80c7d7bc0fc44e9ae21e4333bb458c6": {
      "model_module": "@jupyter-widgets/controls",
      "model_module_version": "2.0.0",
      "model_name": "FloatSliderModel",
      "state": {
       "behavior": "drag-tap",
       "description": "$\\v_0$",
       "layout": "IPY_MODEL_560ce07af6db4148bdde7c77489953f3",
       "min": -100,
       "readout_format": ".1f",
       "step": 0.1,
       "style": "IPY_MODEL_ff65f5949ce54d4f81a697708cbeba71",
       "value": -3.5
      }
     },
     "f847ab7fc2e74ef7bdcc865c4a93d2f3": {
      "model_module": "@jupyter-widgets/base",
      "model_module_version": "2.0.0",
      "model_name": "LayoutModel",
      "state": {
       "width": "100%"
      }
     },
     "f872bb36a3fa4f0784670ad3981222f6": {
      "model_module": "@jupyter-widgets/controls",
      "model_module_version": "2.0.0",
      "model_name": "FloatSliderModel",
      "state": {
       "behavior": "drag-tap",
       "description": "$\\omega_0$",
       "layout": "IPY_MODEL_71a827386a154fd7b404bfe159d37e94",
       "max": 10,
       "step": 0.01,
       "style": "IPY_MODEL_9b9d162800b6445886067446335b055d",
       "value": 0.26
      }
     },
     "f8c581f5ab76491e811301ca516d6855": {
      "model_module": "@jupyter-widgets/controls",
      "model_module_version": "2.0.0",
      "model_name": "FloatSliderModel",
      "state": {
       "behavior": "drag-tap",
       "description": "a",
       "layout": "IPY_MODEL_e34a6cf087954d5abf12b679f738cbe9",
       "max": 3,
       "step": 0.01,
       "style": "IPY_MODEL_4a16de147e0f4bf18800e2472c3b62ae",
       "value": 0.9999999999999999
      }
     },
     "f8d65d178c95419b85f88bce8cf378a9": {
      "model_module": "@jupyter-widgets/base",
      "model_module_version": "2.0.0",
      "model_name": "LayoutModel",
      "state": {
       "width": "100%"
      }
     },
     "f92fbe3578444143ab42c447fac1245a": {
      "model_module": "@jupyter-widgets/controls",
      "model_module_version": "2.0.0",
      "model_name": "SliderStyleModel",
      "state": {
       "description_width": ""
      }
     },
     "fb01070e10564ebf965a696826d63281": {
      "model_module": "@jupyter-widgets/base",
      "model_module_version": "2.0.0",
      "model_name": "LayoutModel",
      "state": {
       "width": "100%"
      }
     },
     "fb310b6c32024fb0a8651912b222496f": {
      "model_module": "@jupyter-widgets/base",
      "model_module_version": "2.0.0",
      "model_name": "LayoutModel",
      "state": {
       "width": "100%"
      }
     },
     "fcbc2f4f639647918cb39c753ecfe662": {
      "model_module": "@jupyter-widgets/controls",
      "model_module_version": "2.0.0",
      "model_name": "FloatSliderModel",
      "state": {
       "behavior": "drag-tap",
       "description": "$\\x_0$",
       "layout": "IPY_MODEL_a60eded42b3c4a81ba165e409eff82ca",
       "max": 10,
       "min": -10,
       "readout_format": ".1f",
       "step": 0.1,
       "style": "IPY_MODEL_1df22fe00359453c8cccbbb9c41c2ca2",
       "value": -4.4
      }
     },
     "fdbfc32481f543a196d32352ff14b759": {
      "model_module": "@jupyter-widgets/base",
      "model_module_version": "2.0.0",
      "model_name": "LayoutModel",
      "state": {
       "width": "100%"
      }
     },
     "fe579e421019412a89a34726707ad532": {
      "model_module": "@jupyter-widgets/controls",
      "model_module_version": "2.0.0",
      "model_name": "FloatSliderModel",
      "state": {
       "behavior": "drag-tap",
       "description": "a",
       "layout": "IPY_MODEL_e66131decc2f41de97e86d5d9083c99e",
       "max": 3,
       "step": 0.01,
       "style": "IPY_MODEL_a2c344e610624f07b110e7e32776689d",
       "value": 1.1
      }
     },
     "ff65f5949ce54d4f81a697708cbeba71": {
      "model_module": "@jupyter-widgets/controls",
      "model_module_version": "2.0.0",
      "model_name": "SliderStyleModel",
      "state": {
       "description_width": ""
      }
     },
     "ffd6c92844d2450f8ea50d097d7834ec": {
      "model_module": "@jupyter-widgets/base",
      "model_module_version": "2.0.0",
      "model_name": "LayoutModel",
      "state": {
       "width": "100%"
      }
     },
     "ffe65a3e26fc4a02b148bed9d4b341bb": {
      "model_module": "@jupyter-widgets/base",
      "model_module_version": "2.0.0",
      "model_name": "LayoutModel",
      "state": {
       "width": "100%"
      }
     }
    },
    "version_major": 2,
    "version_minor": 0
   }
  }
 },
 "nbformat": 4,
 "nbformat_minor": 5
}
