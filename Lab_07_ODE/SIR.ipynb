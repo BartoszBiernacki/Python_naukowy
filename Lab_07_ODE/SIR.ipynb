{
 "cells": [
  {
   "cell_type": "markdown",
   "id": "11985778",
   "metadata": {},
   "source": [
    "# Projekt VII\n",
    "*❤ Analizę Matematyczną  - Całkowanie Równań*\n",
    "\n",
    "---\n",
    "\n",
    "## Opis\n",
    "\n",
    "* Rozwiązać numerycznie układ równań różniczkowych SIR.\n",
    "* Wyniki zwizualizować.\n",
    "\n",
    "\\begin{align}\n",
    "    \\frac{dS}{dt} &= -\\beta SI \\\\\n",
    "    \\frac{dI}{dt} &= \\beta SI - \\gamma I \\\\\n",
    "    \\frac{dR}{dt} &= \\gamma I\n",
    "\\end{align}"
   ]
  },
  {
   "cell_type": "code",
   "execution_count": 20,
   "id": "537e0197",
   "metadata": {},
   "outputs": [],
   "source": [
    "import numpy as np\n",
    "from scipy.integrate import odeint\n",
    "import matplotlib.pyplot as plt\n",
    "import ipywidgets as widgets\n",
    "import seaborn as sns"
   ]
  },
  {
   "cell_type": "code",
   "execution_count": 67,
   "id": "8a92bef6",
   "metadata": {},
   "outputs": [
    {
     "data": {
      "application/vnd.jupyter.widget-view+json": {
       "model_id": "e4595f9d11be4204803c8d8275924454",
       "version_major": 2,
       "version_minor": 0
      },
      "text/plain": [
       "interactive(children=(FloatSlider(value=0.3, description='$\\\\beta$', layout=Layout(width='100%'), max=1.0, rea…"
      ]
     },
     "metadata": {},
     "output_type": "display_data"
    }
   ],
   "source": [
    "def dydt(y, t, beta, gamma) -> list[float]:\n",
    "    S, I, R = y\n",
    "    \n",
    "    return [-beta*S*I, beta*S*I-gamma*I, gamma*I]\n",
    "\n",
    "\n",
    "def SIR(beta: float = 0.2, gamma: float = 0.05, t_max: int = 200):\n",
    "    \n",
    "    t=np.arange(0, t_max, 0.01)\n",
    "\n",
    "    sol = odeint(\n",
    "        func=dydt,\n",
    "        y0=[0.990, 0.001, 0.00],\n",
    "        t=t,\n",
    "        args=(beta, gamma)\n",
    "    )\n",
    "\n",
    "    plt.plot(t, sol[:, 0], label='S')\n",
    "    plt.plot(t, sol[:, 1], label='I')\n",
    "    plt.plot(t, sol[:, 2], label='r')\n",
    "    \n",
    "    plt.legend(loc='best')\n",
    "    sns.despine()\n",
    "    plt.show()\n",
    "\n",
    "\n",
    "iplot = widgets.interact(\n",
    "    SIR,\n",
    "    beta=widgets.FloatSlider(\n",
    "        value=0.30, min=0., max=1, step=0.001, readout_format='.3f',\n",
    "        description=r'$\\beta$', layout={'width': '100%'}),\n",
    "    gamma=widgets.FloatSlider(\n",
    "        value=0.10, min=0., max=1, step=0.001, readout_format='.3f',\n",
    "        description=r'$\\gamma$', layout={'width': '100%'}),\n",
    "    t_max=widgets.IntSlider(\n",
    "        value=100, min=10, max=500, step=10,\n",
    "        description=r'$t_{\\max}$', layout={'width': '100%'}),\n",
    ")"
   ]
  }
 ],
 "metadata": {
  "kernelspec": {
   "display_name": "Python [conda env:python_naukowy]",
   "language": "python",
   "name": "conda-env-python_naukowy-py"
  },
  "language_info": {
   "codemirror_mode": {
    "name": "ipython",
    "version": 3
   },
   "file_extension": ".py",
   "mimetype": "text/x-python",
   "name": "python",
   "nbconvert_exporter": "python",
   "pygments_lexer": "ipython3",
   "version": "3.11.5"
  }
 },
 "nbformat": 4,
 "nbformat_minor": 5
}
